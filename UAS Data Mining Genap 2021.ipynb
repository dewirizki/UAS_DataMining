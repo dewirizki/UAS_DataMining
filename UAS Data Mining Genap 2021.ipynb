{
  "nbformat": 4,
  "nbformat_minor": 0,
  "metadata": {
    "colab": {
      "name": "Bismillah data mining.ipynb",
      "provenance": [],
      "authorship_tag": "ABX9TyOndOqIj+Io3pzLTuxUdWeQ",
      "include_colab_link": true
    },
    "kernelspec": {
      "name": "python3",
      "display_name": "Python 3"
    },
    "language_info": {
      "name": "python"
    }
  },
  "cells": [
    {
      "cell_type": "markdown",
      "metadata": {
        "id": "view-in-github",
        "colab_type": "text"
      },
      "source": [
        "<a href=\"https://colab.research.google.com/github/dewirizki/UAS_DataMining/blob/main/UAS%20Data%20Mining%20Genap%202021.ipynb\" target=\"_parent\"><img src=\"https://colab.research.google.com/assets/colab-badge.svg\" alt=\"Open In Colab\"/></a>"
      ]
    },
    {
      "cell_type": "markdown",
      "metadata": {
        "id": "CRKC2P0teq2g"
      },
      "source": [
        "# Data Mining dengan Tema Economic Growth (Pertumbuhan Ekonomi)\n",
        "\n"
      ]
    },
    {
      "cell_type": "code",
      "metadata": {
        "id": "EUCmZdbddNv9"
      },
      "source": [
        "#Mengimport module yang akan digunakan\n",
        "import warnings; warnings.simplefilter('ignore'); warnings.filterwarnings('ignore')\n",
        "import scipy, itertools, pandas as pd, matplotlib.pyplot as plt, seaborn as sns, numpy as np\n",
        "from scipy import linalg\n",
        "from sklearn.preprocessing import LabelEncoder\n",
        "from sklearn.model_selection import train_test_split\n",
        "from sklearn.neighbors import KNeighborsClassifier\n",
        "from sklearn.metrics import classification_report\n",
        "from sklearn.metrics import confusion_matrix\n",
        "from sklearn import preprocessing\n",
        "import matplotlib.cm as cm\n",
        "from collections import Counter\n",
        "plt.style.use('bmh'); sns.set()"
      ],
      "execution_count": 105,
      "outputs": []
    },
    {
      "cell_type": "markdown",
      "metadata": {
        "id": "kVuMU8ce3QB-"
      },
      "source": [
        "## Data Pekerja berdasarkan Pekerjaan"
      ]
    },
    {
      "cell_type": "markdown",
      "metadata": {
        "id": "4hlps7Vv264_"
      },
      "source": [
        "### Exploratory Data Analysis Dataset Employment by Occupation"
      ]
    },
    {
      "cell_type": "code",
      "metadata": {
        "id": "z1oBHRpq3AwY"
      },
      "source": [
        "data_job = pd.read_csv('/content/Data/employment by occupation.csv')"
      ],
      "execution_count": 106,
      "outputs": []
    },
    {
      "cell_type": "code",
      "metadata": {
        "colab": {
          "base_uri": "https://localhost:8080/",
          "height": 572
        },
        "id": "Q0y_OA2g8bV9",
        "outputId": "ddfdaf52-c60d-453c-95e8-8dbf0f62decb"
      },
      "source": [
        "data_job"
      ],
      "execution_count": 107,
      "outputs": [
        {
          "output_type": "execute_result",
          "data": {
            "text/html": [
              "<div>\n",
              "<style scoped>\n",
              "    .dataframe tbody tr th:only-of-type {\n",
              "        vertical-align: middle;\n",
              "    }\n",
              "\n",
              "    .dataframe tbody tr th {\n",
              "        vertical-align: top;\n",
              "    }\n",
              "\n",
              "    .dataframe thead th {\n",
              "        text-align: right;\n",
              "    }\n",
              "</style>\n",
              "<table border=\"1\" class=\"dataframe\">\n",
              "  <thead>\n",
              "    <tr style=\"text-align: right;\">\n",
              "      <th></th>\n",
              "      <th>Countries</th>\n",
              "      <th>Year(s)</th>\n",
              "      <th>Professionals, technical and related workers</th>\n",
              "      <th>Administrative, executive and managerial workers</th>\n",
              "      <th>Clerical and related workers</th>\n",
              "      <th>Sales workers and services workers</th>\n",
              "      <th>Agricultural, animal husbandry and forestry workers; fishermen and hunters</th>\n",
              "      <th>Production and related workers, transport equipment operators and labourers</th>\n",
              "      <th>Others</th>\n",
              "      <th>Source</th>\n",
              "    </tr>\n",
              "  </thead>\n",
              "  <tbody>\n",
              "    <tr>\n",
              "      <th>0</th>\n",
              "      <td>Brunei Darussalam</td>\n",
              "      <td>2014.0</td>\n",
              "      <td>33.2</td>\n",
              "      <td>7.6</td>\n",
              "      <td>11.4</td>\n",
              "      <td>19.5</td>\n",
              "      <td>1.4</td>\n",
              "      <td>13.0</td>\n",
              "      <td>13.9</td>\n",
              "      <td>ASEAN Secretariat</td>\n",
              "    </tr>\n",
              "    <tr>\n",
              "      <th>1</th>\n",
              "      <td>Cambodia</td>\n",
              "      <td>2014.0</td>\n",
              "      <td>3.7</td>\n",
              "      <td>0.8</td>\n",
              "      <td>3.9</td>\n",
              "      <td>15.3</td>\n",
              "      <td>58.1</td>\n",
              "      <td>17.3</td>\n",
              "      <td>0.9</td>\n",
              "      <td>ASEAN Secretariat</td>\n",
              "    </tr>\n",
              "    <tr>\n",
              "      <th>2</th>\n",
              "      <td>Indonesia</td>\n",
              "      <td>1999.0</td>\n",
              "      <td>3.9</td>\n",
              "      <td>0.3</td>\n",
              "      <td>4.9</td>\n",
              "      <td>23.6</td>\n",
              "      <td>43.0</td>\n",
              "      <td>24.0</td>\n",
              "      <td>0.3</td>\n",
              "      <td>ASEAN Secretariat</td>\n",
              "    </tr>\n",
              "    <tr>\n",
              "      <th>3</th>\n",
              "      <td>Lao's PDR</td>\n",
              "      <td>NaN</td>\n",
              "      <td>NaN</td>\n",
              "      <td>NaN</td>\n",
              "      <td>NaN</td>\n",
              "      <td>NaN</td>\n",
              "      <td>NaN</td>\n",
              "      <td>NaN</td>\n",
              "      <td>NaN</td>\n",
              "      <td>ASEAN Secretariat</td>\n",
              "    </tr>\n",
              "    <tr>\n",
              "      <th>4</th>\n",
              "      <td>Malaysia</td>\n",
              "      <td>2014.0</td>\n",
              "      <td>20.3</td>\n",
              "      <td>4.9</td>\n",
              "      <td>9.1</td>\n",
              "      <td>23.0</td>\n",
              "      <td>7.2</td>\n",
              "      <td>22.8</td>\n",
              "      <td>12.7</td>\n",
              "      <td>ASEAN Secretariat</td>\n",
              "    </tr>\n",
              "    <tr>\n",
              "      <th>5</th>\n",
              "      <td>Myanmar</td>\n",
              "      <td>NaN</td>\n",
              "      <td>NaN</td>\n",
              "      <td>NaN</td>\n",
              "      <td>NaN</td>\n",
              "      <td>NaN</td>\n",
              "      <td>NaN</td>\n",
              "      <td>NaN</td>\n",
              "      <td>NaN</td>\n",
              "      <td>ASEAN Secretariat</td>\n",
              "    </tr>\n",
              "    <tr>\n",
              "      <th>6</th>\n",
              "      <td>Philippines</td>\n",
              "      <td>2014.0</td>\n",
              "      <td>7.5</td>\n",
              "      <td>15.8</td>\n",
              "      <td>6.2</td>\n",
              "      <td>19.3</td>\n",
              "      <td>13.6</td>\n",
              "      <td>37.1</td>\n",
              "      <td>0.5</td>\n",
              "      <td>ASEAN Secretariat</td>\n",
              "    </tr>\n",
              "    <tr>\n",
              "      <th>7</th>\n",
              "      <td>Singapore</td>\n",
              "      <td>2014.0</td>\n",
              "      <td>36.8</td>\n",
              "      <td>16.3</td>\n",
              "      <td>12.6</td>\n",
              "      <td>12.2</td>\n",
              "      <td>NaN</td>\n",
              "      <td>10.9</td>\n",
              "      <td>11.3</td>\n",
              "      <td>ASEAN Secretariat</td>\n",
              "    </tr>\n",
              "    <tr>\n",
              "      <th>8</th>\n",
              "      <td>Thailand</td>\n",
              "      <td>2014.0</td>\n",
              "      <td>10.3</td>\n",
              "      <td>3.7</td>\n",
              "      <td>3.9</td>\n",
              "      <td>18.9</td>\n",
              "      <td>31.7</td>\n",
              "      <td>21.2</td>\n",
              "      <td>10.2</td>\n",
              "      <td>ASEAN Secretariat</td>\n",
              "    </tr>\n",
              "    <tr>\n",
              "      <th>9</th>\n",
              "      <td>Viet Nam</td>\n",
              "      <td>2014.0</td>\n",
              "      <td>9.2</td>\n",
              "      <td>1.1</td>\n",
              "      <td>1.7</td>\n",
              "      <td>16.1</td>\n",
              "      <td>12.2</td>\n",
              "      <td>19.3</td>\n",
              "      <td>40.3</td>\n",
              "      <td>ASEAN Secretariat</td>\n",
              "    </tr>\n",
              "  </tbody>\n",
              "</table>\n",
              "</div>"
            ],
            "text/plain": [
              "           Countries  Year(s)  ...  Others             Source\n",
              "0  Brunei Darussalam   2014.0  ...    13.9  ASEAN Secretariat\n",
              "1           Cambodia   2014.0  ...     0.9  ASEAN Secretariat\n",
              "2         Indonesia    1999.0  ...     0.3  ASEAN Secretariat\n",
              "3          Lao's PDR      NaN  ...     NaN  ASEAN Secretariat\n",
              "4          Malaysia    2014.0  ...    12.7  ASEAN Secretariat\n",
              "5            Myanmar      NaN  ...     NaN  ASEAN Secretariat\n",
              "6        Philippines   2014.0  ...     0.5  ASEAN Secretariat\n",
              "7          Singapore   2014.0  ...    11.3  ASEAN Secretariat\n",
              "8           Thailand   2014.0  ...    10.2  ASEAN Secretariat\n",
              "9           Viet Nam   2014.0  ...    40.3  ASEAN Secretariat\n",
              "\n",
              "[10 rows x 10 columns]"
            ]
          },
          "metadata": {
            "tags": []
          },
          "execution_count": 107
        }
      ]
    },
    {
      "cell_type": "code",
      "metadata": {
        "colab": {
          "base_uri": "https://localhost:8080/"
        },
        "id": "_jvmKv8I9Pg5",
        "outputId": "ea5628c6-f2ef-4e1a-e861-d4eac49b370f"
      },
      "source": [
        "data_job.columns"
      ],
      "execution_count": 108,
      "outputs": [
        {
          "output_type": "execute_result",
          "data": {
            "text/plain": [
              "Index(['Countries', 'Year(s)', 'Professionals, technical and related workers',\n",
              "       'Administrative, executive and managerial workers',\n",
              "       'Clerical and related workers', 'Sales workers and services workers',\n",
              "       'Agricultural, animal husbandry and forestry workers; fishermen and hunters ',\n",
              "       'Production and related workers, transport equipment operators and labourers',\n",
              "       'Others', 'Source'],\n",
              "      dtype='object')"
            ]
          },
          "metadata": {
            "tags": []
          },
          "execution_count": 108
        }
      ]
    },
    {
      "cell_type": "code",
      "metadata": {
        "id": "jopfjwY2A40l"
      },
      "source": [
        "data_job.drop('Source', axis=1, inplace=True)\n",
        "data_job.drop('Year(s)', axis=1, inplace=True)"
      ],
      "execution_count": 109,
      "outputs": []
    },
    {
      "cell_type": "code",
      "metadata": {
        "colab": {
          "base_uri": "https://localhost:8080/",
          "height": 405
        },
        "id": "_owL4FsUQion",
        "outputId": "2ad327b9-779f-408e-b214-b709c8b961b3"
      },
      "source": [
        "data_job"
      ],
      "execution_count": 110,
      "outputs": [
        {
          "output_type": "execute_result",
          "data": {
            "text/html": [
              "<div>\n",
              "<style scoped>\n",
              "    .dataframe tbody tr th:only-of-type {\n",
              "        vertical-align: middle;\n",
              "    }\n",
              "\n",
              "    .dataframe tbody tr th {\n",
              "        vertical-align: top;\n",
              "    }\n",
              "\n",
              "    .dataframe thead th {\n",
              "        text-align: right;\n",
              "    }\n",
              "</style>\n",
              "<table border=\"1\" class=\"dataframe\">\n",
              "  <thead>\n",
              "    <tr style=\"text-align: right;\">\n",
              "      <th></th>\n",
              "      <th>Countries</th>\n",
              "      <th>Professionals, technical and related workers</th>\n",
              "      <th>Administrative, executive and managerial workers</th>\n",
              "      <th>Clerical and related workers</th>\n",
              "      <th>Sales workers and services workers</th>\n",
              "      <th>Agricultural, animal husbandry and forestry workers; fishermen and hunters</th>\n",
              "      <th>Production and related workers, transport equipment operators and labourers</th>\n",
              "      <th>Others</th>\n",
              "    </tr>\n",
              "  </thead>\n",
              "  <tbody>\n",
              "    <tr>\n",
              "      <th>0</th>\n",
              "      <td>Brunei Darussalam</td>\n",
              "      <td>33.2</td>\n",
              "      <td>7.6</td>\n",
              "      <td>11.4</td>\n",
              "      <td>19.5</td>\n",
              "      <td>1.4</td>\n",
              "      <td>13.0</td>\n",
              "      <td>13.9</td>\n",
              "    </tr>\n",
              "    <tr>\n",
              "      <th>1</th>\n",
              "      <td>Cambodia</td>\n",
              "      <td>3.7</td>\n",
              "      <td>0.8</td>\n",
              "      <td>3.9</td>\n",
              "      <td>15.3</td>\n",
              "      <td>58.1</td>\n",
              "      <td>17.3</td>\n",
              "      <td>0.9</td>\n",
              "    </tr>\n",
              "    <tr>\n",
              "      <th>2</th>\n",
              "      <td>Indonesia</td>\n",
              "      <td>3.9</td>\n",
              "      <td>0.3</td>\n",
              "      <td>4.9</td>\n",
              "      <td>23.6</td>\n",
              "      <td>43.0</td>\n",
              "      <td>24.0</td>\n",
              "      <td>0.3</td>\n",
              "    </tr>\n",
              "    <tr>\n",
              "      <th>3</th>\n",
              "      <td>Lao's PDR</td>\n",
              "      <td>NaN</td>\n",
              "      <td>NaN</td>\n",
              "      <td>NaN</td>\n",
              "      <td>NaN</td>\n",
              "      <td>NaN</td>\n",
              "      <td>NaN</td>\n",
              "      <td>NaN</td>\n",
              "    </tr>\n",
              "    <tr>\n",
              "      <th>4</th>\n",
              "      <td>Malaysia</td>\n",
              "      <td>20.3</td>\n",
              "      <td>4.9</td>\n",
              "      <td>9.1</td>\n",
              "      <td>23.0</td>\n",
              "      <td>7.2</td>\n",
              "      <td>22.8</td>\n",
              "      <td>12.7</td>\n",
              "    </tr>\n",
              "    <tr>\n",
              "      <th>5</th>\n",
              "      <td>Myanmar</td>\n",
              "      <td>NaN</td>\n",
              "      <td>NaN</td>\n",
              "      <td>NaN</td>\n",
              "      <td>NaN</td>\n",
              "      <td>NaN</td>\n",
              "      <td>NaN</td>\n",
              "      <td>NaN</td>\n",
              "    </tr>\n",
              "    <tr>\n",
              "      <th>6</th>\n",
              "      <td>Philippines</td>\n",
              "      <td>7.5</td>\n",
              "      <td>15.8</td>\n",
              "      <td>6.2</td>\n",
              "      <td>19.3</td>\n",
              "      <td>13.6</td>\n",
              "      <td>37.1</td>\n",
              "      <td>0.5</td>\n",
              "    </tr>\n",
              "    <tr>\n",
              "      <th>7</th>\n",
              "      <td>Singapore</td>\n",
              "      <td>36.8</td>\n",
              "      <td>16.3</td>\n",
              "      <td>12.6</td>\n",
              "      <td>12.2</td>\n",
              "      <td>NaN</td>\n",
              "      <td>10.9</td>\n",
              "      <td>11.3</td>\n",
              "    </tr>\n",
              "    <tr>\n",
              "      <th>8</th>\n",
              "      <td>Thailand</td>\n",
              "      <td>10.3</td>\n",
              "      <td>3.7</td>\n",
              "      <td>3.9</td>\n",
              "      <td>18.9</td>\n",
              "      <td>31.7</td>\n",
              "      <td>21.2</td>\n",
              "      <td>10.2</td>\n",
              "    </tr>\n",
              "    <tr>\n",
              "      <th>9</th>\n",
              "      <td>Viet Nam</td>\n",
              "      <td>9.2</td>\n",
              "      <td>1.1</td>\n",
              "      <td>1.7</td>\n",
              "      <td>16.1</td>\n",
              "      <td>12.2</td>\n",
              "      <td>19.3</td>\n",
              "      <td>40.3</td>\n",
              "    </tr>\n",
              "  </tbody>\n",
              "</table>\n",
              "</div>"
            ],
            "text/plain": [
              "           Countries  ...  Others\n",
              "0  Brunei Darussalam  ...    13.9\n",
              "1           Cambodia  ...     0.9\n",
              "2         Indonesia   ...     0.3\n",
              "3          Lao's PDR  ...     NaN\n",
              "4          Malaysia   ...    12.7\n",
              "5            Myanmar  ...     NaN\n",
              "6        Philippines  ...     0.5\n",
              "7          Singapore  ...    11.3\n",
              "8           Thailand  ...    10.2\n",
              "9           Viet Nam  ...    40.3\n",
              "\n",
              "[10 rows x 8 columns]"
            ]
          },
          "metadata": {
            "tags": []
          },
          "execution_count": 110
        }
      ]
    },
    {
      "cell_type": "code",
      "metadata": {
        "colab": {
          "base_uri": "https://localhost:8080/"
        },
        "id": "YoTuH6rKRaO7",
        "outputId": "24dd3dc5-678d-4b4f-caa6-da9f2504909a"
      },
      "source": [
        "#Melihat tipe data dari masing masing-masing variabel\n",
        "data_job.dtypes"
      ],
      "execution_count": 111,
      "outputs": [
        {
          "output_type": "execute_result",
          "data": {
            "text/plain": [
              "Countries                                                                       object\n",
              "Professionals, technical and related workers                                   float64\n",
              "Administrative, executive and managerial workers                               float64\n",
              "Clerical and related workers                                                   float64\n",
              "Sales workers and services workers                                             float64\n",
              "Agricultural, animal husbandry and forestry workers; fishermen and hunters     float64\n",
              "Production and related workers, transport equipment operators and labourers    float64\n",
              "Others                                                                         float64\n",
              "dtype: object"
            ]
          },
          "metadata": {
            "tags": []
          },
          "execution_count": 111
        }
      ]
    },
    {
      "cell_type": "code",
      "metadata": {
        "colab": {
          "base_uri": "https://localhost:8080/"
        },
        "id": "bbumIHSuRvGf",
        "outputId": "bb8ffaf6-11bd-44c1-80a9-c914861ccbb8"
      },
      "source": [
        "#Untuk mengetahui berapa banyak Missing Values di masing-masing variabel\n",
        "print(data_job.isnull().sum())"
      ],
      "execution_count": 112,
      "outputs": [
        {
          "output_type": "stream",
          "text": [
            "Countries                                                                      0\n",
            "Professionals, technical and related workers                                   2\n",
            "Administrative, executive and managerial workers                               2\n",
            "Clerical and related workers                                                   2\n",
            "Sales workers and services workers                                             2\n",
            "Agricultural, animal husbandry and forestry workers; fishermen and hunters     3\n",
            "Production and related workers, transport equipment operators and labourers    2\n",
            "Others                                                                         2\n",
            "dtype: int64\n"
          ],
          "name": "stdout"
        }
      ]
    },
    {
      "cell_type": "markdown",
      "metadata": {
        "id": "GUsqhopjSh3q"
      },
      "source": [
        "### Mengimputasi missing value dengan median dan mean"
      ]
    },
    {
      "cell_type": "code",
      "metadata": {
        "id": "TijRu9tgSLIO"
      },
      "source": [
        "data_job['Professionals, technical and related workers'].fillna(data_job['Professionals, technical and related workers'].mean(),inplace=True)\n",
        "data_job['Administrative, executive and managerial workers'].fillna(data_job['Administrative, executive and managerial workers'].mean(),inplace=True)\n",
        "data_job['Clerical and related workers'].fillna(data_job['Clerical and related workers'].mean(),inplace=True)\n",
        "data_job['Sales workers and services workers'].fillna(data_job['Sales workers and services workers'].mean(),inplace=True)\n",
        "data_job['Agricultural, animal husbandry and forestry workers; fishermen and hunters '].fillna(data_job['Agricultural, animal husbandry and forestry workers; fishermen and hunters '].mean(),inplace=True)\n",
        "data_job['Production and related workers, transport equipment operators and labourers'].fillna(data_job['Production and related workers, transport equipment operators and labourers'].mean(),inplace=True)\n",
        "data_job['Others'].fillna(data_job['Others'].median(),inplace=True)"
      ],
      "execution_count": 113,
      "outputs": []
    },
    {
      "cell_type": "markdown",
      "metadata": {
        "id": "ThHD8ylKUG8i"
      },
      "source": [
        "Mengimputasi missing value dapat dilakukan dengan berbagai cara, salah satunya dengan ***univariate imputation*** dengan menggunakan median, mean maupun modus. Data missing value yang diimputasi dengan menggunakan median maupun meann dikarenakan data numerik. Data yang berdistribusi skewed ke kiri maupun kanan diimputasi dengan menggunakan median, sedangkan sisanya diimputasi menggunakan mean."
      ]
    },
    {
      "cell_type": "code",
      "metadata": {
        "colab": {
          "base_uri": "https://localhost:8080/",
          "height": 284
        },
        "id": "Oqmc5NZtRjjl",
        "outputId": "73782764-8672-4b93-bfa4-00effb38a7f3"
      },
      "source": [
        "p = sns.distplot(data_job['Others'], kde=True, rug=True)"
      ],
      "execution_count": 114,
      "outputs": [
        {
          "output_type": "display_data",
          "data": {
            "image/png": "[encoded data removed]",
            "text/plain": [
              "<Figure size 432x288 with 1 Axes>"
            ]
          },
          "metadata": {
            "tags": []
          }
        }
      ]
    },
    {
      "cell_type": "code",
      "metadata": {
        "colab": {
          "base_uri": "https://localhost:8080/",
          "height": 405
        },
        "id": "dz67iv5nV0z8",
        "outputId": "2b71a68b-1cc3-474b-dd00-f51496c9abb5"
      },
      "source": [
        "data_job"
      ],
      "execution_count": 115,
      "outputs": [
        {
          "output_type": "execute_result",
          "data": {
            "text/html": [
              "<div>\n",
              "<style scoped>\n",
              "    .dataframe tbody tr th:only-of-type {\n",
              "        vertical-align: middle;\n",
              "    }\n",
              "\n",
              "    .dataframe tbody tr th {\n",
              "        vertical-align: top;\n",
              "    }\n",
              "\n",
              "    .dataframe thead th {\n",
              "        text-align: right;\n",
              "    }\n",
              "</style>\n",
              "<table border=\"1\" class=\"dataframe\">\n",
              "  <thead>\n",
              "    <tr style=\"text-align: right;\">\n",
              "      <th></th>\n",
              "      <th>Countries</th>\n",
              "      <th>Professionals, technical and related workers</th>\n",
              "      <th>Administrative, executive and managerial workers</th>\n",
              "      <th>Clerical and related workers</th>\n",
              "      <th>Sales workers and services workers</th>\n",
              "      <th>Agricultural, animal husbandry and forestry workers; fishermen and hunters</th>\n",
              "      <th>Production and related workers, transport equipment operators and labourers</th>\n",
              "      <th>Others</th>\n",
              "    </tr>\n",
              "  </thead>\n",
              "  <tbody>\n",
              "    <tr>\n",
              "      <th>0</th>\n",
              "      <td>Brunei Darussalam</td>\n",
              "      <td>33.2000</td>\n",
              "      <td>7.6000</td>\n",
              "      <td>11.4000</td>\n",
              "      <td>19.5000</td>\n",
              "      <td>1.400000</td>\n",
              "      <td>13.0</td>\n",
              "      <td>13.90</td>\n",
              "    </tr>\n",
              "    <tr>\n",
              "      <th>1</th>\n",
              "      <td>Cambodia</td>\n",
              "      <td>3.7000</td>\n",
              "      <td>0.8000</td>\n",
              "      <td>3.9000</td>\n",
              "      <td>15.3000</td>\n",
              "      <td>58.100000</td>\n",
              "      <td>17.3</td>\n",
              "      <td>0.90</td>\n",
              "    </tr>\n",
              "    <tr>\n",
              "      <th>2</th>\n",
              "      <td>Indonesia</td>\n",
              "      <td>3.9000</td>\n",
              "      <td>0.3000</td>\n",
              "      <td>4.9000</td>\n",
              "      <td>23.6000</td>\n",
              "      <td>43.000000</td>\n",
              "      <td>24.0</td>\n",
              "      <td>0.30</td>\n",
              "    </tr>\n",
              "    <tr>\n",
              "      <th>3</th>\n",
              "      <td>Lao's PDR</td>\n",
              "      <td>15.6125</td>\n",
              "      <td>6.3125</td>\n",
              "      <td>6.7125</td>\n",
              "      <td>18.4875</td>\n",
              "      <td>23.885714</td>\n",
              "      <td>20.7</td>\n",
              "      <td>10.75</td>\n",
              "    </tr>\n",
              "    <tr>\n",
              "      <th>4</th>\n",
              "      <td>Malaysia</td>\n",
              "      <td>20.3000</td>\n",
              "      <td>4.9000</td>\n",
              "      <td>9.1000</td>\n",
              "      <td>23.0000</td>\n",
              "      <td>7.200000</td>\n",
              "      <td>22.8</td>\n",
              "      <td>12.70</td>\n",
              "    </tr>\n",
              "    <tr>\n",
              "      <th>5</th>\n",
              "      <td>Myanmar</td>\n",
              "      <td>15.6125</td>\n",
              "      <td>6.3125</td>\n",
              "      <td>6.7125</td>\n",
              "      <td>18.4875</td>\n",
              "      <td>23.885714</td>\n",
              "      <td>20.7</td>\n",
              "      <td>10.75</td>\n",
              "    </tr>\n",
              "    <tr>\n",
              "      <th>6</th>\n",
              "      <td>Philippines</td>\n",
              "      <td>7.5000</td>\n",
              "      <td>15.8000</td>\n",
              "      <td>6.2000</td>\n",
              "      <td>19.3000</td>\n",
              "      <td>13.600000</td>\n",
              "      <td>37.1</td>\n",
              "      <td>0.50</td>\n",
              "    </tr>\n",
              "    <tr>\n",
              "      <th>7</th>\n",
              "      <td>Singapore</td>\n",
              "      <td>36.8000</td>\n",
              "      <td>16.3000</td>\n",
              "      <td>12.6000</td>\n",
              "      <td>12.2000</td>\n",
              "      <td>23.885714</td>\n",
              "      <td>10.9</td>\n",
              "      <td>11.30</td>\n",
              "    </tr>\n",
              "    <tr>\n",
              "      <th>8</th>\n",
              "      <td>Thailand</td>\n",
              "      <td>10.3000</td>\n",
              "      <td>3.7000</td>\n",
              "      <td>3.9000</td>\n",
              "      <td>18.9000</td>\n",
              "      <td>31.700000</td>\n",
              "      <td>21.2</td>\n",
              "      <td>10.20</td>\n",
              "    </tr>\n",
              "    <tr>\n",
              "      <th>9</th>\n",
              "      <td>Viet Nam</td>\n",
              "      <td>9.2000</td>\n",
              "      <td>1.1000</td>\n",
              "      <td>1.7000</td>\n",
              "      <td>16.1000</td>\n",
              "      <td>12.200000</td>\n",
              "      <td>19.3</td>\n",
              "      <td>40.30</td>\n",
              "    </tr>\n",
              "  </tbody>\n",
              "</table>\n",
              "</div>"
            ],
            "text/plain": [
              "           Countries  ...  Others\n",
              "0  Brunei Darussalam  ...   13.90\n",
              "1           Cambodia  ...    0.90\n",
              "2         Indonesia   ...    0.30\n",
              "3          Lao's PDR  ...   10.75\n",
              "4          Malaysia   ...   12.70\n",
              "5            Myanmar  ...   10.75\n",
              "6        Philippines  ...    0.50\n",
              "7          Singapore  ...   11.30\n",
              "8           Thailand  ...   10.20\n",
              "9           Viet Nam  ...   40.30\n",
              "\n",
              "[10 rows x 8 columns]"
            ]
          },
          "metadata": {
            "tags": []
          },
          "execution_count": 115
        }
      ]
    },
    {
      "cell_type": "code",
      "metadata": {
        "id": "UJHHuMV1WRFH"
      },
      "source": [
        "#Menambahkan Variabel Tahun\n",
        "data_job['Tahun']='2014','2014','1999','2014','2014','2014','2014','2014','2014','2014'"
      ],
      "execution_count": 116,
      "outputs": []
    },
    {
      "cell_type": "code",
      "metadata": {
        "id": "2VMpdoxjYBZm"
      },
      "source": [
        "#Mengubah letak kolom \n",
        "cols = data_job.columns.tolist()"
      ],
      "execution_count": 117,
      "outputs": []
    },
    {
      "cell_type": "code",
      "metadata": {
        "id": "HvlIZZKwbWSc"
      },
      "source": [
        "cols = cols[-1:] + cols[:-1]"
      ],
      "execution_count": 118,
      "outputs": []
    },
    {
      "cell_type": "code",
      "metadata": {
        "colab": {
          "base_uri": "https://localhost:8080/"
        },
        "id": "TOWvDn_WbYbo",
        "outputId": "4369a8f7-d821-4304-d54b-98e34e4eaed4"
      },
      "source": [
        "cols"
      ],
      "execution_count": 119,
      "outputs": [
        {
          "output_type": "execute_result",
          "data": {
            "text/plain": [
              "['Tahun',\n",
              " 'Countries',\n",
              " 'Professionals, technical and related workers',\n",
              " 'Administrative, executive and managerial workers',\n",
              " 'Clerical and related workers',\n",
              " 'Sales workers and services workers',\n",
              " 'Agricultural, animal husbandry and forestry workers; fishermen and hunters ',\n",
              " 'Production and related workers, transport equipment operators and labourers',\n",
              " 'Others']"
            ]
          },
          "metadata": {
            "tags": []
          },
          "execution_count": 119
        }
      ]
    },
    {
      "cell_type": "code",
      "metadata": {
        "id": "J_sj6oA1YphP"
      },
      "source": [
        "#Dimasukan kedalam variabel data_job\n",
        "data_job = data_job[cols]"
      ],
      "execution_count": 120,
      "outputs": []
    },
    {
      "cell_type": "code",
      "metadata": {
        "colab": {
          "base_uri": "https://localhost:8080/",
          "height": 422
        },
        "id": "A5YAHpaJbLpW",
        "outputId": "e46684e0-1eaa-45cc-882f-3d58503d3ab1"
      },
      "source": [
        "data_job"
      ],
      "execution_count": 121,
      "outputs": [
        {
          "output_type": "execute_result",
          "data": {
            "text/html": [
              "<div>\n",
              "<style scoped>\n",
              "    .dataframe tbody tr th:only-of-type {\n",
              "        vertical-align: middle;\n",
              "    }\n",
              "\n",
              "    .dataframe tbody tr th {\n",
              "        vertical-align: top;\n",
              "    }\n",
              "\n",
              "    .dataframe thead th {\n",
              "        text-align: right;\n",
              "    }\n",
              "</style>\n",
              "<table border=\"1\" class=\"dataframe\">\n",
              "  <thead>\n",
              "    <tr style=\"text-align: right;\">\n",
              "      <th></th>\n",
              "      <th>Tahun</th>\n",
              "      <th>Countries</th>\n",
              "      <th>Professionals, technical and related workers</th>\n",
              "      <th>Administrative, executive and managerial workers</th>\n",
              "      <th>Clerical and related workers</th>\n",
              "      <th>Sales workers and services workers</th>\n",
              "      <th>Agricultural, animal husbandry and forestry workers; fishermen and hunters</th>\n",
              "      <th>Production and related workers, transport equipment operators and labourers</th>\n",
              "      <th>Others</th>\n",
              "    </tr>\n",
              "  </thead>\n",
              "  <tbody>\n",
              "    <tr>\n",
              "      <th>0</th>\n",
              "      <td>2014</td>\n",
              "      <td>Brunei Darussalam</td>\n",
              "      <td>33.2000</td>\n",
              "      <td>7.6000</td>\n",
              "      <td>11.4000</td>\n",
              "      <td>19.5000</td>\n",
              "      <td>1.400000</td>\n",
              "      <td>13.0</td>\n",
              "      <td>13.90</td>\n",
              "    </tr>\n",
              "    <tr>\n",
              "      <th>1</th>\n",
              "      <td>2014</td>\n",
              "      <td>Cambodia</td>\n",
              "      <td>3.7000</td>\n",
              "      <td>0.8000</td>\n",
              "      <td>3.9000</td>\n",
              "      <td>15.3000</td>\n",
              "      <td>58.100000</td>\n",
              "      <td>17.3</td>\n",
              "      <td>0.90</td>\n",
              "    </tr>\n",
              "    <tr>\n",
              "      <th>2</th>\n",
              "      <td>1999</td>\n",
              "      <td>Indonesia</td>\n",
              "      <td>3.9000</td>\n",
              "      <td>0.3000</td>\n",
              "      <td>4.9000</td>\n",
              "      <td>23.6000</td>\n",
              "      <td>43.000000</td>\n",
              "      <td>24.0</td>\n",
              "      <td>0.30</td>\n",
              "    </tr>\n",
              "    <tr>\n",
              "      <th>3</th>\n",
              "      <td>2014</td>\n",
              "      <td>Lao's PDR</td>\n",
              "      <td>15.6125</td>\n",
              "      <td>6.3125</td>\n",
              "      <td>6.7125</td>\n",
              "      <td>18.4875</td>\n",
              "      <td>23.885714</td>\n",
              "      <td>20.7</td>\n",
              "      <td>10.75</td>\n",
              "    </tr>\n",
              "    <tr>\n",
              "      <th>4</th>\n",
              "      <td>2014</td>\n",
              "      <td>Malaysia</td>\n",
              "      <td>20.3000</td>\n",
              "      <td>4.9000</td>\n",
              "      <td>9.1000</td>\n",
              "      <td>23.0000</td>\n",
              "      <td>7.200000</td>\n",
              "      <td>22.8</td>\n",
              "      <td>12.70</td>\n",
              "    </tr>\n",
              "    <tr>\n",
              "      <th>5</th>\n",
              "      <td>2014</td>\n",
              "      <td>Myanmar</td>\n",
              "      <td>15.6125</td>\n",
              "      <td>6.3125</td>\n",
              "      <td>6.7125</td>\n",
              "      <td>18.4875</td>\n",
              "      <td>23.885714</td>\n",
              "      <td>20.7</td>\n",
              "      <td>10.75</td>\n",
              "    </tr>\n",
              "    <tr>\n",
              "      <th>6</th>\n",
              "      <td>2014</td>\n",
              "      <td>Philippines</td>\n",
              "      <td>7.5000</td>\n",
              "      <td>15.8000</td>\n",
              "      <td>6.2000</td>\n",
              "      <td>19.3000</td>\n",
              "      <td>13.600000</td>\n",
              "      <td>37.1</td>\n",
              "      <td>0.50</td>\n",
              "    </tr>\n",
              "    <tr>\n",
              "      <th>7</th>\n",
              "      <td>2014</td>\n",
              "      <td>Singapore</td>\n",
              "      <td>36.8000</td>\n",
              "      <td>16.3000</td>\n",
              "      <td>12.6000</td>\n",
              "      <td>12.2000</td>\n",
              "      <td>23.885714</td>\n",
              "      <td>10.9</td>\n",
              "      <td>11.30</td>\n",
              "    </tr>\n",
              "    <tr>\n",
              "      <th>8</th>\n",
              "      <td>2014</td>\n",
              "      <td>Thailand</td>\n",
              "      <td>10.3000</td>\n",
              "      <td>3.7000</td>\n",
              "      <td>3.9000</td>\n",
              "      <td>18.9000</td>\n",
              "      <td>31.700000</td>\n",
              "      <td>21.2</td>\n",
              "      <td>10.20</td>\n",
              "    </tr>\n",
              "    <tr>\n",
              "      <th>9</th>\n",
              "      <td>2014</td>\n",
              "      <td>Viet Nam</td>\n",
              "      <td>9.2000</td>\n",
              "      <td>1.1000</td>\n",
              "      <td>1.7000</td>\n",
              "      <td>16.1000</td>\n",
              "      <td>12.200000</td>\n",
              "      <td>19.3</td>\n",
              "      <td>40.30</td>\n",
              "    </tr>\n",
              "  </tbody>\n",
              "</table>\n",
              "</div>"
            ],
            "text/plain": [
              "  Tahun  ... Others\n",
              "0  2014  ...  13.90\n",
              "1  2014  ...   0.90\n",
              "2  1999  ...   0.30\n",
              "3  2014  ...  10.75\n",
              "4  2014  ...  12.70\n",
              "5  2014  ...  10.75\n",
              "6  2014  ...   0.50\n",
              "7  2014  ...  11.30\n",
              "8  2014  ...  10.20\n",
              "9  2014  ...  40.30\n",
              "\n",
              "[10 rows x 9 columns]"
            ]
          },
          "metadata": {
            "tags": []
          },
          "execution_count": 121
        }
      ]
    },
    {
      "cell_type": "code",
      "metadata": {
        "id": "NrDX5aNCZJWq"
      },
      "source": [
        "#Mengubah tipe data variabel Tahun\n",
        "data_job['Tahun']=data_job['Tahun'].astype('datetime64')"
      ],
      "execution_count": 122,
      "outputs": []
    },
    {
      "cell_type": "code",
      "metadata": {
        "id": "XPsjB9AsfSEo"
      },
      "source": [
        "#Menjadikan variabel 'Tahun' menjadi index pada dataset ini\n",
        "data_job= data_job.set_index(['Tahun'])"
      ],
      "execution_count": 123,
      "outputs": []
    },
    {
      "cell_type": "code",
      "metadata": {
        "id": "5YH-vQx6c5EB"
      },
      "source": [
        "data_job=data_job.sort_values(by='Tahun')"
      ],
      "execution_count": 124,
      "outputs": []
    },
    {
      "cell_type": "code",
      "metadata": {
        "colab": {
          "base_uri": "https://localhost:8080/",
          "height": 602
        },
        "id": "umvTHqC0e4uF",
        "outputId": "8982da75-e26a-4379-f18e-4a0bd4a725e4"
      },
      "source": [
        "data_job"
      ],
      "execution_count": 125,
      "outputs": [
        {
          "output_type": "execute_result",
          "data": {
            "text/html": [
              "<div>\n",
              "<style scoped>\n",
              "    .dataframe tbody tr th:only-of-type {\n",
              "        vertical-align: middle;\n",
              "    }\n",
              "\n",
              "    .dataframe tbody tr th {\n",
              "        vertical-align: top;\n",
              "    }\n",
              "\n",
              "    .dataframe thead th {\n",
              "        text-align: right;\n",
              "    }\n",
              "</style>\n",
              "<table border=\"1\" class=\"dataframe\">\n",
              "  <thead>\n",
              "    <tr style=\"text-align: right;\">\n",
              "      <th></th>\n",
              "      <th>Countries</th>\n",
              "      <th>Professionals, technical and related workers</th>\n",
              "      <th>Administrative, executive and managerial workers</th>\n",
              "      <th>Clerical and related workers</th>\n",
              "      <th>Sales workers and services workers</th>\n",
              "      <th>Agricultural, animal husbandry and forestry workers; fishermen and hunters</th>\n",
              "      <th>Production and related workers, transport equipment operators and labourers</th>\n",
              "      <th>Others</th>\n",
              "    </tr>\n",
              "    <tr>\n",
              "      <th>Tahun</th>\n",
              "      <th></th>\n",
              "      <th></th>\n",
              "      <th></th>\n",
              "      <th></th>\n",
              "      <th></th>\n",
              "      <th></th>\n",
              "      <th></th>\n",
              "      <th></th>\n",
              "    </tr>\n",
              "  </thead>\n",
              "  <tbody>\n",
              "    <tr>\n",
              "      <th>1999-01-01</th>\n",
              "      <td>Indonesia</td>\n",
              "      <td>3.9000</td>\n",
              "      <td>0.3000</td>\n",
              "      <td>4.9000</td>\n",
              "      <td>23.6000</td>\n",
              "      <td>43.000000</td>\n",
              "      <td>24.0</td>\n",
              "      <td>0.30</td>\n",
              "    </tr>\n",
              "    <tr>\n",
              "      <th>2014-01-01</th>\n",
              "      <td>Brunei Darussalam</td>\n",
              "      <td>33.2000</td>\n",
              "      <td>7.6000</td>\n",
              "      <td>11.4000</td>\n",
              "      <td>19.5000</td>\n",
              "      <td>1.400000</td>\n",
              "      <td>13.0</td>\n",
              "      <td>13.90</td>\n",
              "    </tr>\n",
              "    <tr>\n",
              "      <th>2014-01-01</th>\n",
              "      <td>Cambodia</td>\n",
              "      <td>3.7000</td>\n",
              "      <td>0.8000</td>\n",
              "      <td>3.9000</td>\n",
              "      <td>15.3000</td>\n",
              "      <td>58.100000</td>\n",
              "      <td>17.3</td>\n",
              "      <td>0.90</td>\n",
              "    </tr>\n",
              "    <tr>\n",
              "      <th>2014-01-01</th>\n",
              "      <td>Lao's PDR</td>\n",
              "      <td>15.6125</td>\n",
              "      <td>6.3125</td>\n",
              "      <td>6.7125</td>\n",
              "      <td>18.4875</td>\n",
              "      <td>23.885714</td>\n",
              "      <td>20.7</td>\n",
              "      <td>10.75</td>\n",
              "    </tr>\n",
              "    <tr>\n",
              "      <th>2014-01-01</th>\n",
              "      <td>Malaysia</td>\n",
              "      <td>20.3000</td>\n",
              "      <td>4.9000</td>\n",
              "      <td>9.1000</td>\n",
              "      <td>23.0000</td>\n",
              "      <td>7.200000</td>\n",
              "      <td>22.8</td>\n",
              "      <td>12.70</td>\n",
              "    </tr>\n",
              "    <tr>\n",
              "      <th>2014-01-01</th>\n",
              "      <td>Myanmar</td>\n",
              "      <td>15.6125</td>\n",
              "      <td>6.3125</td>\n",
              "      <td>6.7125</td>\n",
              "      <td>18.4875</td>\n",
              "      <td>23.885714</td>\n",
              "      <td>20.7</td>\n",
              "      <td>10.75</td>\n",
              "    </tr>\n",
              "    <tr>\n",
              "      <th>2014-01-01</th>\n",
              "      <td>Philippines</td>\n",
              "      <td>7.5000</td>\n",
              "      <td>15.8000</td>\n",
              "      <td>6.2000</td>\n",
              "      <td>19.3000</td>\n",
              "      <td>13.600000</td>\n",
              "      <td>37.1</td>\n",
              "      <td>0.50</td>\n",
              "    </tr>\n",
              "    <tr>\n",
              "      <th>2014-01-01</th>\n",
              "      <td>Singapore</td>\n",
              "      <td>36.8000</td>\n",
              "      <td>16.3000</td>\n",
              "      <td>12.6000</td>\n",
              "      <td>12.2000</td>\n",
              "      <td>23.885714</td>\n",
              "      <td>10.9</td>\n",
              "      <td>11.30</td>\n",
              "    </tr>\n",
              "    <tr>\n",
              "      <th>2014-01-01</th>\n",
              "      <td>Thailand</td>\n",
              "      <td>10.3000</td>\n",
              "      <td>3.7000</td>\n",
              "      <td>3.9000</td>\n",
              "      <td>18.9000</td>\n",
              "      <td>31.700000</td>\n",
              "      <td>21.2</td>\n",
              "      <td>10.20</td>\n",
              "    </tr>\n",
              "    <tr>\n",
              "      <th>2014-01-01</th>\n",
              "      <td>Viet Nam</td>\n",
              "      <td>9.2000</td>\n",
              "      <td>1.1000</td>\n",
              "      <td>1.7000</td>\n",
              "      <td>16.1000</td>\n",
              "      <td>12.200000</td>\n",
              "      <td>19.3</td>\n",
              "      <td>40.30</td>\n",
              "    </tr>\n",
              "  </tbody>\n",
              "</table>\n",
              "</div>"
            ],
            "text/plain": [
              "                    Countries  ...  Others\n",
              "Tahun                          ...        \n",
              "1999-01-01         Indonesia   ...    0.30\n",
              "2014-01-01  Brunei Darussalam  ...   13.90\n",
              "2014-01-01           Cambodia  ...    0.90\n",
              "2014-01-01          Lao's PDR  ...   10.75\n",
              "2014-01-01          Malaysia   ...   12.70\n",
              "2014-01-01            Myanmar  ...   10.75\n",
              "2014-01-01        Philippines  ...    0.50\n",
              "2014-01-01          Singapore  ...   11.30\n",
              "2014-01-01           Thailand  ...   10.20\n",
              "2014-01-01           Viet Nam  ...   40.30\n",
              "\n",
              "[10 rows x 8 columns]"
            ]
          },
          "metadata": {
            "tags": []
          },
          "execution_count": 125
        }
      ]
    },
    {
      "cell_type": "code",
      "metadata": {
        "colab": {
          "base_uri": "https://localhost:8080/"
        },
        "id": "2yEsLlfOcRJN",
        "outputId": "ff922b12-dbb9-46b9-a4af-8c8e108ba5fc"
      },
      "source": [
        "data_job.dtypes"
      ],
      "execution_count": 126,
      "outputs": [
        {
          "output_type": "execute_result",
          "data": {
            "text/plain": [
              "Countries                                                                       object\n",
              "Professionals, technical and related workers                                   float64\n",
              "Administrative, executive and managerial workers                               float64\n",
              "Clerical and related workers                                                   float64\n",
              "Sales workers and services workers                                             float64\n",
              "Agricultural, animal husbandry and forestry workers; fishermen and hunters     float64\n",
              "Production and related workers, transport equipment operators and labourers    float64\n",
              "Others                                                                         float64\n",
              "dtype: object"
            ]
          },
          "metadata": {
            "tags": []
          },
          "execution_count": 126
        }
      ]
    },
    {
      "cell_type": "code",
      "metadata": {
        "colab": {
          "base_uri": "https://localhost:8080/",
          "height": 308
        },
        "id": "2ydzRU2Pi9y5",
        "outputId": "ca018441-60b2-48d4-d34c-5bf005809a62"
      },
      "source": [
        "plt.figure( figsize=(20,4))\n",
        "plot = sns.lineplot(x=\"Countries\", y=\"Professionals, technical and related workers\", data=data_job, hue='Tahun')"
      ],
      "execution_count": 127,
      "outputs": [
        {
          "output_type": "display_data",
          "data": {
            "image/png": "[encoded data removed]",
            "text/plain": [
              "<Figure size 1440x288 with 1 Axes>"
            ]
          },
          "metadata": {
            "tags": []
          }
        }
      ]
    },
    {
      "cell_type": "code",
      "metadata": {
        "colab": {
          "base_uri": "https://localhost:8080/",
          "height": 334
        },
        "id": "lOL_19xahVnM",
        "outputId": "54e153ba-2c06-4607-feee-6c99c267a176"
      },
      "source": [
        "plt.figure( figsize=(20,4))\n",
        "plot = sns.lineplot(x=\"Countries\", y=\"Administrative, executive and managerial workers\", data=data_job, hue='Tahun')"
      ],
      "execution_count": 128,
      "outputs": [
        {
          "output_type": "display_data",
          "data": {
            "image/png": "[encoded data removed]",
            "text/plain": [
              "<Figure size 1440x288 with 1 Axes>"
            ]
          },
          "metadata": {
            "tags": []
          }
        }
      ]
    },
    {
      "cell_type": "code",
      "metadata": {
        "colab": {
          "base_uri": "https://localhost:8080/",
          "height": 284
        },
        "id": "xHuNjjwsj6mH",
        "outputId": "3eb0c385-f55c-4640-bc56-a8ca878de253"
      },
      "source": [
        "plt.figure( figsize=(20,4))\n",
        "plot = sns.lineplot(x=\"Countries\", y=\"Clerical and related workers\", data=data_job, hue='Tahun')"
      ],
      "execution_count": 129,
      "outputs": [
        {
          "output_type": "display_data",
          "data": {
            "image/png": "[encoded data removed]",
            "text/plain": [
              "<Figure size 1440x288 with 1 Axes>"
            ]
          },
          "metadata": {
            "tags": []
          }
        }
      ]
    },
    {
      "cell_type": "code",
      "metadata": {
        "colab": {
          "base_uri": "https://localhost:8080/",
          "height": 285
        },
        "id": "t60-RZJYkQ1x",
        "outputId": "21500fcd-adec-46fd-f5da-bc7877619b20"
      },
      "source": [
        "plt.figure( figsize=(20,4))\n",
        "plot = sns.lineplot(x=\"Countries\", y=\"Sales workers and services workers\", data=data_job, hue='Tahun')"
      ],
      "execution_count": 130,
      "outputs": [
        {
          "output_type": "display_data",
          "data": {
            "image/png": "[encoded data removed]",
            "text/plain": [
              "<Figure size 1440x288 with 1 Axes>"
            ]
          },
          "metadata": {
            "tags": []
          }
        }
      ]
    },
    {
      "cell_type": "code",
      "metadata": {
        "colab": {
          "base_uri": "https://localhost:8080/",
          "height": 495
        },
        "id": "UPqZwfD-kx-u",
        "outputId": "cbc541b3-712e-481d-d470-632932720a2d"
      },
      "source": [
        "plt.figure( figsize=(20,4))\n",
        "plot = sns.lineplot(x=\"Countries\", y=\"Agricultural, animal husbandry and forestry workers; fishermen and hunters \", data=data_job, hue='Tahun')"
      ],
      "execution_count": 131,
      "outputs": [
        {
          "output_type": "display_data",
          "data": {
            "image/png": "[encoded data removed]",
            "text/plain": [
              "<Figure size 1440x288 with 1 Axes>"
            ]
          },
          "metadata": {
            "tags": []
          }
        }
      ]
    },
    {
      "cell_type": "code",
      "metadata": {
        "colab": {
          "base_uri": "https://localhost:8080/",
          "height": 501
        },
        "id": "JsJOUvWdlFAc",
        "outputId": "b665695e-8c96-4de7-a2a7-2d31cce59d1b"
      },
      "source": [
        "plt.figure( figsize=(20,4))\n",
        "plot = sns.lineplot(x=\"Countries\", y=\"Production and related workers, transport equipment operators and labourers\", data=data_job, hue='Tahun')"
      ],
      "execution_count": 132,
      "outputs": [
        {
          "output_type": "display_data",
          "data": {
            "image/png": "[encoded data removed]",
            "text/plain": [
              "<Figure size 1440x288 with 1 Axes>"
            ]
          },
          "metadata": {
            "tags": []
          }
        }
      ]
    },
    {
      "cell_type": "code",
      "metadata": {
        "colab": {
          "base_uri": "https://localhost:8080/",
          "height": 284
        },
        "id": "NzDnUxTAlPYa",
        "outputId": "dc223b14-2818-419e-86d1-dbefbb5161ed"
      },
      "source": [
        "plt.figure( figsize=(20,4))\n",
        "plot = sns.lineplot(x=\"Countries\", y=\"Others\", data=data_job, hue='Tahun')"
      ],
      "execution_count": 133,
      "outputs": [
        {
          "output_type": "display_data",
          "data": {
            "image/png": "[encoded data removed]",
            "text/plain": [
              "<Figure size 1440x288 with 1 Axes>"
            ]
          },
          "metadata": {
            "tags": []
          }
        }
      ]
    },
    {
      "cell_type": "markdown",
      "metadata": {
        "id": "jppPjY5eq4c2"
      },
      "source": [
        "# Data Penganggurang Orang Dewasa (Adult Unemployment)"
      ]
    },
    {
      "cell_type": "code",
      "metadata": {
        "id": "BQIGvaNogLy_"
      },
      "source": [
        "#Mengimport data pengangguuran dewasa di ASEAN\n",
        "data_adultune = pd.read_csv('/content/Data/adult unemployment.csv')"
      ],
      "execution_count": 134,
      "outputs": []
    },
    {
      "cell_type": "code",
      "metadata": {
        "id": "WaTqzgtAgc6l",
        "colab": {
          "base_uri": "https://localhost:8080/",
          "height": 305
        },
        "outputId": "ea3abeef-c2c1-489b-8300-40cc237f035c"
      },
      "source": [
        "data_adultune.head()"
      ],
      "execution_count": 135,
      "outputs": [
        {
          "output_type": "execute_result",
          "data": {
            "text/html": [
              "<div>\n",
              "<style scoped>\n",
              "    .dataframe tbody tr th:only-of-type {\n",
              "        vertical-align: middle;\n",
              "    }\n",
              "\n",
              "    .dataframe tbody tr th {\n",
              "        vertical-align: top;\n",
              "    }\n",
              "\n",
              "    .dataframe thead th {\n",
              "        text-align: right;\n",
              "    }\n",
              "</style>\n",
              "<table border=\"1\" class=\"dataframe\">\n",
              "  <thead>\n",
              "    <tr style=\"text-align: right;\">\n",
              "      <th></th>\n",
              "      <th>Countries</th>\n",
              "      <th>2004M</th>\n",
              "      <th>2004F</th>\n",
              "      <th>2005M</th>\n",
              "      <th>2005F</th>\n",
              "      <th>2006M</th>\n",
              "      <th>2006F</th>\n",
              "      <th>2007M</th>\n",
              "      <th>2007F</th>\n",
              "      <th>2008M</th>\n",
              "      <th>2008F</th>\n",
              "      <th>2009M</th>\n",
              "      <th>2009F</th>\n",
              "      <th>2010M</th>\n",
              "      <th>2010F</th>\n",
              "      <th>2011M</th>\n",
              "      <th>2011F</th>\n",
              "      <th>2012M</th>\n",
              "      <th>2012F</th>\n",
              "      <th>2013M</th>\n",
              "      <th>2013F</th>\n",
              "      <th>2014M</th>\n",
              "      <th>2014F</th>\n",
              "      <th>Source</th>\n",
              "    </tr>\n",
              "  </thead>\n",
              "  <tbody>\n",
              "    <tr>\n",
              "      <th>0</th>\n",
              "      <td>Brunei Darussalam</td>\n",
              "      <td>4.2</td>\n",
              "      <td>5.6</td>\n",
              "      <td>NaN</td>\n",
              "      <td>NaN</td>\n",
              "      <td>7.4</td>\n",
              "      <td>9.2</td>\n",
              "      <td>7.4</td>\n",
              "      <td>9.6</td>\n",
              "      <td>7.5</td>\n",
              "      <td>10.1</td>\n",
              "      <td>7.5</td>\n",
              "      <td>10.7</td>\n",
              "      <td>7.6</td>\n",
              "      <td>11.3</td>\n",
              "      <td>7.5</td>\n",
              "      <td>11.7</td>\n",
              "      <td>7.6</td>\n",
              "      <td>12.4</td>\n",
              "      <td>NaN</td>\n",
              "      <td>NaN</td>\n",
              "      <td>6.2</td>\n",
              "      <td>7.8</td>\n",
              "      <td>ASEAN Secretariat</td>\n",
              "    </tr>\n",
              "    <tr>\n",
              "      <th>1</th>\n",
              "      <td>Cambodia</td>\n",
              "      <td>1.9</td>\n",
              "      <td>2.7</td>\n",
              "      <td>NaN</td>\n",
              "      <td>NaN</td>\n",
              "      <td>NaN</td>\n",
              "      <td>NaN</td>\n",
              "      <td>0.7</td>\n",
              "      <td>0.8</td>\n",
              "      <td>0.3</td>\n",
              "      <td>0.4</td>\n",
              "      <td>0.2</td>\n",
              "      <td>0.1</td>\n",
              "      <td>0.4</td>\n",
              "      <td>0.3</td>\n",
              "      <td>0.3</td>\n",
              "      <td>0.1</td>\n",
              "      <td>0.1</td>\n",
              "      <td>0.2</td>\n",
              "      <td>0.3</td>\n",
              "      <td>0.3</td>\n",
              "      <td>NaN</td>\n",
              "      <td>NaN</td>\n",
              "      <td>ASEAN Secretariat</td>\n",
              "    </tr>\n",
              "    <tr>\n",
              "      <th>2</th>\n",
              "      <td>Indonesia</td>\n",
              "      <td>10.5</td>\n",
              "      <td>16.8</td>\n",
              "      <td>9.3</td>\n",
              "      <td>14.7</td>\n",
              "      <td>8.5</td>\n",
              "      <td>13.4</td>\n",
              "      <td>8.1</td>\n",
              "      <td>10.8</td>\n",
              "      <td>7.6</td>\n",
              "      <td>9.7</td>\n",
              "      <td>7.5</td>\n",
              "      <td>8.5</td>\n",
              "      <td>6.2</td>\n",
              "      <td>8.7</td>\n",
              "      <td>5.9</td>\n",
              "      <td>7.6</td>\n",
              "      <td>5.8</td>\n",
              "      <td>6.8</td>\n",
              "      <td>6.1</td>\n",
              "      <td>6.5</td>\n",
              "      <td>5.8</td>\n",
              "      <td>6.3</td>\n",
              "      <td>ASEAN Secretariat</td>\n",
              "    </tr>\n",
              "    <tr>\n",
              "      <th>3</th>\n",
              "      <td>Lao's PDR</td>\n",
              "      <td>NaN</td>\n",
              "      <td>NaN</td>\n",
              "      <td>1.3</td>\n",
              "      <td>1.2</td>\n",
              "      <td>NaN</td>\n",
              "      <td>NaN</td>\n",
              "      <td>NaN</td>\n",
              "      <td>NaN</td>\n",
              "      <td>NaN</td>\n",
              "      <td>NaN</td>\n",
              "      <td>NaN</td>\n",
              "      <td>NaN</td>\n",
              "      <td>1.8</td>\n",
              "      <td>2.0</td>\n",
              "      <td>NaN</td>\n",
              "      <td>NaN</td>\n",
              "      <td>NaN</td>\n",
              "      <td>NaN</td>\n",
              "      <td>NaN</td>\n",
              "      <td>NaN</td>\n",
              "      <td>NaN</td>\n",
              "      <td>NaN</td>\n",
              "      <td>ASEAN Secretariat</td>\n",
              "    </tr>\n",
              "    <tr>\n",
              "      <th>4</th>\n",
              "      <td>Malaysia</td>\n",
              "      <td>3.4</td>\n",
              "      <td>3.8</td>\n",
              "      <td>3.4</td>\n",
              "      <td>3.7</td>\n",
              "      <td>3.3</td>\n",
              "      <td>3.4</td>\n",
              "      <td>3.1</td>\n",
              "      <td>3.4</td>\n",
              "      <td>3.2</td>\n",
              "      <td>3.7</td>\n",
              "      <td>3.6</td>\n",
              "      <td>3.8</td>\n",
              "      <td>3.2</td>\n",
              "      <td>3.4</td>\n",
              "      <td>2.9</td>\n",
              "      <td>3.3</td>\n",
              "      <td>2.9</td>\n",
              "      <td>3.2</td>\n",
              "      <td>2.9</td>\n",
              "      <td>3.4</td>\n",
              "      <td>NaN</td>\n",
              "      <td>NaN</td>\n",
              "      <td>ASEAN Secretariat</td>\n",
              "    </tr>\n",
              "  </tbody>\n",
              "</table>\n",
              "</div>"
            ],
            "text/plain": [
              "           Countries  2004M  2004F  ...  2014M  2014F            Source \n",
              "0  Brunei Darussalam    4.2    5.6  ...    6.2    7.8  ASEAN Secretariat\n",
              "1           Cambodia    1.9    2.7  ...    NaN    NaN  ASEAN Secretariat\n",
              "2         Indonesia    10.5   16.8  ...    5.8    6.3  ASEAN Secretariat\n",
              "3          Lao's PDR    NaN    NaN  ...    NaN    NaN  ASEAN Secretariat\n",
              "4          Malaysia     3.4    3.8  ...    NaN    NaN  ASEAN Secretariat\n",
              "\n",
              "[5 rows x 24 columns]"
            ]
          },
          "metadata": {
            "tags": []
          },
          "execution_count": 135
        }
      ]
    },
    {
      "cell_type": "code",
      "metadata": {
        "id": "noiwGmQbjGXS",
        "colab": {
          "base_uri": "https://localhost:8080/"
        },
        "outputId": "656b28b2-cd39-44fa-a117-2575efd12b5f"
      },
      "source": [
        "data_adultune.columns"
      ],
      "execution_count": 136,
      "outputs": [
        {
          "output_type": "execute_result",
          "data": {
            "text/plain": [
              "Index(['Countries', '2004M', '2004F', '2005M', '2005F', '2006M', '2006F',\n",
              "       '2007M', '2007F', '2008M', '2008F', '2009M', '2009F', '2010M', '2010F',\n",
              "       '2011M', '2011F', '2012M', '2012F', '2013M', '2013F', '2014M', '2014F',\n",
              "       'Source '],\n",
              "      dtype='object')"
            ]
          },
          "metadata": {
            "tags": []
          },
          "execution_count": 136
        }
      ]
    },
    {
      "cell_type": "code",
      "metadata": {
        "id": "6yv1MfYskGzo"
      },
      "source": [
        "data_adultune.drop('Source ', axis=1, inplace=True)"
      ],
      "execution_count": 137,
      "outputs": []
    },
    {
      "cell_type": "markdown",
      "metadata": {
        "id": "QO86f7Hcnl6a"
      },
      "source": [
        "## Memisahkan antar data pengangguran laki-laki dan perempuan"
      ]
    },
    {
      "cell_type": "markdown",
      "metadata": {
        "id": "5MUFv-vtnei6"
      },
      "source": [
        "### Data Pengangguran Laki-Laki"
      ]
    },
    {
      "cell_type": "code",
      "metadata": {
        "id": "RowkbkY72bCk"
      },
      "source": [
        "data_adultune_male=data_adultune[['Countries','2004M','2005M','2006M','2007M','2008M','2009M','2010M','2011M','2012M','2013M','2014M']]"
      ],
      "execution_count": 138,
      "outputs": []
    },
    {
      "cell_type": "code",
      "metadata": {
        "id": "5N8R8taD4RJq"
      },
      "source": [
        "data_adultune_male=data_adultune_male.rename(columns={'2004M':'2004','2005M':'2005','2006M':'2006','2007M':'2007','2008M':'2008','2009M':'2009',\\\n",
        "                                   '2010M':'2010','2011M':'2011','2012M':'2012','2013M':'2013','2014M':'2014'})"
      ],
      "execution_count": 139,
      "outputs": []
    },
    {
      "cell_type": "code",
      "metadata": {
        "id": "ci66lhyvnzaB",
        "colab": {
          "base_uri": "https://localhost:8080/"
        },
        "outputId": "039d2cdb-b69a-4100-a4e1-cac757d31d73"
      },
      "source": [
        "#Untuk mengetahu tipe data pada dataset data_adultune_male\n",
        "data_adultune_male.dtypes"
      ],
      "execution_count": 140,
      "outputs": [
        {
          "output_type": "execute_result",
          "data": {
            "text/plain": [
              "Countries     object\n",
              "2004         float64\n",
              "2005         float64\n",
              "2006         float64\n",
              "2007         float64\n",
              "2008         float64\n",
              "2009         float64\n",
              "2010         float64\n",
              "2011         float64\n",
              "2012         float64\n",
              "2013         float64\n",
              "2014         float64\n",
              "dtype: object"
            ]
          },
          "metadata": {
            "tags": []
          },
          "execution_count": 140
        }
      ]
    },
    {
      "cell_type": "code",
      "metadata": {
        "id": "WAKYopRGqxup",
        "colab": {
          "base_uri": "https://localhost:8080/"
        },
        "outputId": "d1f79a20-e726-42b2-fa5f-f1bd08614bae"
      },
      "source": [
        "#Untuk mengetahui missing value\n",
        "print(data_adultune_male.isnull().sum())"
      ],
      "execution_count": 141,
      "outputs": [
        {
          "output_type": "stream",
          "text": [
            "Countries    0\n",
            "2004         1\n",
            "2005         3\n",
            "2006         3\n",
            "2007         1\n",
            "2008         1\n",
            "2009         1\n",
            "2010         0\n",
            "2011         1\n",
            "2012         1\n",
            "2013         2\n",
            "2014         5\n",
            "dtype: int64\n"
          ],
          "name": "stdout"
        }
      ]
    },
    {
      "cell_type": "code",
      "metadata": {
        "id": "_K0Acp2lxLUI"
      },
      "source": [
        "#Mengimputasi missing value dengan menggunakan mean atau median\n",
        "data_adultune_male['2004'].fillna(data_adultune_male['2004'].median(),inplace=True)\n",
        "data_adultune_male['2005'].fillna(data_adultune_male['2005'].mean(),inplace=True)\n",
        "data_adultune_male['2006'].fillna(data_adultune_male['2006'].mean(),inplace=True)\n",
        "data_adultune_male['2006'].fillna(data_adultune_male['2006'].mean(),inplace=True)\n",
        "data_adultune_male['2007'].fillna(data_adultune_male['2007'].median(),inplace=True)\n",
        "data_adultune_male['2008'].fillna(data_adultune_male['2008'].median(),inplace=True)\n",
        "data_adultune_male['2009'].fillna(data_adultune_male['2009'].mean(),inplace=True)\n",
        "data_adultune_male['2011'].fillna(data_adultune_male['2011'].median(),inplace=True)\n",
        "data_adultune_male['2012'].fillna(data_adultune_male['2012'].mean(),inplace=True)\n",
        "data_adultune_male['2013'].fillna(data_adultune_male['2013'].median(),inplace=True)\n",
        "data_adultune_male['2014'].fillna(data_adultune_male['2014'].median(),inplace=True)"
      ],
      "execution_count": 142,
      "outputs": []
    },
    {
      "cell_type": "markdown",
      "metadata": {
        "id": "QzEf76U3oZwa"
      },
      "source": [
        "Mengimputasi missing value dapat dilakukan dengan berbagai cara, salah satunya dengan ***univariate imputation*** dengan menggunakan median, mean maupun modus. Data missing value yang diimputasi dengan menggunakan median maupun meann dikarenakan data numerik. Data yang berdistribusi skewed ke kiri maupun kanan diimputasi dengan menggunakan median, sedangkan sisanya diimputasi menggunakan mean."
      ]
    },
    {
      "cell_type": "code",
      "metadata": {
        "id": "JeuhEcwf4lYJ",
        "colab": {
          "base_uri": "https://localhost:8080/"
        },
        "outputId": "c32446b4-8161-4f2f-9731-afc2c90c607f"
      },
      "source": [
        "print(data_adultune_male.isnull().sum())"
      ],
      "execution_count": 143,
      "outputs": [
        {
          "output_type": "stream",
          "text": [
            "Countries    0\n",
            "2004         0\n",
            "2005         0\n",
            "2006         0\n",
            "2007         0\n",
            "2008         0\n",
            "2009         0\n",
            "2010         0\n",
            "2011         0\n",
            "2012         0\n",
            "2013         0\n",
            "2014         0\n",
            "dtype: int64\n"
          ],
          "name": "stdout"
        }
      ]
    },
    {
      "cell_type": "code",
      "metadata": {
        "id": "Gi9jNpnv6OKX",
        "colab": {
          "base_uri": "https://localhost:8080/",
          "height": 355
        },
        "outputId": "2865221e-a0d0-4c0d-b855-dc91ab1edced"
      },
      "source": [
        "data_adultune_male"
      ],
      "execution_count": 144,
      "outputs": [
        {
          "output_type": "execute_result",
          "data": {
            "text/html": [
              "<div>\n",
              "<style scoped>\n",
              "    .dataframe tbody tr th:only-of-type {\n",
              "        vertical-align: middle;\n",
              "    }\n",
              "\n",
              "    .dataframe tbody tr th {\n",
              "        vertical-align: top;\n",
              "    }\n",
              "\n",
              "    .dataframe thead th {\n",
              "        text-align: right;\n",
              "    }\n",
              "</style>\n",
              "<table border=\"1\" class=\"dataframe\">\n",
              "  <thead>\n",
              "    <tr style=\"text-align: right;\">\n",
              "      <th></th>\n",
              "      <th>Countries</th>\n",
              "      <th>2004</th>\n",
              "      <th>2005</th>\n",
              "      <th>2006</th>\n",
              "      <th>2007</th>\n",
              "      <th>2008</th>\n",
              "      <th>2009</th>\n",
              "      <th>2010</th>\n",
              "      <th>2011</th>\n",
              "      <th>2012</th>\n",
              "      <th>2013</th>\n",
              "      <th>2014</th>\n",
              "    </tr>\n",
              "  </thead>\n",
              "  <tbody>\n",
              "    <tr>\n",
              "      <th>0</th>\n",
              "      <td>Brunei Darussalam</td>\n",
              "      <td>4.2</td>\n",
              "      <td>4.414286</td>\n",
              "      <td>7.400000</td>\n",
              "      <td>7.4</td>\n",
              "      <td>7.5</td>\n",
              "      <td>7.500000</td>\n",
              "      <td>7.6</td>\n",
              "      <td>7.5</td>\n",
              "      <td>7.600000</td>\n",
              "      <td>2.8</td>\n",
              "      <td>6.2</td>\n",
              "    </tr>\n",
              "    <tr>\n",
              "      <th>1</th>\n",
              "      <td>Cambodia</td>\n",
              "      <td>1.9</td>\n",
              "      <td>4.414286</td>\n",
              "      <td>5.042857</td>\n",
              "      <td>0.7</td>\n",
              "      <td>0.3</td>\n",
              "      <td>0.200000</td>\n",
              "      <td>0.4</td>\n",
              "      <td>0.3</td>\n",
              "      <td>0.100000</td>\n",
              "      <td>0.3</td>\n",
              "      <td>3.8</td>\n",
              "    </tr>\n",
              "    <tr>\n",
              "      <th>2</th>\n",
              "      <td>Indonesia</td>\n",
              "      <td>10.5</td>\n",
              "      <td>9.300000</td>\n",
              "      <td>8.500000</td>\n",
              "      <td>8.1</td>\n",
              "      <td>7.6</td>\n",
              "      <td>7.500000</td>\n",
              "      <td>6.2</td>\n",
              "      <td>5.9</td>\n",
              "      <td>5.800000</td>\n",
              "      <td>6.1</td>\n",
              "      <td>5.8</td>\n",
              "    </tr>\n",
              "    <tr>\n",
              "      <th>3</th>\n",
              "      <td>Lao's PDR</td>\n",
              "      <td>3.6</td>\n",
              "      <td>1.300000</td>\n",
              "      <td>5.042857</td>\n",
              "      <td>3.1</td>\n",
              "      <td>3.2</td>\n",
              "      <td>4.188889</td>\n",
              "      <td>1.8</td>\n",
              "      <td>2.9</td>\n",
              "      <td>3.555556</td>\n",
              "      <td>2.8</td>\n",
              "      <td>3.8</td>\n",
              "    </tr>\n",
              "    <tr>\n",
              "      <th>4</th>\n",
              "      <td>Malaysia</td>\n",
              "      <td>3.4</td>\n",
              "      <td>3.400000</td>\n",
              "      <td>3.300000</td>\n",
              "      <td>3.1</td>\n",
              "      <td>3.2</td>\n",
              "      <td>3.600000</td>\n",
              "      <td>3.2</td>\n",
              "      <td>2.9</td>\n",
              "      <td>2.900000</td>\n",
              "      <td>2.9</td>\n",
              "      <td>3.8</td>\n",
              "    </tr>\n",
              "    <tr>\n",
              "      <th>5</th>\n",
              "      <td>Myanmar</td>\n",
              "      <td>3.6</td>\n",
              "      <td>3.700000</td>\n",
              "      <td>3.700000</td>\n",
              "      <td>3.7</td>\n",
              "      <td>3.7</td>\n",
              "      <td>3.700000</td>\n",
              "      <td>3.7</td>\n",
              "      <td>3.7</td>\n",
              "      <td>3.700000</td>\n",
              "      <td>3.7</td>\n",
              "      <td>3.8</td>\n",
              "    </tr>\n",
              "    <tr>\n",
              "      <th>6</th>\n",
              "      <td>Philippines</td>\n",
              "      <td>10.4</td>\n",
              "      <td>7.400000</td>\n",
              "      <td>7.700000</td>\n",
              "      <td>6.4</td>\n",
              "      <td>7.0</td>\n",
              "      <td>7.400000</td>\n",
              "      <td>7.4</td>\n",
              "      <td>6.7</td>\n",
              "      <td>7.000000</td>\n",
              "      <td>6.7</td>\n",
              "      <td>3.8</td>\n",
              "    </tr>\n",
              "    <tr>\n",
              "      <th>7</th>\n",
              "      <td>Singapore</td>\n",
              "      <td>5.6</td>\n",
              "      <td>3.900000</td>\n",
              "      <td>3.400000</td>\n",
              "      <td>2.8</td>\n",
              "      <td>3.0</td>\n",
              "      <td>4.100000</td>\n",
              "      <td>3.0</td>\n",
              "      <td>2.6</td>\n",
              "      <td>2.700000</td>\n",
              "      <td>2.7</td>\n",
              "      <td>2.7</td>\n",
              "    </tr>\n",
              "    <tr>\n",
              "      <th>8</th>\n",
              "      <td>Thailand</td>\n",
              "      <td>2.1</td>\n",
              "      <td>1.900000</td>\n",
              "      <td>1.300000</td>\n",
              "      <td>1.3</td>\n",
              "      <td>1.3</td>\n",
              "      <td>1.200000</td>\n",
              "      <td>0.9</td>\n",
              "      <td>0.6</td>\n",
              "      <td>0.600000</td>\n",
              "      <td>0.8</td>\n",
              "      <td>3.8</td>\n",
              "    </tr>\n",
              "    <tr>\n",
              "      <th>9</th>\n",
              "      <td>Viet Nam</td>\n",
              "      <td>1.9</td>\n",
              "      <td>4.414286</td>\n",
              "      <td>5.042857</td>\n",
              "      <td>2.3</td>\n",
              "      <td>2.5</td>\n",
              "      <td>2.500000</td>\n",
              "      <td>2.3</td>\n",
              "      <td>1.7</td>\n",
              "      <td>1.600000</td>\n",
              "      <td>2.0</td>\n",
              "      <td>2.1</td>\n",
              "    </tr>\n",
              "  </tbody>\n",
              "</table>\n",
              "</div>"
            ],
            "text/plain": [
              "           Countries  2004      2005      2006  ...  2011      2012  2013  2014\n",
              "0  Brunei Darussalam   4.2  4.414286  7.400000  ...   7.5  7.600000   2.8   6.2\n",
              "1           Cambodia   1.9  4.414286  5.042857  ...   0.3  0.100000   0.3   3.8\n",
              "2         Indonesia   10.5  9.300000  8.500000  ...   5.9  5.800000   6.1   5.8\n",
              "3          Lao's PDR   3.6  1.300000  5.042857  ...   2.9  3.555556   2.8   3.8\n",
              "4          Malaysia    3.4  3.400000  3.300000  ...   2.9  2.900000   2.9   3.8\n",
              "5            Myanmar   3.6  3.700000  3.700000  ...   3.7  3.700000   3.7   3.8\n",
              "6        Philippines  10.4  7.400000  7.700000  ...   6.7  7.000000   6.7   3.8\n",
              "7          Singapore   5.6  3.900000  3.400000  ...   2.6  2.700000   2.7   2.7\n",
              "8           Thailand   2.1  1.900000  1.300000  ...   0.6  0.600000   0.8   3.8\n",
              "9           Viet Nam   1.9  4.414286  5.042857  ...   1.7  1.600000   2.0   2.1\n",
              "\n",
              "[10 rows x 12 columns]"
            ]
          },
          "metadata": {
            "tags": []
          },
          "execution_count": 144
        }
      ]
    },
    {
      "cell_type": "code",
      "metadata": {
        "id": "o6HnpQZM4-sR"
      },
      "source": [
        "data_adultune_male.rename(index=lambda x: data_adultune_male.at[x,'Countries'], inplace=True)\n",
        "data_adultune_male= data_adultune_male.transpose()"
      ],
      "execution_count": 145,
      "outputs": []
    },
    {
      "cell_type": "code",
      "metadata": {
        "id": "EMK7wMwEAlkK"
      },
      "source": [
        "data_adultune_male = data_adultune_male.drop(['Countries'])\n",
        "df1 = data_adultune_male.loc[(data_adultune_male != 0).any(1)]\n",
        "df1.index = pd.to_datetime(df1.index)"
      ],
      "execution_count": 146,
      "outputs": []
    },
    {
      "cell_type": "code",
      "metadata": {
        "id": "v9Fv1r99DeVm",
        "colab": {
          "base_uri": "https://localhost:8080/",
          "height": 385
        },
        "outputId": "fb0cb2c9-d0d9-49c7-cf29-9cc9da8af1da"
      },
      "source": [
        "df1"
      ],
      "execution_count": 147,
      "outputs": [
        {
          "output_type": "execute_result",
          "data": {
            "text/html": [
              "<div>\n",
              "<style scoped>\n",
              "    .dataframe tbody tr th:only-of-type {\n",
              "        vertical-align: middle;\n",
              "    }\n",
              "\n",
              "    .dataframe tbody tr th {\n",
              "        vertical-align: top;\n",
              "    }\n",
              "\n",
              "    .dataframe thead th {\n",
              "        text-align: right;\n",
              "    }\n",
              "</style>\n",
              "<table border=\"1\" class=\"dataframe\">\n",
              "  <thead>\n",
              "    <tr style=\"text-align: right;\">\n",
              "      <th></th>\n",
              "      <th>Brunei Darussalam</th>\n",
              "      <th>Cambodia</th>\n",
              "      <th>Indonesia</th>\n",
              "      <th>Lao's PDR</th>\n",
              "      <th>Malaysia</th>\n",
              "      <th>Myanmar</th>\n",
              "      <th>Philippines</th>\n",
              "      <th>Singapore</th>\n",
              "      <th>Thailand</th>\n",
              "      <th>Viet Nam</th>\n",
              "    </tr>\n",
              "  </thead>\n",
              "  <tbody>\n",
              "    <tr>\n",
              "      <th>2004-01-01</th>\n",
              "      <td>4.2</td>\n",
              "      <td>1.9</td>\n",
              "      <td>10.5</td>\n",
              "      <td>3.6</td>\n",
              "      <td>3.4</td>\n",
              "      <td>3.6</td>\n",
              "      <td>10.4</td>\n",
              "      <td>5.6</td>\n",
              "      <td>2.1</td>\n",
              "      <td>1.9</td>\n",
              "    </tr>\n",
              "    <tr>\n",
              "      <th>2005-01-01</th>\n",
              "      <td>4.41429</td>\n",
              "      <td>4.41429</td>\n",
              "      <td>9.3</td>\n",
              "      <td>1.3</td>\n",
              "      <td>3.4</td>\n",
              "      <td>3.7</td>\n",
              "      <td>7.4</td>\n",
              "      <td>3.9</td>\n",
              "      <td>1.9</td>\n",
              "      <td>4.41429</td>\n",
              "    </tr>\n",
              "    <tr>\n",
              "      <th>2006-01-01</th>\n",
              "      <td>7.4</td>\n",
              "      <td>5.04286</td>\n",
              "      <td>8.5</td>\n",
              "      <td>5.04286</td>\n",
              "      <td>3.3</td>\n",
              "      <td>3.7</td>\n",
              "      <td>7.7</td>\n",
              "      <td>3.4</td>\n",
              "      <td>1.3</td>\n",
              "      <td>5.04286</td>\n",
              "    </tr>\n",
              "    <tr>\n",
              "      <th>2007-01-01</th>\n",
              "      <td>7.4</td>\n",
              "      <td>0.7</td>\n",
              "      <td>8.1</td>\n",
              "      <td>3.1</td>\n",
              "      <td>3.1</td>\n",
              "      <td>3.7</td>\n",
              "      <td>6.4</td>\n",
              "      <td>2.8</td>\n",
              "      <td>1.3</td>\n",
              "      <td>2.3</td>\n",
              "    </tr>\n",
              "    <tr>\n",
              "      <th>2008-01-01</th>\n",
              "      <td>7.5</td>\n",
              "      <td>0.3</td>\n",
              "      <td>7.6</td>\n",
              "      <td>3.2</td>\n",
              "      <td>3.2</td>\n",
              "      <td>3.7</td>\n",
              "      <td>7</td>\n",
              "      <td>3</td>\n",
              "      <td>1.3</td>\n",
              "      <td>2.5</td>\n",
              "    </tr>\n",
              "    <tr>\n",
              "      <th>2009-01-01</th>\n",
              "      <td>7.5</td>\n",
              "      <td>0.2</td>\n",
              "      <td>7.5</td>\n",
              "      <td>4.18889</td>\n",
              "      <td>3.6</td>\n",
              "      <td>3.7</td>\n",
              "      <td>7.4</td>\n",
              "      <td>4.1</td>\n",
              "      <td>1.2</td>\n",
              "      <td>2.5</td>\n",
              "    </tr>\n",
              "    <tr>\n",
              "      <th>2010-01-01</th>\n",
              "      <td>7.6</td>\n",
              "      <td>0.4</td>\n",
              "      <td>6.2</td>\n",
              "      <td>1.8</td>\n",
              "      <td>3.2</td>\n",
              "      <td>3.7</td>\n",
              "      <td>7.4</td>\n",
              "      <td>3</td>\n",
              "      <td>0.9</td>\n",
              "      <td>2.3</td>\n",
              "    </tr>\n",
              "    <tr>\n",
              "      <th>2011-01-01</th>\n",
              "      <td>7.5</td>\n",
              "      <td>0.3</td>\n",
              "      <td>5.9</td>\n",
              "      <td>2.9</td>\n",
              "      <td>2.9</td>\n",
              "      <td>3.7</td>\n",
              "      <td>6.7</td>\n",
              "      <td>2.6</td>\n",
              "      <td>0.6</td>\n",
              "      <td>1.7</td>\n",
              "    </tr>\n",
              "    <tr>\n",
              "      <th>2012-01-01</th>\n",
              "      <td>7.6</td>\n",
              "      <td>0.1</td>\n",
              "      <td>5.8</td>\n",
              "      <td>3.55556</td>\n",
              "      <td>2.9</td>\n",
              "      <td>3.7</td>\n",
              "      <td>7</td>\n",
              "      <td>2.7</td>\n",
              "      <td>0.6</td>\n",
              "      <td>1.6</td>\n",
              "    </tr>\n",
              "    <tr>\n",
              "      <th>2013-01-01</th>\n",
              "      <td>2.8</td>\n",
              "      <td>0.3</td>\n",
              "      <td>6.1</td>\n",
              "      <td>2.8</td>\n",
              "      <td>2.9</td>\n",
              "      <td>3.7</td>\n",
              "      <td>6.7</td>\n",
              "      <td>2.7</td>\n",
              "      <td>0.8</td>\n",
              "      <td>2</td>\n",
              "    </tr>\n",
              "    <tr>\n",
              "      <th>2014-01-01</th>\n",
              "      <td>6.2</td>\n",
              "      <td>3.8</td>\n",
              "      <td>5.8</td>\n",
              "      <td>3.8</td>\n",
              "      <td>3.8</td>\n",
              "      <td>3.8</td>\n",
              "      <td>3.8</td>\n",
              "      <td>2.7</td>\n",
              "      <td>3.8</td>\n",
              "      <td>2.1</td>\n",
              "    </tr>\n",
              "  </tbody>\n",
              "</table>\n",
              "</div>"
            ],
            "text/plain": [
              "           Brunei Darussalam Cambodia Indonesia   ... Singapore Thailand Viet Nam\n",
              "2004-01-01               4.2      1.9       10.5  ...       5.6      2.1      1.9\n",
              "2005-01-01           4.41429  4.41429        9.3  ...       3.9      1.9  4.41429\n",
              "2006-01-01               7.4  5.04286        8.5  ...       3.4      1.3  5.04286\n",
              "2007-01-01               7.4      0.7        8.1  ...       2.8      1.3      2.3\n",
              "2008-01-01               7.5      0.3        7.6  ...         3      1.3      2.5\n",
              "2009-01-01               7.5      0.2        7.5  ...       4.1      1.2      2.5\n",
              "2010-01-01               7.6      0.4        6.2  ...         3      0.9      2.3\n",
              "2011-01-01               7.5      0.3        5.9  ...       2.6      0.6      1.7\n",
              "2012-01-01               7.6      0.1        5.8  ...       2.7      0.6      1.6\n",
              "2013-01-01               2.8      0.3        6.1  ...       2.7      0.8        2\n",
              "2014-01-01               6.2      3.8        5.8  ...       2.7      3.8      2.1\n",
              "\n",
              "[11 rows x 10 columns]"
            ]
          },
          "metadata": {
            "tags": []
          },
          "execution_count": 147
        }
      ]
    },
    {
      "cell_type": "code",
      "metadata": {
        "id": "vIpCpjgH7Tn3",
        "colab": {
          "base_uri": "https://localhost:8080/",
          "height": 796
        },
        "outputId": "3de633fe-b5dd-44cd-8074-9490f0d61547"
      },
      "source": [
        "p = df1.plot(subplots=True, figsize=(20,15))"
      ],
      "execution_count": 148,
      "outputs": [
        {
          "output_type": "display_data",
          "data": {
            "image/png": "[encoded data removed]",
            "text/plain": [
              "<Figure size 1440x1080 with 10 Axes>"
            ]
          },
          "metadata": {
            "tags": []
          }
        }
      ]
    },
    {
      "cell_type": "code",
      "metadata": {
        "id": "K8QApXTQopJ2"
      },
      "source": [
        "#Menambahkan Kolom jenis kelamin\n",
        "df1['Jenis Kelamin']='Laki-laki'"
      ],
      "execution_count": 149,
      "outputs": []
    },
    {
      "cell_type": "code",
      "metadata": {
        "id": "lJry_3zSo5q-",
        "colab": {
          "base_uri": "https://localhost:8080/",
          "height": 202
        },
        "outputId": "1ab852f8-17ef-4639-ce75-3822f26abea4"
      },
      "source": [
        "df1.head()"
      ],
      "execution_count": 150,
      "outputs": [
        {
          "output_type": "execute_result",
          "data": {
            "text/html": [
              "<div>\n",
              "<style scoped>\n",
              "    .dataframe tbody tr th:only-of-type {\n",
              "        vertical-align: middle;\n",
              "    }\n",
              "\n",
              "    .dataframe tbody tr th {\n",
              "        vertical-align: top;\n",
              "    }\n",
              "\n",
              "    .dataframe thead th {\n",
              "        text-align: right;\n",
              "    }\n",
              "</style>\n",
              "<table border=\"1\" class=\"dataframe\">\n",
              "  <thead>\n",
              "    <tr style=\"text-align: right;\">\n",
              "      <th></th>\n",
              "      <th>Brunei Darussalam</th>\n",
              "      <th>Cambodia</th>\n",
              "      <th>Indonesia</th>\n",
              "      <th>Lao's PDR</th>\n",
              "      <th>Malaysia</th>\n",
              "      <th>Myanmar</th>\n",
              "      <th>Philippines</th>\n",
              "      <th>Singapore</th>\n",
              "      <th>Thailand</th>\n",
              "      <th>Viet Nam</th>\n",
              "      <th>Jenis Kelamin</th>\n",
              "    </tr>\n",
              "  </thead>\n",
              "  <tbody>\n",
              "    <tr>\n",
              "      <th>2004-01-01</th>\n",
              "      <td>4.2</td>\n",
              "      <td>1.9</td>\n",
              "      <td>10.5</td>\n",
              "      <td>3.6</td>\n",
              "      <td>3.4</td>\n",
              "      <td>3.6</td>\n",
              "      <td>10.4</td>\n",
              "      <td>5.6</td>\n",
              "      <td>2.1</td>\n",
              "      <td>1.9</td>\n",
              "      <td>Laki-laki</td>\n",
              "    </tr>\n",
              "    <tr>\n",
              "      <th>2005-01-01</th>\n",
              "      <td>4.41429</td>\n",
              "      <td>4.41429</td>\n",
              "      <td>9.3</td>\n",
              "      <td>1.3</td>\n",
              "      <td>3.4</td>\n",
              "      <td>3.7</td>\n",
              "      <td>7.4</td>\n",
              "      <td>3.9</td>\n",
              "      <td>1.9</td>\n",
              "      <td>4.41429</td>\n",
              "      <td>Laki-laki</td>\n",
              "    </tr>\n",
              "    <tr>\n",
              "      <th>2006-01-01</th>\n",
              "      <td>7.4</td>\n",
              "      <td>5.04286</td>\n",
              "      <td>8.5</td>\n",
              "      <td>5.04286</td>\n",
              "      <td>3.3</td>\n",
              "      <td>3.7</td>\n",
              "      <td>7.7</td>\n",
              "      <td>3.4</td>\n",
              "      <td>1.3</td>\n",
              "      <td>5.04286</td>\n",
              "      <td>Laki-laki</td>\n",
              "    </tr>\n",
              "    <tr>\n",
              "      <th>2007-01-01</th>\n",
              "      <td>7.4</td>\n",
              "      <td>0.7</td>\n",
              "      <td>8.1</td>\n",
              "      <td>3.1</td>\n",
              "      <td>3.1</td>\n",
              "      <td>3.7</td>\n",
              "      <td>6.4</td>\n",
              "      <td>2.8</td>\n",
              "      <td>1.3</td>\n",
              "      <td>2.3</td>\n",
              "      <td>Laki-laki</td>\n",
              "    </tr>\n",
              "    <tr>\n",
              "      <th>2008-01-01</th>\n",
              "      <td>7.5</td>\n",
              "      <td>0.3</td>\n",
              "      <td>7.6</td>\n",
              "      <td>3.2</td>\n",
              "      <td>3.2</td>\n",
              "      <td>3.7</td>\n",
              "      <td>7</td>\n",
              "      <td>3</td>\n",
              "      <td>1.3</td>\n",
              "      <td>2.5</td>\n",
              "      <td>Laki-laki</td>\n",
              "    </tr>\n",
              "  </tbody>\n",
              "</table>\n",
              "</div>"
            ],
            "text/plain": [
              "           Brunei Darussalam Cambodia  ... Viet Nam Jenis Kelamin\n",
              "2004-01-01               4.2      1.9  ...      1.9     Laki-laki\n",
              "2005-01-01           4.41429  4.41429  ...  4.41429     Laki-laki\n",
              "2006-01-01               7.4  5.04286  ...  5.04286     Laki-laki\n",
              "2007-01-01               7.4      0.7  ...      2.3     Laki-laki\n",
              "2008-01-01               7.5      0.3  ...      2.5     Laki-laki\n",
              "\n",
              "[5 rows x 11 columns]"
            ]
          },
          "metadata": {
            "tags": []
          },
          "execution_count": 150
        }
      ]
    },
    {
      "cell_type": "code",
      "metadata": {
        "id": "X9n5MeB6sV7y"
      },
      "source": [
        "data_male = df1"
      ],
      "execution_count": 151,
      "outputs": []
    },
    {
      "cell_type": "code",
      "metadata": {
        "id": "H3wmv-55saCW"
      },
      "source": [
        "data_male['Tahun'] = ['2004','2005','2006','2007','2008','2009','2010','2011','2012','2013','2014']"
      ],
      "execution_count": 152,
      "outputs": []
    },
    {
      "cell_type": "code",
      "metadata": {
        "id": "u-5BfXIJwbxv"
      },
      "source": [
        "data_male['Brunei Darussalam']=data_male['Brunei Darussalam'].astype('float64')\n",
        "data_male['Cambodia']=data_male['Cambodia'].astype('float64')\n",
        "data_male['Indonesia ']=data_male['Indonesia '].astype('float64')\n",
        "data_male[\"Lao's PDR\"]=data_male[\"Lao's PDR\"].astype('float64')\n",
        "data_male[\"Malaysia \"]=data_male[\"Malaysia \"].astype('float64')\n",
        "data_male[\"Myanmar\"]=data_male[\"Myanmar\"].astype('float64')\n",
        "data_male[\"Philippines\"]=data_male[\"Philippines\"].astype('float64')\n",
        "data_male[\"Singapore\"]=data_male[\"Singapore\"].astype('float64')\n",
        "data_male[\"Thailand\"]=data_male[\"Thailand\"].astype('float64')\n",
        "data_male[\"Viet Nam\"]=data_male[\"Viet Nam\"].astype('float64')\n",
        "data_male[\"Jenis Kelamin\"]=data_male[\"Jenis Kelamin\"].astype('category')\n",
        "data_male['Tahun']=data_male['Tahun'].astype('datetime64')"
      ],
      "execution_count": 153,
      "outputs": []
    },
    {
      "cell_type": "code",
      "metadata": {
        "id": "p1BETOGAsiZu"
      },
      "source": [
        "col1 = data_male.columns.tolist()"
      ],
      "execution_count": 154,
      "outputs": []
    },
    {
      "cell_type": "code",
      "metadata": {
        "id": "yi33fSpXslId"
      },
      "source": [
        "col1 = col1[-1:] + col1[:-1]"
      ],
      "execution_count": 155,
      "outputs": []
    },
    {
      "cell_type": "code",
      "metadata": {
        "id": "T7MTnopvsm1Q"
      },
      "source": [
        "data_male=data_male[col1]"
      ],
      "execution_count": 156,
      "outputs": []
    },
    {
      "cell_type": "code",
      "metadata": {
        "id": "AM-L66_Fs45x"
      },
      "source": [
        "data_male= data_male.set_index(['Tahun'])"
      ],
      "execution_count": 157,
      "outputs": []
    },
    {
      "cell_type": "code",
      "metadata": {
        "id": "QkddiZNJsn4C",
        "colab": {
          "base_uri": "https://localhost:8080/",
          "height": 232
        },
        "outputId": "cd456fde-2018-404b-c14f-9fce070e692a"
      },
      "source": [
        "data_male.head()"
      ],
      "execution_count": 158,
      "outputs": [
        {
          "output_type": "execute_result",
          "data": {
            "text/html": [
              "<div>\n",
              "<style scoped>\n",
              "    .dataframe tbody tr th:only-of-type {\n",
              "        vertical-align: middle;\n",
              "    }\n",
              "\n",
              "    .dataframe tbody tr th {\n",
              "        vertical-align: top;\n",
              "    }\n",
              "\n",
              "    .dataframe thead th {\n",
              "        text-align: right;\n",
              "    }\n",
              "</style>\n",
              "<table border=\"1\" class=\"dataframe\">\n",
              "  <thead>\n",
              "    <tr style=\"text-align: right;\">\n",
              "      <th></th>\n",
              "      <th>Brunei Darussalam</th>\n",
              "      <th>Cambodia</th>\n",
              "      <th>Indonesia</th>\n",
              "      <th>Lao's PDR</th>\n",
              "      <th>Malaysia</th>\n",
              "      <th>Myanmar</th>\n",
              "      <th>Philippines</th>\n",
              "      <th>Singapore</th>\n",
              "      <th>Thailand</th>\n",
              "      <th>Viet Nam</th>\n",
              "      <th>Jenis Kelamin</th>\n",
              "    </tr>\n",
              "    <tr>\n",
              "      <th>Tahun</th>\n",
              "      <th></th>\n",
              "      <th></th>\n",
              "      <th></th>\n",
              "      <th></th>\n",
              "      <th></th>\n",
              "      <th></th>\n",
              "      <th></th>\n",
              "      <th></th>\n",
              "      <th></th>\n",
              "      <th></th>\n",
              "      <th></th>\n",
              "    </tr>\n",
              "  </thead>\n",
              "  <tbody>\n",
              "    <tr>\n",
              "      <th>2004-01-01</th>\n",
              "      <td>4.200000</td>\n",
              "      <td>1.900000</td>\n",
              "      <td>10.5</td>\n",
              "      <td>3.600000</td>\n",
              "      <td>3.4</td>\n",
              "      <td>3.6</td>\n",
              "      <td>10.4</td>\n",
              "      <td>5.6</td>\n",
              "      <td>2.1</td>\n",
              "      <td>1.900000</td>\n",
              "      <td>Laki-laki</td>\n",
              "    </tr>\n",
              "    <tr>\n",
              "      <th>2005-01-01</th>\n",
              "      <td>4.414286</td>\n",
              "      <td>4.414286</td>\n",
              "      <td>9.3</td>\n",
              "      <td>1.300000</td>\n",
              "      <td>3.4</td>\n",
              "      <td>3.7</td>\n",
              "      <td>7.4</td>\n",
              "      <td>3.9</td>\n",
              "      <td>1.9</td>\n",
              "      <td>4.414286</td>\n",
              "      <td>Laki-laki</td>\n",
              "    </tr>\n",
              "    <tr>\n",
              "      <th>2006-01-01</th>\n",
              "      <td>7.400000</td>\n",
              "      <td>5.042857</td>\n",
              "      <td>8.5</td>\n",
              "      <td>5.042857</td>\n",
              "      <td>3.3</td>\n",
              "      <td>3.7</td>\n",
              "      <td>7.7</td>\n",
              "      <td>3.4</td>\n",
              "      <td>1.3</td>\n",
              "      <td>5.042857</td>\n",
              "      <td>Laki-laki</td>\n",
              "    </tr>\n",
              "    <tr>\n",
              "      <th>2007-01-01</th>\n",
              "      <td>7.400000</td>\n",
              "      <td>0.700000</td>\n",
              "      <td>8.1</td>\n",
              "      <td>3.100000</td>\n",
              "      <td>3.1</td>\n",
              "      <td>3.7</td>\n",
              "      <td>6.4</td>\n",
              "      <td>2.8</td>\n",
              "      <td>1.3</td>\n",
              "      <td>2.300000</td>\n",
              "      <td>Laki-laki</td>\n",
              "    </tr>\n",
              "    <tr>\n",
              "      <th>2008-01-01</th>\n",
              "      <td>7.500000</td>\n",
              "      <td>0.300000</td>\n",
              "      <td>7.6</td>\n",
              "      <td>3.200000</td>\n",
              "      <td>3.2</td>\n",
              "      <td>3.7</td>\n",
              "      <td>7.0</td>\n",
              "      <td>3.0</td>\n",
              "      <td>1.3</td>\n",
              "      <td>2.500000</td>\n",
              "      <td>Laki-laki</td>\n",
              "    </tr>\n",
              "  </tbody>\n",
              "</table>\n",
              "</div>"
            ],
            "text/plain": [
              "            Brunei Darussalam  Cambodia  ...  Viet Nam  Jenis Kelamin\n",
              "Tahun                                    ...                         \n",
              "2004-01-01           4.200000  1.900000  ...  1.900000      Laki-laki\n",
              "2005-01-01           4.414286  4.414286  ...  4.414286      Laki-laki\n",
              "2006-01-01           7.400000  5.042857  ...  5.042857      Laki-laki\n",
              "2007-01-01           7.400000  0.700000  ...  2.300000      Laki-laki\n",
              "2008-01-01           7.500000  0.300000  ...  2.500000      Laki-laki\n",
              "\n",
              "[5 rows x 11 columns]"
            ]
          },
          "metadata": {
            "tags": []
          },
          "execution_count": 158
        }
      ]
    },
    {
      "cell_type": "markdown",
      "metadata": {
        "id": "ewo8xPfEbvIb"
      },
      "source": [
        "### Data Female Adult Unemployment"
      ]
    },
    {
      "cell_type": "code",
      "metadata": {
        "id": "OnDrlB3v2aCZ"
      },
      "source": [
        "data_adultune_female = data_adultune[['Countries','2004F','2005F','2006F','2007F','2008F','2009F','2010F','2011F','2012F','2013F','2014F']]"
      ],
      "execution_count": 159,
      "outputs": []
    },
    {
      "cell_type": "code",
      "metadata": {
        "id": "citBokFg1gGS"
      },
      "source": [
        "data_adultune_female = data_adultune_female.rename(columns={'2004F':'2004','2005F':'2005','2006F':'2006','2007F':'2007','2008F':'2008','2009F':'2009',\\\n",
        "                                   '2010F':'2010','2011F':'2011','2012F':'2012','2013F':'2013','2014F':'2014'}) "
      ],
      "execution_count": 160,
      "outputs": []
    },
    {
      "cell_type": "code",
      "metadata": {
        "id": "d_QaOdR1b9QG",
        "colab": {
          "base_uri": "https://localhost:8080/",
          "height": 355
        },
        "outputId": "e38b29e1-9fd9-4f06-803c-bcf468dabf77"
      },
      "source": [
        "data_adultune_female"
      ],
      "execution_count": 161,
      "outputs": [
        {
          "output_type": "execute_result",
          "data": {
            "text/html": [
              "<div>\n",
              "<style scoped>\n",
              "    .dataframe tbody tr th:only-of-type {\n",
              "        vertical-align: middle;\n",
              "    }\n",
              "\n",
              "    .dataframe tbody tr th {\n",
              "        vertical-align: top;\n",
              "    }\n",
              "\n",
              "    .dataframe thead th {\n",
              "        text-align: right;\n",
              "    }\n",
              "</style>\n",
              "<table border=\"1\" class=\"dataframe\">\n",
              "  <thead>\n",
              "    <tr style=\"text-align: right;\">\n",
              "      <th></th>\n",
              "      <th>Countries</th>\n",
              "      <th>2004</th>\n",
              "      <th>2005</th>\n",
              "      <th>2006</th>\n",
              "      <th>2007</th>\n",
              "      <th>2008</th>\n",
              "      <th>2009</th>\n",
              "      <th>2010</th>\n",
              "      <th>2011</th>\n",
              "      <th>2012</th>\n",
              "      <th>2013</th>\n",
              "      <th>2014</th>\n",
              "    </tr>\n",
              "  </thead>\n",
              "  <tbody>\n",
              "    <tr>\n",
              "      <th>0</th>\n",
              "      <td>Brunei Darussalam</td>\n",
              "      <td>5.6</td>\n",
              "      <td>NaN</td>\n",
              "      <td>9.2</td>\n",
              "      <td>9.6</td>\n",
              "      <td>10.1</td>\n",
              "      <td>10.7</td>\n",
              "      <td>11.3</td>\n",
              "      <td>11.7</td>\n",
              "      <td>12.4</td>\n",
              "      <td>NaN</td>\n",
              "      <td>7.8</td>\n",
              "    </tr>\n",
              "    <tr>\n",
              "      <th>1</th>\n",
              "      <td>Cambodia</td>\n",
              "      <td>2.7</td>\n",
              "      <td>NaN</td>\n",
              "      <td>NaN</td>\n",
              "      <td>0.8</td>\n",
              "      <td>0.4</td>\n",
              "      <td>0.1</td>\n",
              "      <td>0.3</td>\n",
              "      <td>0.1</td>\n",
              "      <td>0.2</td>\n",
              "      <td>0.3</td>\n",
              "      <td>NaN</td>\n",
              "    </tr>\n",
              "    <tr>\n",
              "      <th>2</th>\n",
              "      <td>Indonesia</td>\n",
              "      <td>16.8</td>\n",
              "      <td>14.7</td>\n",
              "      <td>13.4</td>\n",
              "      <td>10.8</td>\n",
              "      <td>9.7</td>\n",
              "      <td>8.5</td>\n",
              "      <td>8.7</td>\n",
              "      <td>7.6</td>\n",
              "      <td>6.8</td>\n",
              "      <td>6.5</td>\n",
              "      <td>6.3</td>\n",
              "    </tr>\n",
              "    <tr>\n",
              "      <th>3</th>\n",
              "      <td>Lao's PDR</td>\n",
              "      <td>NaN</td>\n",
              "      <td>1.2</td>\n",
              "      <td>NaN</td>\n",
              "      <td>NaN</td>\n",
              "      <td>NaN</td>\n",
              "      <td>NaN</td>\n",
              "      <td>2.0</td>\n",
              "      <td>NaN</td>\n",
              "      <td>NaN</td>\n",
              "      <td>NaN</td>\n",
              "      <td>NaN</td>\n",
              "    </tr>\n",
              "    <tr>\n",
              "      <th>4</th>\n",
              "      <td>Malaysia</td>\n",
              "      <td>3.8</td>\n",
              "      <td>3.7</td>\n",
              "      <td>3.4</td>\n",
              "      <td>3.4</td>\n",
              "      <td>3.7</td>\n",
              "      <td>3.8</td>\n",
              "      <td>3.4</td>\n",
              "      <td>3.3</td>\n",
              "      <td>3.2</td>\n",
              "      <td>3.4</td>\n",
              "      <td>NaN</td>\n",
              "    </tr>\n",
              "    <tr>\n",
              "      <th>5</th>\n",
              "      <td>Myanmar</td>\n",
              "      <td>4.6</td>\n",
              "      <td>4.6</td>\n",
              "      <td>4.6</td>\n",
              "      <td>4.6</td>\n",
              "      <td>4.6</td>\n",
              "      <td>4.6</td>\n",
              "      <td>4.6</td>\n",
              "      <td>4.6</td>\n",
              "      <td>4.6</td>\n",
              "      <td>4.6</td>\n",
              "      <td>4.0</td>\n",
              "    </tr>\n",
              "    <tr>\n",
              "      <th>6</th>\n",
              "      <td>Philippines</td>\n",
              "      <td>11.7</td>\n",
              "      <td>7.3</td>\n",
              "      <td>6.9</td>\n",
              "      <td>6.0</td>\n",
              "      <td>6.6</td>\n",
              "      <td>6.7</td>\n",
              "      <td>6.7</td>\n",
              "      <td>6.1</td>\n",
              "      <td>6.7</td>\n",
              "      <td>5.9</td>\n",
              "      <td>NaN</td>\n",
              "    </tr>\n",
              "    <tr>\n",
              "      <th>7</th>\n",
              "      <td>Singapore</td>\n",
              "      <td>6.2</td>\n",
              "      <td>4.5</td>\n",
              "      <td>3.7</td>\n",
              "      <td>3.1</td>\n",
              "      <td>3.5</td>\n",
              "      <td>4.7</td>\n",
              "      <td>3.4</td>\n",
              "      <td>3.2</td>\n",
              "      <td>3.1</td>\n",
              "      <td>2.9</td>\n",
              "      <td>2.9</td>\n",
              "    </tr>\n",
              "    <tr>\n",
              "      <th>8</th>\n",
              "      <td>Thailand</td>\n",
              "      <td>2.1</td>\n",
              "      <td>1.7</td>\n",
              "      <td>1.1</td>\n",
              "      <td>1.1</td>\n",
              "      <td>1.0</td>\n",
              "      <td>1.1</td>\n",
              "      <td>0.8</td>\n",
              "      <td>0.7</td>\n",
              "      <td>0.5</td>\n",
              "      <td>0.8</td>\n",
              "      <td>NaN</td>\n",
              "    </tr>\n",
              "    <tr>\n",
              "      <th>9</th>\n",
              "      <td>Viet Nam</td>\n",
              "      <td>2.4</td>\n",
              "      <td>NaN</td>\n",
              "      <td>NaN</td>\n",
              "      <td>2.1</td>\n",
              "      <td>1.9</td>\n",
              "      <td>2.7</td>\n",
              "      <td>3.1</td>\n",
              "      <td>2.4</td>\n",
              "      <td>2.0</td>\n",
              "      <td>2.0</td>\n",
              "      <td>2.1</td>\n",
              "    </tr>\n",
              "  </tbody>\n",
              "</table>\n",
              "</div>"
            ],
            "text/plain": [
              "           Countries  2004  2005  2006  2007  ...  2010  2011  2012  2013  2014\n",
              "0  Brunei Darussalam   5.6   NaN   9.2   9.6  ...  11.3  11.7  12.4   NaN   7.8\n",
              "1           Cambodia   2.7   NaN   NaN   0.8  ...   0.3   0.1   0.2   0.3   NaN\n",
              "2         Indonesia   16.8  14.7  13.4  10.8  ...   8.7   7.6   6.8   6.5   6.3\n",
              "3          Lao's PDR   NaN   1.2   NaN   NaN  ...   2.0   NaN   NaN   NaN   NaN\n",
              "4          Malaysia    3.8   3.7   3.4   3.4  ...   3.4   3.3   3.2   3.4   NaN\n",
              "5            Myanmar   4.6   4.6   4.6   4.6  ...   4.6   4.6   4.6   4.6   4.0\n",
              "6        Philippines  11.7   7.3   6.9   6.0  ...   6.7   6.1   6.7   5.9   NaN\n",
              "7          Singapore   6.2   4.5   3.7   3.1  ...   3.4   3.2   3.1   2.9   2.9\n",
              "8           Thailand   2.1   1.7   1.1   1.1  ...   0.8   0.7   0.5   0.8   NaN\n",
              "9           Viet Nam   2.4   NaN   NaN   2.1  ...   3.1   2.4   2.0   2.0   2.1\n",
              "\n",
              "[10 rows x 12 columns]"
            ]
          },
          "metadata": {
            "tags": []
          },
          "execution_count": 161
        }
      ]
    },
    {
      "cell_type": "code",
      "metadata": {
        "id": "DJJvVIgStFZg",
        "colab": {
          "base_uri": "https://localhost:8080/"
        },
        "outputId": "4901bf18-0a84-4b1e-cc75-88e8615de238"
      },
      "source": [
        "data_adultune_female.dtypes"
      ],
      "execution_count": 162,
      "outputs": [
        {
          "output_type": "execute_result",
          "data": {
            "text/plain": [
              "Countries     object\n",
              "2004         float64\n",
              "2005         float64\n",
              "2006         float64\n",
              "2007         float64\n",
              "2008         float64\n",
              "2009         float64\n",
              "2010         float64\n",
              "2011         float64\n",
              "2012         float64\n",
              "2013         float64\n",
              "2014         float64\n",
              "dtype: object"
            ]
          },
          "metadata": {
            "tags": []
          },
          "execution_count": 162
        }
      ]
    },
    {
      "cell_type": "code",
      "metadata": {
        "id": "rH4jPFhdcGr6",
        "colab": {
          "base_uri": "https://localhost:8080/"
        },
        "outputId": "d071d454-d674-4562-da90-cb73bc4266ae"
      },
      "source": [
        "#Untuk Mengetahui mising value\n",
        "print(data_adultune_female.isnull().sum())"
      ],
      "execution_count": 163,
      "outputs": [
        {
          "output_type": "stream",
          "text": [
            "Countries    0\n",
            "2004         1\n",
            "2005         3\n",
            "2006         3\n",
            "2007         1\n",
            "2008         1\n",
            "2009         1\n",
            "2010         0\n",
            "2011         1\n",
            "2012         1\n",
            "2013         2\n",
            "2014         5\n",
            "dtype: int64\n"
          ],
          "name": "stdout"
        }
      ]
    },
    {
      "cell_type": "code",
      "metadata": {
        "id": "Ui-BQoO3x4rF"
      },
      "source": [
        "#Mengimputasi missing value dengan median atau mean\n",
        "data_adultune_female['2004'].fillna(data_adultune_female['2004'].median(),inplace=True)\n",
        "data_adultune_female['2005'].fillna(data_adultune_female['2005'].mean(),inplace=True)\n",
        "data_adultune_female['2006'].fillna(data_adultune_female['2006'].mean(),inplace=True)\n",
        "data_adultune_female['2007'].fillna(data_adultune_female['2007'].mean(),inplace=True)\n",
        "data_adultune_female['2008'].fillna(data_adultune_female['2008'].mean(),inplace=True)\n",
        "data_adultune_female['2009'].fillna(data_adultune_female['2009'].mean(),inplace=True)\n",
        "data_adultune_female['2011'].fillna(data_adultune_female['2011'].mean(),inplace=True)\n",
        "data_adultune_female['2012'].fillna(data_adultune_female['2012'].mean(),inplace=True)\n",
        "data_adultune_female['2013'].fillna(data_adultune_female['2013'].mean(),inplace=True)\n",
        "data_adultune_female['2014'].fillna(data_adultune_female['2014'].mean(),inplace=True)"
      ],
      "execution_count": 164,
      "outputs": []
    },
    {
      "cell_type": "markdown",
      "metadata": {
        "id": "P4opP7GktaGW"
      },
      "source": [
        "Mengimputasi missing value dapat dilakukan dengan berbagai cara, salah satunya dengan ***univariate imputation*** dengan menggunakan median, mean maupun modus. Data missing value yang diimputasi dengan menggunakan median maupun meann dikarenakan data numerik. Data yang berdistribusi skewed ke kiri maupun kanan diimputasi dengan menggunakan median, sedangkan sisanya diimputasi menggunakan mean."
      ]
    },
    {
      "cell_type": "code",
      "metadata": {
        "id": "H8uyZYQBlkWl",
        "colab": {
          "base_uri": "https://localhost:8080/",
          "height": 284
        },
        "outputId": "70d37116-2677-4e5c-873c-8374f897ec8f"
      },
      "source": [
        "p = sns.distplot(data_adultune_female['2014'], kde=True, rug=True)"
      ],
      "execution_count": 165,
      "outputs": [
        {
          "output_type": "display_data",
          "data": {
            "image/png": "[encoded data removed]",
            "text/plain": [
              "<Figure size 432x288 with 1 Axes>"
            ]
          },
          "metadata": {
            "tags": []
          }
        }
      ]
    },
    {
      "cell_type": "code",
      "metadata": {
        "id": "lQ05Aq9RxiuJ",
        "colab": {
          "base_uri": "https://localhost:8080/"
        },
        "outputId": "b3f30ac4-cb7c-462f-b3d7-979530e51707"
      },
      "source": [
        "print(data_adultune_female.isnull().sum())"
      ],
      "execution_count": 166,
      "outputs": [
        {
          "output_type": "stream",
          "text": [
            "Countries    0\n",
            "2004         0\n",
            "2005         0\n",
            "2006         0\n",
            "2007         0\n",
            "2008         0\n",
            "2009         0\n",
            "2010         0\n",
            "2011         0\n",
            "2012         0\n",
            "2013         0\n",
            "2014         0\n",
            "dtype: int64\n"
          ],
          "name": "stdout"
        }
      ]
    },
    {
      "cell_type": "code",
      "metadata": {
        "id": "qzXyp0kW10an"
      },
      "source": [
        "data_adultune_female.rename(index=lambda x: data_adultune_female.at[x,'Countries'], inplace=True)\n",
        "data_adultune_female= data_adultune_female.transpose()"
      ],
      "execution_count": 167,
      "outputs": []
    },
    {
      "cell_type": "code",
      "metadata": {
        "id": "RUptB_y32HEH"
      },
      "source": [
        "data_adultune_female = data_adultune_female.drop(['Countries'])\n",
        "df2 = data_adultune_female.loc[(data_adultune_female != 0).any(1)]\n",
        "df2.index = pd.to_datetime(df2.index)"
      ],
      "execution_count": 168,
      "outputs": []
    },
    {
      "cell_type": "code",
      "metadata": {
        "id": "yd-TU2z42XGa",
        "colab": {
          "base_uri": "https://localhost:8080/",
          "height": 385
        },
        "outputId": "59b95187-6759-4853-f585-df4e99b74651"
      },
      "source": [
        "df2"
      ],
      "execution_count": 169,
      "outputs": [
        {
          "output_type": "execute_result",
          "data": {
            "text/html": [
              "<div>\n",
              "<style scoped>\n",
              "    .dataframe tbody tr th:only-of-type {\n",
              "        vertical-align: middle;\n",
              "    }\n",
              "\n",
              "    .dataframe tbody tr th {\n",
              "        vertical-align: top;\n",
              "    }\n",
              "\n",
              "    .dataframe thead th {\n",
              "        text-align: right;\n",
              "    }\n",
              "</style>\n",
              "<table border=\"1\" class=\"dataframe\">\n",
              "  <thead>\n",
              "    <tr style=\"text-align: right;\">\n",
              "      <th></th>\n",
              "      <th>Brunei Darussalam</th>\n",
              "      <th>Cambodia</th>\n",
              "      <th>Indonesia</th>\n",
              "      <th>Lao's PDR</th>\n",
              "      <th>Malaysia</th>\n",
              "      <th>Myanmar</th>\n",
              "      <th>Philippines</th>\n",
              "      <th>Singapore</th>\n",
              "      <th>Thailand</th>\n",
              "      <th>Viet Nam</th>\n",
              "    </tr>\n",
              "  </thead>\n",
              "  <tbody>\n",
              "    <tr>\n",
              "      <th>2004-01-01</th>\n",
              "      <td>5.6</td>\n",
              "      <td>2.7</td>\n",
              "      <td>16.8</td>\n",
              "      <td>4.6</td>\n",
              "      <td>3.8</td>\n",
              "      <td>4.6</td>\n",
              "      <td>11.7</td>\n",
              "      <td>6.2</td>\n",
              "      <td>2.1</td>\n",
              "      <td>2.4</td>\n",
              "    </tr>\n",
              "    <tr>\n",
              "      <th>2005-01-01</th>\n",
              "      <td>5.38571</td>\n",
              "      <td>5.38571</td>\n",
              "      <td>14.7</td>\n",
              "      <td>1.2</td>\n",
              "      <td>3.7</td>\n",
              "      <td>4.6</td>\n",
              "      <td>7.3</td>\n",
              "      <td>4.5</td>\n",
              "      <td>1.7</td>\n",
              "      <td>5.38571</td>\n",
              "    </tr>\n",
              "    <tr>\n",
              "      <th>2006-01-01</th>\n",
              "      <td>9.2</td>\n",
              "      <td>6.04286</td>\n",
              "      <td>13.4</td>\n",
              "      <td>6.04286</td>\n",
              "      <td>3.4</td>\n",
              "      <td>4.6</td>\n",
              "      <td>6.9</td>\n",
              "      <td>3.7</td>\n",
              "      <td>1.1</td>\n",
              "      <td>6.04286</td>\n",
              "    </tr>\n",
              "    <tr>\n",
              "      <th>2007-01-01</th>\n",
              "      <td>9.6</td>\n",
              "      <td>0.8</td>\n",
              "      <td>10.8</td>\n",
              "      <td>4.61111</td>\n",
              "      <td>3.4</td>\n",
              "      <td>4.6</td>\n",
              "      <td>6</td>\n",
              "      <td>3.1</td>\n",
              "      <td>1.1</td>\n",
              "      <td>2.1</td>\n",
              "    </tr>\n",
              "    <tr>\n",
              "      <th>2008-01-01</th>\n",
              "      <td>10.1</td>\n",
              "      <td>0.4</td>\n",
              "      <td>9.7</td>\n",
              "      <td>4.61111</td>\n",
              "      <td>3.7</td>\n",
              "      <td>4.6</td>\n",
              "      <td>6.6</td>\n",
              "      <td>3.5</td>\n",
              "      <td>1</td>\n",
              "      <td>1.9</td>\n",
              "    </tr>\n",
              "    <tr>\n",
              "      <th>2009-01-01</th>\n",
              "      <td>10.7</td>\n",
              "      <td>0.1</td>\n",
              "      <td>8.5</td>\n",
              "      <td>4.76667</td>\n",
              "      <td>3.8</td>\n",
              "      <td>4.6</td>\n",
              "      <td>6.7</td>\n",
              "      <td>4.7</td>\n",
              "      <td>1.1</td>\n",
              "      <td>2.7</td>\n",
              "    </tr>\n",
              "    <tr>\n",
              "      <th>2010-01-01</th>\n",
              "      <td>11.3</td>\n",
              "      <td>0.3</td>\n",
              "      <td>8.7</td>\n",
              "      <td>2</td>\n",
              "      <td>3.4</td>\n",
              "      <td>4.6</td>\n",
              "      <td>6.7</td>\n",
              "      <td>3.4</td>\n",
              "      <td>0.8</td>\n",
              "      <td>3.1</td>\n",
              "    </tr>\n",
              "    <tr>\n",
              "      <th>2011-01-01</th>\n",
              "      <td>11.7</td>\n",
              "      <td>0.1</td>\n",
              "      <td>7.6</td>\n",
              "      <td>4.41111</td>\n",
              "      <td>3.3</td>\n",
              "      <td>4.6</td>\n",
              "      <td>6.1</td>\n",
              "      <td>3.2</td>\n",
              "      <td>0.7</td>\n",
              "      <td>2.4</td>\n",
              "    </tr>\n",
              "    <tr>\n",
              "      <th>2012-01-01</th>\n",
              "      <td>12.4</td>\n",
              "      <td>0.2</td>\n",
              "      <td>6.8</td>\n",
              "      <td>4.38889</td>\n",
              "      <td>3.2</td>\n",
              "      <td>4.6</td>\n",
              "      <td>6.7</td>\n",
              "      <td>3.1</td>\n",
              "      <td>0.5</td>\n",
              "      <td>2</td>\n",
              "    </tr>\n",
              "    <tr>\n",
              "      <th>2013-01-01</th>\n",
              "      <td>3.3</td>\n",
              "      <td>0.3</td>\n",
              "      <td>6.5</td>\n",
              "      <td>3.3</td>\n",
              "      <td>3.4</td>\n",
              "      <td>4.6</td>\n",
              "      <td>5.9</td>\n",
              "      <td>2.9</td>\n",
              "      <td>0.8</td>\n",
              "      <td>2</td>\n",
              "    </tr>\n",
              "    <tr>\n",
              "      <th>2014-01-01</th>\n",
              "      <td>7.8</td>\n",
              "      <td>4.62</td>\n",
              "      <td>6.3</td>\n",
              "      <td>4.62</td>\n",
              "      <td>4.62</td>\n",
              "      <td>4</td>\n",
              "      <td>4.62</td>\n",
              "      <td>2.9</td>\n",
              "      <td>4.62</td>\n",
              "      <td>2.1</td>\n",
              "    </tr>\n",
              "  </tbody>\n",
              "</table>\n",
              "</div>"
            ],
            "text/plain": [
              "           Brunei Darussalam Cambodia Indonesia   ... Singapore Thailand Viet Nam\n",
              "2004-01-01               5.6      2.7       16.8  ...       6.2      2.1      2.4\n",
              "2005-01-01           5.38571  5.38571       14.7  ...       4.5      1.7  5.38571\n",
              "2006-01-01               9.2  6.04286       13.4  ...       3.7      1.1  6.04286\n",
              "2007-01-01               9.6      0.8       10.8  ...       3.1      1.1      2.1\n",
              "2008-01-01              10.1      0.4        9.7  ...       3.5        1      1.9\n",
              "2009-01-01              10.7      0.1        8.5  ...       4.7      1.1      2.7\n",
              "2010-01-01              11.3      0.3        8.7  ...       3.4      0.8      3.1\n",
              "2011-01-01              11.7      0.1        7.6  ...       3.2      0.7      2.4\n",
              "2012-01-01              12.4      0.2        6.8  ...       3.1      0.5        2\n",
              "2013-01-01               3.3      0.3        6.5  ...       2.9      0.8        2\n",
              "2014-01-01               7.8     4.62        6.3  ...       2.9     4.62      2.1\n",
              "\n",
              "[11 rows x 10 columns]"
            ]
          },
          "metadata": {
            "tags": []
          },
          "execution_count": 169
        }
      ]
    },
    {
      "cell_type": "code",
      "metadata": {
        "id": "QYul1ax32dsV",
        "colab": {
          "base_uri": "https://localhost:8080/",
          "height": 796
        },
        "outputId": "3bf3b424-0091-44c8-e99d-63ba0e375f74"
      },
      "source": [
        "p = df2.plot(subplots=True, figsize=(20,15))"
      ],
      "execution_count": 170,
      "outputs": [
        {
          "output_type": "display_data",
          "data": {
            "image/png": "[encoded data removed]",
            "text/plain": [
              "<Figure size 1440x1080 with 10 Axes>"
            ]
          },
          "metadata": {
            "tags": []
          }
        }
      ]
    },
    {
      "cell_type": "code",
      "metadata": {
        "id": "fOhaijbo4IO8"
      },
      "source": [
        "#Menambahkan kolom jenis kelamin\n",
        "df2['Jenis Kelamin']='Perempuan'"
      ],
      "execution_count": 171,
      "outputs": []
    },
    {
      "cell_type": "code",
      "metadata": {
        "id": "qsYGfON34nnN",
        "colab": {
          "base_uri": "https://localhost:8080/",
          "height": 202
        },
        "outputId": "74fc3df0-cb5d-4794-fad3-33a48475d08b"
      },
      "source": [
        "df2.head()"
      ],
      "execution_count": 172,
      "outputs": [
        {
          "output_type": "execute_result",
          "data": {
            "text/html": [
              "<div>\n",
              "<style scoped>\n",
              "    .dataframe tbody tr th:only-of-type {\n",
              "        vertical-align: middle;\n",
              "    }\n",
              "\n",
              "    .dataframe tbody tr th {\n",
              "        vertical-align: top;\n",
              "    }\n",
              "\n",
              "    .dataframe thead th {\n",
              "        text-align: right;\n",
              "    }\n",
              "</style>\n",
              "<table border=\"1\" class=\"dataframe\">\n",
              "  <thead>\n",
              "    <tr style=\"text-align: right;\">\n",
              "      <th></th>\n",
              "      <th>Brunei Darussalam</th>\n",
              "      <th>Cambodia</th>\n",
              "      <th>Indonesia</th>\n",
              "      <th>Lao's PDR</th>\n",
              "      <th>Malaysia</th>\n",
              "      <th>Myanmar</th>\n",
              "      <th>Philippines</th>\n",
              "      <th>Singapore</th>\n",
              "      <th>Thailand</th>\n",
              "      <th>Viet Nam</th>\n",
              "      <th>Jenis Kelamin</th>\n",
              "    </tr>\n",
              "  </thead>\n",
              "  <tbody>\n",
              "    <tr>\n",
              "      <th>2004-01-01</th>\n",
              "      <td>5.6</td>\n",
              "      <td>2.7</td>\n",
              "      <td>16.8</td>\n",
              "      <td>4.6</td>\n",
              "      <td>3.8</td>\n",
              "      <td>4.6</td>\n",
              "      <td>11.7</td>\n",
              "      <td>6.2</td>\n",
              "      <td>2.1</td>\n",
              "      <td>2.4</td>\n",
              "      <td>Perempuan</td>\n",
              "    </tr>\n",
              "    <tr>\n",
              "      <th>2005-01-01</th>\n",
              "      <td>5.38571</td>\n",
              "      <td>5.38571</td>\n",
              "      <td>14.7</td>\n",
              "      <td>1.2</td>\n",
              "      <td>3.7</td>\n",
              "      <td>4.6</td>\n",
              "      <td>7.3</td>\n",
              "      <td>4.5</td>\n",
              "      <td>1.7</td>\n",
              "      <td>5.38571</td>\n",
              "      <td>Perempuan</td>\n",
              "    </tr>\n",
              "    <tr>\n",
              "      <th>2006-01-01</th>\n",
              "      <td>9.2</td>\n",
              "      <td>6.04286</td>\n",
              "      <td>13.4</td>\n",
              "      <td>6.04286</td>\n",
              "      <td>3.4</td>\n",
              "      <td>4.6</td>\n",
              "      <td>6.9</td>\n",
              "      <td>3.7</td>\n",
              "      <td>1.1</td>\n",
              "      <td>6.04286</td>\n",
              "      <td>Perempuan</td>\n",
              "    </tr>\n",
              "    <tr>\n",
              "      <th>2007-01-01</th>\n",
              "      <td>9.6</td>\n",
              "      <td>0.8</td>\n",
              "      <td>10.8</td>\n",
              "      <td>4.61111</td>\n",
              "      <td>3.4</td>\n",
              "      <td>4.6</td>\n",
              "      <td>6</td>\n",
              "      <td>3.1</td>\n",
              "      <td>1.1</td>\n",
              "      <td>2.1</td>\n",
              "      <td>Perempuan</td>\n",
              "    </tr>\n",
              "    <tr>\n",
              "      <th>2008-01-01</th>\n",
              "      <td>10.1</td>\n",
              "      <td>0.4</td>\n",
              "      <td>9.7</td>\n",
              "      <td>4.61111</td>\n",
              "      <td>3.7</td>\n",
              "      <td>4.6</td>\n",
              "      <td>6.6</td>\n",
              "      <td>3.5</td>\n",
              "      <td>1</td>\n",
              "      <td>1.9</td>\n",
              "      <td>Perempuan</td>\n",
              "    </tr>\n",
              "  </tbody>\n",
              "</table>\n",
              "</div>"
            ],
            "text/plain": [
              "           Brunei Darussalam Cambodia  ... Viet Nam Jenis Kelamin\n",
              "2004-01-01               5.6      2.7  ...      2.4     Perempuan\n",
              "2005-01-01           5.38571  5.38571  ...  5.38571     Perempuan\n",
              "2006-01-01               9.2  6.04286  ...  6.04286     Perempuan\n",
              "2007-01-01               9.6      0.8  ...      2.1     Perempuan\n",
              "2008-01-01              10.1      0.4  ...      1.9     Perempuan\n",
              "\n",
              "[5 rows x 11 columns]"
            ]
          },
          "metadata": {
            "tags": []
          },
          "execution_count": 172
        }
      ]
    },
    {
      "cell_type": "code",
      "metadata": {
        "id": "E7fSCRp44800"
      },
      "source": [
        "data_female = df2"
      ],
      "execution_count": 173,
      "outputs": []
    },
    {
      "cell_type": "code",
      "metadata": {
        "id": "pVIKpsNF5Uo1"
      },
      "source": [
        "data_female['Tahun'] = ['2004','2005','2006','2007','2008','2009','2010','2011','2012','2013','2014']"
      ],
      "execution_count": 174,
      "outputs": []
    },
    {
      "cell_type": "code",
      "metadata": {
        "id": "LoJhHm-8yfGq",
        "colab": {
          "base_uri": "https://localhost:8080/"
        },
        "outputId": "6ca58c68-00ac-4c22-dd04-6f17a96463a9"
      },
      "source": [
        "data_female.dtypes"
      ],
      "execution_count": 175,
      "outputs": [
        {
          "output_type": "execute_result",
          "data": {
            "text/plain": [
              "Brunei Darussalam    object\n",
              "Cambodia             object\n",
              "Indonesia            object\n",
              "Lao's PDR            object\n",
              "Malaysia             object\n",
              "Myanmar              object\n",
              "Philippines          object\n",
              "Singapore            object\n",
              "Thailand             object\n",
              "Viet Nam             object\n",
              "Jenis Kelamin        object\n",
              "Tahun                object\n",
              "dtype: object"
            ]
          },
          "metadata": {
            "tags": []
          },
          "execution_count": 175
        }
      ]
    },
    {
      "cell_type": "code",
      "metadata": {
        "id": "qQ3Fi2CYyosp"
      },
      "source": [
        "data_female['Brunei Darussalam']=data_female['Brunei Darussalam'].astype('float64')\n",
        "data_female['Cambodia']=data_female['Cambodia'].astype('float64')\n",
        "data_female['Indonesia ']=data_female['Indonesia '].astype('float64')\n",
        "data_female[\"Lao's PDR\"]=data_female[\"Lao's PDR\"].astype('float64')\n",
        "data_female[\"Malaysia \"]=data_female[\"Malaysia \"].astype('float64')\n",
        "data_female[\"Myanmar\"]=data_female[\"Myanmar\"].astype('float64')\n",
        "data_female[\"Philippines\"]=data_female[\"Philippines\"].astype('float64')\n",
        "data_female[\"Singapore\"]=data_female[\"Singapore\"].astype('float64')\n",
        "data_female[\"Thailand\"]=data_female[\"Thailand\"].astype('float64')\n",
        "data_female[\"Viet Nam\"]=data_female[\"Viet Nam\"].astype('float64')\n",
        "data_female[\"Jenis Kelamin\"]=data_female[\"Jenis Kelamin\"].astype('category')\n",
        "data_female['Tahun']=data_female['Tahun'].astype('datetime64')"
      ],
      "execution_count": 176,
      "outputs": []
    },
    {
      "cell_type": "code",
      "metadata": {
        "id": "ht_diF6zk7mA"
      },
      "source": [
        "col2 = data_female.columns.tolist()"
      ],
      "execution_count": 177,
      "outputs": []
    },
    {
      "cell_type": "code",
      "metadata": {
        "id": "rPEpIIDjlI7R"
      },
      "source": [
        "col2 = col2[-1:] + col2[:-1]"
      ],
      "execution_count": 178,
      "outputs": []
    },
    {
      "cell_type": "code",
      "metadata": {
        "id": "W6uBaIpelPHO",
        "colab": {
          "base_uri": "https://localhost:8080/"
        },
        "outputId": "6a6b1112-174d-42f2-eca2-f4d03a3275f8"
      },
      "source": [
        "col2"
      ],
      "execution_count": 179,
      "outputs": [
        {
          "output_type": "execute_result",
          "data": {
            "text/plain": [
              "['Tahun',\n",
              " 'Brunei Darussalam',\n",
              " 'Cambodia',\n",
              " 'Indonesia ',\n",
              " \"Lao's PDR\",\n",
              " 'Malaysia ',\n",
              " 'Myanmar',\n",
              " 'Philippines',\n",
              " 'Singapore',\n",
              " 'Thailand',\n",
              " 'Viet Nam',\n",
              " 'Jenis Kelamin']"
            ]
          },
          "metadata": {
            "tags": []
          },
          "execution_count": 179
        }
      ]
    },
    {
      "cell_type": "code",
      "metadata": {
        "id": "ng1wFR8klR_V"
      },
      "source": [
        "data_female = data_female[col2]"
      ],
      "execution_count": 180,
      "outputs": []
    },
    {
      "cell_type": "code",
      "metadata": {
        "id": "8nmnzMX0lrju"
      },
      "source": [
        "data_female= data_female.set_index(['Tahun'])"
      ],
      "execution_count": 181,
      "outputs": []
    },
    {
      "cell_type": "code",
      "metadata": {
        "id": "QS0zcxnXuZg2",
        "colab": {
          "base_uri": "https://localhost:8080/",
          "height": 232
        },
        "outputId": "e60b4a3d-6acf-42c7-ceb8-aa91d019c7e1"
      },
      "source": [
        "data_female.head()"
      ],
      "execution_count": 182,
      "outputs": [
        {
          "output_type": "execute_result",
          "data": {
            "text/html": [
              "<div>\n",
              "<style scoped>\n",
              "    .dataframe tbody tr th:only-of-type {\n",
              "        vertical-align: middle;\n",
              "    }\n",
              "\n",
              "    .dataframe tbody tr th {\n",
              "        vertical-align: top;\n",
              "    }\n",
              "\n",
              "    .dataframe thead th {\n",
              "        text-align: right;\n",
              "    }\n",
              "</style>\n",
              "<table border=\"1\" class=\"dataframe\">\n",
              "  <thead>\n",
              "    <tr style=\"text-align: right;\">\n",
              "      <th></th>\n",
              "      <th>Brunei Darussalam</th>\n",
              "      <th>Cambodia</th>\n",
              "      <th>Indonesia</th>\n",
              "      <th>Lao's PDR</th>\n",
              "      <th>Malaysia</th>\n",
              "      <th>Myanmar</th>\n",
              "      <th>Philippines</th>\n",
              "      <th>Singapore</th>\n",
              "      <th>Thailand</th>\n",
              "      <th>Viet Nam</th>\n",
              "      <th>Jenis Kelamin</th>\n",
              "    </tr>\n",
              "    <tr>\n",
              "      <th>Tahun</th>\n",
              "      <th></th>\n",
              "      <th></th>\n",
              "      <th></th>\n",
              "      <th></th>\n",
              "      <th></th>\n",
              "      <th></th>\n",
              "      <th></th>\n",
              "      <th></th>\n",
              "      <th></th>\n",
              "      <th></th>\n",
              "      <th></th>\n",
              "    </tr>\n",
              "  </thead>\n",
              "  <tbody>\n",
              "    <tr>\n",
              "      <th>2004-01-01</th>\n",
              "      <td>5.600000</td>\n",
              "      <td>2.700000</td>\n",
              "      <td>16.8</td>\n",
              "      <td>4.600000</td>\n",
              "      <td>3.8</td>\n",
              "      <td>4.6</td>\n",
              "      <td>11.7</td>\n",
              "      <td>6.2</td>\n",
              "      <td>2.1</td>\n",
              "      <td>2.400000</td>\n",
              "      <td>Perempuan</td>\n",
              "    </tr>\n",
              "    <tr>\n",
              "      <th>2005-01-01</th>\n",
              "      <td>5.385714</td>\n",
              "      <td>5.385714</td>\n",
              "      <td>14.7</td>\n",
              "      <td>1.200000</td>\n",
              "      <td>3.7</td>\n",
              "      <td>4.6</td>\n",
              "      <td>7.3</td>\n",
              "      <td>4.5</td>\n",
              "      <td>1.7</td>\n",
              "      <td>5.385714</td>\n",
              "      <td>Perempuan</td>\n",
              "    </tr>\n",
              "    <tr>\n",
              "      <th>2006-01-01</th>\n",
              "      <td>9.200000</td>\n",
              "      <td>6.042857</td>\n",
              "      <td>13.4</td>\n",
              "      <td>6.042857</td>\n",
              "      <td>3.4</td>\n",
              "      <td>4.6</td>\n",
              "      <td>6.9</td>\n",
              "      <td>3.7</td>\n",
              "      <td>1.1</td>\n",
              "      <td>6.042857</td>\n",
              "      <td>Perempuan</td>\n",
              "    </tr>\n",
              "    <tr>\n",
              "      <th>2007-01-01</th>\n",
              "      <td>9.600000</td>\n",
              "      <td>0.800000</td>\n",
              "      <td>10.8</td>\n",
              "      <td>4.611111</td>\n",
              "      <td>3.4</td>\n",
              "      <td>4.6</td>\n",
              "      <td>6.0</td>\n",
              "      <td>3.1</td>\n",
              "      <td>1.1</td>\n",
              "      <td>2.100000</td>\n",
              "      <td>Perempuan</td>\n",
              "    </tr>\n",
              "    <tr>\n",
              "      <th>2008-01-01</th>\n",
              "      <td>10.100000</td>\n",
              "      <td>0.400000</td>\n",
              "      <td>9.7</td>\n",
              "      <td>4.611111</td>\n",
              "      <td>3.7</td>\n",
              "      <td>4.6</td>\n",
              "      <td>6.6</td>\n",
              "      <td>3.5</td>\n",
              "      <td>1.0</td>\n",
              "      <td>1.900000</td>\n",
              "      <td>Perempuan</td>\n",
              "    </tr>\n",
              "  </tbody>\n",
              "</table>\n",
              "</div>"
            ],
            "text/plain": [
              "            Brunei Darussalam  Cambodia  ...  Viet Nam  Jenis Kelamin\n",
              "Tahun                                    ...                         \n",
              "2004-01-01           5.600000  2.700000  ...  2.400000      Perempuan\n",
              "2005-01-01           5.385714  5.385714  ...  5.385714      Perempuan\n",
              "2006-01-01           9.200000  6.042857  ...  6.042857      Perempuan\n",
              "2007-01-01           9.600000  0.800000  ...  2.100000      Perempuan\n",
              "2008-01-01          10.100000  0.400000  ...  1.900000      Perempuan\n",
              "\n",
              "[5 rows x 11 columns]"
            ]
          },
          "metadata": {
            "tags": []
          },
          "execution_count": 182
        }
      ]
    },
    {
      "cell_type": "markdown",
      "metadata": {
        "id": "s-47AvxWv1i9"
      },
      "source": [
        "## Menggabungkan dataFrame data_male dan data_female"
      ]
    },
    {
      "cell_type": "code",
      "metadata": {
        "id": "bMKi8kBM5daO"
      },
      "source": [
        "data = pd.concat([data_male,data_female])"
      ],
      "execution_count": 183,
      "outputs": []
    },
    {
      "cell_type": "code",
      "metadata": {
        "id": "tXs2V_mtnakt",
        "colab": {
          "base_uri": "https://localhost:8080/",
          "height": 754
        },
        "outputId": "76e3224a-2359-408b-a5f3-a81753451e0f"
      },
      "source": [
        "data"
      ],
      "execution_count": 184,
      "outputs": [
        {
          "output_type": "execute_result",
          "data": {
            "text/html": [
              "<div>\n",
              "<style scoped>\n",
              "    .dataframe tbody tr th:only-of-type {\n",
              "        vertical-align: middle;\n",
              "    }\n",
              "\n",
              "    .dataframe tbody tr th {\n",
              "        vertical-align: top;\n",
              "    }\n",
              "\n",
              "    .dataframe thead th {\n",
              "        text-align: right;\n",
              "    }\n",
              "</style>\n",
              "<table border=\"1\" class=\"dataframe\">\n",
              "  <thead>\n",
              "    <tr style=\"text-align: right;\">\n",
              "      <th></th>\n",
              "      <th>Brunei Darussalam</th>\n",
              "      <th>Cambodia</th>\n",
              "      <th>Indonesia</th>\n",
              "      <th>Lao's PDR</th>\n",
              "      <th>Malaysia</th>\n",
              "      <th>Myanmar</th>\n",
              "      <th>Philippines</th>\n",
              "      <th>Singapore</th>\n",
              "      <th>Thailand</th>\n",
              "      <th>Viet Nam</th>\n",
              "      <th>Jenis Kelamin</th>\n",
              "    </tr>\n",
              "    <tr>\n",
              "      <th>Tahun</th>\n",
              "      <th></th>\n",
              "      <th></th>\n",
              "      <th></th>\n",
              "      <th></th>\n",
              "      <th></th>\n",
              "      <th></th>\n",
              "      <th></th>\n",
              "      <th></th>\n",
              "      <th></th>\n",
              "      <th></th>\n",
              "      <th></th>\n",
              "    </tr>\n",
              "  </thead>\n",
              "  <tbody>\n",
              "    <tr>\n",
              "      <th>2004-01-01</th>\n",
              "      <td>4.200000</td>\n",
              "      <td>1.900000</td>\n",
              "      <td>10.5</td>\n",
              "      <td>3.600000</td>\n",
              "      <td>3.40</td>\n",
              "      <td>3.6</td>\n",
              "      <td>10.40</td>\n",
              "      <td>5.6</td>\n",
              "      <td>2.10</td>\n",
              "      <td>1.900000</td>\n",
              "      <td>Laki-laki</td>\n",
              "    </tr>\n",
              "    <tr>\n",
              "      <th>2005-01-01</th>\n",
              "      <td>4.414286</td>\n",
              "      <td>4.414286</td>\n",
              "      <td>9.3</td>\n",
              "      <td>1.300000</td>\n",
              "      <td>3.40</td>\n",
              "      <td>3.7</td>\n",
              "      <td>7.40</td>\n",
              "      <td>3.9</td>\n",
              "      <td>1.90</td>\n",
              "      <td>4.414286</td>\n",
              "      <td>Laki-laki</td>\n",
              "    </tr>\n",
              "    <tr>\n",
              "      <th>2006-01-01</th>\n",
              "      <td>7.400000</td>\n",
              "      <td>5.042857</td>\n",
              "      <td>8.5</td>\n",
              "      <td>5.042857</td>\n",
              "      <td>3.30</td>\n",
              "      <td>3.7</td>\n",
              "      <td>7.70</td>\n",
              "      <td>3.4</td>\n",
              "      <td>1.30</td>\n",
              "      <td>5.042857</td>\n",
              "      <td>Laki-laki</td>\n",
              "    </tr>\n",
              "    <tr>\n",
              "      <th>2007-01-01</th>\n",
              "      <td>7.400000</td>\n",
              "      <td>0.700000</td>\n",
              "      <td>8.1</td>\n",
              "      <td>3.100000</td>\n",
              "      <td>3.10</td>\n",
              "      <td>3.7</td>\n",
              "      <td>6.40</td>\n",
              "      <td>2.8</td>\n",
              "      <td>1.30</td>\n",
              "      <td>2.300000</td>\n",
              "      <td>Laki-laki</td>\n",
              "    </tr>\n",
              "    <tr>\n",
              "      <th>2008-01-01</th>\n",
              "      <td>7.500000</td>\n",
              "      <td>0.300000</td>\n",
              "      <td>7.6</td>\n",
              "      <td>3.200000</td>\n",
              "      <td>3.20</td>\n",
              "      <td>3.7</td>\n",
              "      <td>7.00</td>\n",
              "      <td>3.0</td>\n",
              "      <td>1.30</td>\n",
              "      <td>2.500000</td>\n",
              "      <td>Laki-laki</td>\n",
              "    </tr>\n",
              "    <tr>\n",
              "      <th>2009-01-01</th>\n",
              "      <td>7.500000</td>\n",
              "      <td>0.200000</td>\n",
              "      <td>7.5</td>\n",
              "      <td>4.188889</td>\n",
              "      <td>3.60</td>\n",
              "      <td>3.7</td>\n",
              "      <td>7.40</td>\n",
              "      <td>4.1</td>\n",
              "      <td>1.20</td>\n",
              "      <td>2.500000</td>\n",
              "      <td>Laki-laki</td>\n",
              "    </tr>\n",
              "    <tr>\n",
              "      <th>2010-01-01</th>\n",
              "      <td>7.600000</td>\n",
              "      <td>0.400000</td>\n",
              "      <td>6.2</td>\n",
              "      <td>1.800000</td>\n",
              "      <td>3.20</td>\n",
              "      <td>3.7</td>\n",
              "      <td>7.40</td>\n",
              "      <td>3.0</td>\n",
              "      <td>0.90</td>\n",
              "      <td>2.300000</td>\n",
              "      <td>Laki-laki</td>\n",
              "    </tr>\n",
              "    <tr>\n",
              "      <th>2011-01-01</th>\n",
              "      <td>7.500000</td>\n",
              "      <td>0.300000</td>\n",
              "      <td>5.9</td>\n",
              "      <td>2.900000</td>\n",
              "      <td>2.90</td>\n",
              "      <td>3.7</td>\n",
              "      <td>6.70</td>\n",
              "      <td>2.6</td>\n",
              "      <td>0.60</td>\n",
              "      <td>1.700000</td>\n",
              "      <td>Laki-laki</td>\n",
              "    </tr>\n",
              "    <tr>\n",
              "      <th>2012-01-01</th>\n",
              "      <td>7.600000</td>\n",
              "      <td>0.100000</td>\n",
              "      <td>5.8</td>\n",
              "      <td>3.555556</td>\n",
              "      <td>2.90</td>\n",
              "      <td>3.7</td>\n",
              "      <td>7.00</td>\n",
              "      <td>2.7</td>\n",
              "      <td>0.60</td>\n",
              "      <td>1.600000</td>\n",
              "      <td>Laki-laki</td>\n",
              "    </tr>\n",
              "    <tr>\n",
              "      <th>2013-01-01</th>\n",
              "      <td>2.800000</td>\n",
              "      <td>0.300000</td>\n",
              "      <td>6.1</td>\n",
              "      <td>2.800000</td>\n",
              "      <td>2.90</td>\n",
              "      <td>3.7</td>\n",
              "      <td>6.70</td>\n",
              "      <td>2.7</td>\n",
              "      <td>0.80</td>\n",
              "      <td>2.000000</td>\n",
              "      <td>Laki-laki</td>\n",
              "    </tr>\n",
              "    <tr>\n",
              "      <th>2014-01-01</th>\n",
              "      <td>6.200000</td>\n",
              "      <td>3.800000</td>\n",
              "      <td>5.8</td>\n",
              "      <td>3.800000</td>\n",
              "      <td>3.80</td>\n",
              "      <td>3.8</td>\n",
              "      <td>3.80</td>\n",
              "      <td>2.7</td>\n",
              "      <td>3.80</td>\n",
              "      <td>2.100000</td>\n",
              "      <td>Laki-laki</td>\n",
              "    </tr>\n",
              "    <tr>\n",
              "      <th>2004-01-01</th>\n",
              "      <td>5.600000</td>\n",
              "      <td>2.700000</td>\n",
              "      <td>16.8</td>\n",
              "      <td>4.600000</td>\n",
              "      <td>3.80</td>\n",
              "      <td>4.6</td>\n",
              "      <td>11.70</td>\n",
              "      <td>6.2</td>\n",
              "      <td>2.10</td>\n",
              "      <td>2.400000</td>\n",
              "      <td>Perempuan</td>\n",
              "    </tr>\n",
              "    <tr>\n",
              "      <th>2005-01-01</th>\n",
              "      <td>5.385714</td>\n",
              "      <td>5.385714</td>\n",
              "      <td>14.7</td>\n",
              "      <td>1.200000</td>\n",
              "      <td>3.70</td>\n",
              "      <td>4.6</td>\n",
              "      <td>7.30</td>\n",
              "      <td>4.5</td>\n",
              "      <td>1.70</td>\n",
              "      <td>5.385714</td>\n",
              "      <td>Perempuan</td>\n",
              "    </tr>\n",
              "    <tr>\n",
              "      <th>2006-01-01</th>\n",
              "      <td>9.200000</td>\n",
              "      <td>6.042857</td>\n",
              "      <td>13.4</td>\n",
              "      <td>6.042857</td>\n",
              "      <td>3.40</td>\n",
              "      <td>4.6</td>\n",
              "      <td>6.90</td>\n",
              "      <td>3.7</td>\n",
              "      <td>1.10</td>\n",
              "      <td>6.042857</td>\n",
              "      <td>Perempuan</td>\n",
              "    </tr>\n",
              "    <tr>\n",
              "      <th>2007-01-01</th>\n",
              "      <td>9.600000</td>\n",
              "      <td>0.800000</td>\n",
              "      <td>10.8</td>\n",
              "      <td>4.611111</td>\n",
              "      <td>3.40</td>\n",
              "      <td>4.6</td>\n",
              "      <td>6.00</td>\n",
              "      <td>3.1</td>\n",
              "      <td>1.10</td>\n",
              "      <td>2.100000</td>\n",
              "      <td>Perempuan</td>\n",
              "    </tr>\n",
              "    <tr>\n",
              "      <th>2008-01-01</th>\n",
              "      <td>10.100000</td>\n",
              "      <td>0.400000</td>\n",
              "      <td>9.7</td>\n",
              "      <td>4.611111</td>\n",
              "      <td>3.70</td>\n",
              "      <td>4.6</td>\n",
              "      <td>6.60</td>\n",
              "      <td>3.5</td>\n",
              "      <td>1.00</td>\n",
              "      <td>1.900000</td>\n",
              "      <td>Perempuan</td>\n",
              "    </tr>\n",
              "    <tr>\n",
              "      <th>2009-01-01</th>\n",
              "      <td>10.700000</td>\n",
              "      <td>0.100000</td>\n",
              "      <td>8.5</td>\n",
              "      <td>4.766667</td>\n",
              "      <td>3.80</td>\n",
              "      <td>4.6</td>\n",
              "      <td>6.70</td>\n",
              "      <td>4.7</td>\n",
              "      <td>1.10</td>\n",
              "      <td>2.700000</td>\n",
              "      <td>Perempuan</td>\n",
              "    </tr>\n",
              "    <tr>\n",
              "      <th>2010-01-01</th>\n",
              "      <td>11.300000</td>\n",
              "      <td>0.300000</td>\n",
              "      <td>8.7</td>\n",
              "      <td>2.000000</td>\n",
              "      <td>3.40</td>\n",
              "      <td>4.6</td>\n",
              "      <td>6.70</td>\n",
              "      <td>3.4</td>\n",
              "      <td>0.80</td>\n",
              "      <td>3.100000</td>\n",
              "      <td>Perempuan</td>\n",
              "    </tr>\n",
              "    <tr>\n",
              "      <th>2011-01-01</th>\n",
              "      <td>11.700000</td>\n",
              "      <td>0.100000</td>\n",
              "      <td>7.6</td>\n",
              "      <td>4.411111</td>\n",
              "      <td>3.30</td>\n",
              "      <td>4.6</td>\n",
              "      <td>6.10</td>\n",
              "      <td>3.2</td>\n",
              "      <td>0.70</td>\n",
              "      <td>2.400000</td>\n",
              "      <td>Perempuan</td>\n",
              "    </tr>\n",
              "    <tr>\n",
              "      <th>2012-01-01</th>\n",
              "      <td>12.400000</td>\n",
              "      <td>0.200000</td>\n",
              "      <td>6.8</td>\n",
              "      <td>4.388889</td>\n",
              "      <td>3.20</td>\n",
              "      <td>4.6</td>\n",
              "      <td>6.70</td>\n",
              "      <td>3.1</td>\n",
              "      <td>0.50</td>\n",
              "      <td>2.000000</td>\n",
              "      <td>Perempuan</td>\n",
              "    </tr>\n",
              "    <tr>\n",
              "      <th>2013-01-01</th>\n",
              "      <td>3.300000</td>\n",
              "      <td>0.300000</td>\n",
              "      <td>6.5</td>\n",
              "      <td>3.300000</td>\n",
              "      <td>3.40</td>\n",
              "      <td>4.6</td>\n",
              "      <td>5.90</td>\n",
              "      <td>2.9</td>\n",
              "      <td>0.80</td>\n",
              "      <td>2.000000</td>\n",
              "      <td>Perempuan</td>\n",
              "    </tr>\n",
              "    <tr>\n",
              "      <th>2014-01-01</th>\n",
              "      <td>7.800000</td>\n",
              "      <td>4.620000</td>\n",
              "      <td>6.3</td>\n",
              "      <td>4.620000</td>\n",
              "      <td>4.62</td>\n",
              "      <td>4.0</td>\n",
              "      <td>4.62</td>\n",
              "      <td>2.9</td>\n",
              "      <td>4.62</td>\n",
              "      <td>2.100000</td>\n",
              "      <td>Perempuan</td>\n",
              "    </tr>\n",
              "  </tbody>\n",
              "</table>\n",
              "</div>"
            ],
            "text/plain": [
              "            Brunei Darussalam  Cambodia  ...  Viet Nam  Jenis Kelamin\n",
              "Tahun                                    ...                         \n",
              "2004-01-01           4.200000  1.900000  ...  1.900000      Laki-laki\n",
              "2005-01-01           4.414286  4.414286  ...  4.414286      Laki-laki\n",
              "2006-01-01           7.400000  5.042857  ...  5.042857      Laki-laki\n",
              "2007-01-01           7.400000  0.700000  ...  2.300000      Laki-laki\n",
              "2008-01-01           7.500000  0.300000  ...  2.500000      Laki-laki\n",
              "2009-01-01           7.500000  0.200000  ...  2.500000      Laki-laki\n",
              "2010-01-01           7.600000  0.400000  ...  2.300000      Laki-laki\n",
              "2011-01-01           7.500000  0.300000  ...  1.700000      Laki-laki\n",
              "2012-01-01           7.600000  0.100000  ...  1.600000      Laki-laki\n",
              "2013-01-01           2.800000  0.300000  ...  2.000000      Laki-laki\n",
              "2014-01-01           6.200000  3.800000  ...  2.100000      Laki-laki\n",
              "2004-01-01           5.600000  2.700000  ...  2.400000      Perempuan\n",
              "2005-01-01           5.385714  5.385714  ...  5.385714      Perempuan\n",
              "2006-01-01           9.200000  6.042857  ...  6.042857      Perempuan\n",
              "2007-01-01           9.600000  0.800000  ...  2.100000      Perempuan\n",
              "2008-01-01          10.100000  0.400000  ...  1.900000      Perempuan\n",
              "2009-01-01          10.700000  0.100000  ...  2.700000      Perempuan\n",
              "2010-01-01          11.300000  0.300000  ...  3.100000      Perempuan\n",
              "2011-01-01          11.700000  0.100000  ...  2.400000      Perempuan\n",
              "2012-01-01          12.400000  0.200000  ...  2.000000      Perempuan\n",
              "2013-01-01           3.300000  0.300000  ...  2.000000      Perempuan\n",
              "2014-01-01           7.800000  4.620000  ...  2.100000      Perempuan\n",
              "\n",
              "[22 rows x 11 columns]"
            ]
          },
          "metadata": {
            "tags": []
          },
          "execution_count": 184
        }
      ]
    },
    {
      "cell_type": "code",
      "metadata": {
        "id": "bIYpMaEro2wJ",
        "colab": {
          "base_uri": "https://localhost:8080/",
          "height": 754
        },
        "outputId": "0de58a0f-90df-45ea-8bd9-3493ca567fda"
      },
      "source": [
        "data.sort_values(by='Tahun')"
      ],
      "execution_count": 185,
      "outputs": [
        {
          "output_type": "execute_result",
          "data": {
            "text/html": [
              "<div>\n",
              "<style scoped>\n",
              "    .dataframe tbody tr th:only-of-type {\n",
              "        vertical-align: middle;\n",
              "    }\n",
              "\n",
              "    .dataframe tbody tr th {\n",
              "        vertical-align: top;\n",
              "    }\n",
              "\n",
              "    .dataframe thead th {\n",
              "        text-align: right;\n",
              "    }\n",
              "</style>\n",
              "<table border=\"1\" class=\"dataframe\">\n",
              "  <thead>\n",
              "    <tr style=\"text-align: right;\">\n",
              "      <th></th>\n",
              "      <th>Brunei Darussalam</th>\n",
              "      <th>Cambodia</th>\n",
              "      <th>Indonesia</th>\n",
              "      <th>Lao's PDR</th>\n",
              "      <th>Malaysia</th>\n",
              "      <th>Myanmar</th>\n",
              "      <th>Philippines</th>\n",
              "      <th>Singapore</th>\n",
              "      <th>Thailand</th>\n",
              "      <th>Viet Nam</th>\n",
              "      <th>Jenis Kelamin</th>\n",
              "    </tr>\n",
              "    <tr>\n",
              "      <th>Tahun</th>\n",
              "      <th></th>\n",
              "      <th></th>\n",
              "      <th></th>\n",
              "      <th></th>\n",
              "      <th></th>\n",
              "      <th></th>\n",
              "      <th></th>\n",
              "      <th></th>\n",
              "      <th></th>\n",
              "      <th></th>\n",
              "      <th></th>\n",
              "    </tr>\n",
              "  </thead>\n",
              "  <tbody>\n",
              "    <tr>\n",
              "      <th>2004-01-01</th>\n",
              "      <td>4.200000</td>\n",
              "      <td>1.900000</td>\n",
              "      <td>10.5</td>\n",
              "      <td>3.600000</td>\n",
              "      <td>3.40</td>\n",
              "      <td>3.6</td>\n",
              "      <td>10.40</td>\n",
              "      <td>5.6</td>\n",
              "      <td>2.10</td>\n",
              "      <td>1.900000</td>\n",
              "      <td>Laki-laki</td>\n",
              "    </tr>\n",
              "    <tr>\n",
              "      <th>2004-01-01</th>\n",
              "      <td>5.600000</td>\n",
              "      <td>2.700000</td>\n",
              "      <td>16.8</td>\n",
              "      <td>4.600000</td>\n",
              "      <td>3.80</td>\n",
              "      <td>4.6</td>\n",
              "      <td>11.70</td>\n",
              "      <td>6.2</td>\n",
              "      <td>2.10</td>\n",
              "      <td>2.400000</td>\n",
              "      <td>Perempuan</td>\n",
              "    </tr>\n",
              "    <tr>\n",
              "      <th>2005-01-01</th>\n",
              "      <td>4.414286</td>\n",
              "      <td>4.414286</td>\n",
              "      <td>9.3</td>\n",
              "      <td>1.300000</td>\n",
              "      <td>3.40</td>\n",
              "      <td>3.7</td>\n",
              "      <td>7.40</td>\n",
              "      <td>3.9</td>\n",
              "      <td>1.90</td>\n",
              "      <td>4.414286</td>\n",
              "      <td>Laki-laki</td>\n",
              "    </tr>\n",
              "    <tr>\n",
              "      <th>2005-01-01</th>\n",
              "      <td>5.385714</td>\n",
              "      <td>5.385714</td>\n",
              "      <td>14.7</td>\n",
              "      <td>1.200000</td>\n",
              "      <td>3.70</td>\n",
              "      <td>4.6</td>\n",
              "      <td>7.30</td>\n",
              "      <td>4.5</td>\n",
              "      <td>1.70</td>\n",
              "      <td>5.385714</td>\n",
              "      <td>Perempuan</td>\n",
              "    </tr>\n",
              "    <tr>\n",
              "      <th>2006-01-01</th>\n",
              "      <td>7.400000</td>\n",
              "      <td>5.042857</td>\n",
              "      <td>8.5</td>\n",
              "      <td>5.042857</td>\n",
              "      <td>3.30</td>\n",
              "      <td>3.7</td>\n",
              "      <td>7.70</td>\n",
              "      <td>3.4</td>\n",
              "      <td>1.30</td>\n",
              "      <td>5.042857</td>\n",
              "      <td>Laki-laki</td>\n",
              "    </tr>\n",
              "    <tr>\n",
              "      <th>2006-01-01</th>\n",
              "      <td>9.200000</td>\n",
              "      <td>6.042857</td>\n",
              "      <td>13.4</td>\n",
              "      <td>6.042857</td>\n",
              "      <td>3.40</td>\n",
              "      <td>4.6</td>\n",
              "      <td>6.90</td>\n",
              "      <td>3.7</td>\n",
              "      <td>1.10</td>\n",
              "      <td>6.042857</td>\n",
              "      <td>Perempuan</td>\n",
              "    </tr>\n",
              "    <tr>\n",
              "      <th>2007-01-01</th>\n",
              "      <td>7.400000</td>\n",
              "      <td>0.700000</td>\n",
              "      <td>8.1</td>\n",
              "      <td>3.100000</td>\n",
              "      <td>3.10</td>\n",
              "      <td>3.7</td>\n",
              "      <td>6.40</td>\n",
              "      <td>2.8</td>\n",
              "      <td>1.30</td>\n",
              "      <td>2.300000</td>\n",
              "      <td>Laki-laki</td>\n",
              "    </tr>\n",
              "    <tr>\n",
              "      <th>2007-01-01</th>\n",
              "      <td>9.600000</td>\n",
              "      <td>0.800000</td>\n",
              "      <td>10.8</td>\n",
              "      <td>4.611111</td>\n",
              "      <td>3.40</td>\n",
              "      <td>4.6</td>\n",
              "      <td>6.00</td>\n",
              "      <td>3.1</td>\n",
              "      <td>1.10</td>\n",
              "      <td>2.100000</td>\n",
              "      <td>Perempuan</td>\n",
              "    </tr>\n",
              "    <tr>\n",
              "      <th>2008-01-01</th>\n",
              "      <td>7.500000</td>\n",
              "      <td>0.300000</td>\n",
              "      <td>7.6</td>\n",
              "      <td>3.200000</td>\n",
              "      <td>3.20</td>\n",
              "      <td>3.7</td>\n",
              "      <td>7.00</td>\n",
              "      <td>3.0</td>\n",
              "      <td>1.30</td>\n",
              "      <td>2.500000</td>\n",
              "      <td>Laki-laki</td>\n",
              "    </tr>\n",
              "    <tr>\n",
              "      <th>2008-01-01</th>\n",
              "      <td>10.100000</td>\n",
              "      <td>0.400000</td>\n",
              "      <td>9.7</td>\n",
              "      <td>4.611111</td>\n",
              "      <td>3.70</td>\n",
              "      <td>4.6</td>\n",
              "      <td>6.60</td>\n",
              "      <td>3.5</td>\n",
              "      <td>1.00</td>\n",
              "      <td>1.900000</td>\n",
              "      <td>Perempuan</td>\n",
              "    </tr>\n",
              "    <tr>\n",
              "      <th>2009-01-01</th>\n",
              "      <td>7.500000</td>\n",
              "      <td>0.200000</td>\n",
              "      <td>7.5</td>\n",
              "      <td>4.188889</td>\n",
              "      <td>3.60</td>\n",
              "      <td>3.7</td>\n",
              "      <td>7.40</td>\n",
              "      <td>4.1</td>\n",
              "      <td>1.20</td>\n",
              "      <td>2.500000</td>\n",
              "      <td>Laki-laki</td>\n",
              "    </tr>\n",
              "    <tr>\n",
              "      <th>2009-01-01</th>\n",
              "      <td>10.700000</td>\n",
              "      <td>0.100000</td>\n",
              "      <td>8.5</td>\n",
              "      <td>4.766667</td>\n",
              "      <td>3.80</td>\n",
              "      <td>4.6</td>\n",
              "      <td>6.70</td>\n",
              "      <td>4.7</td>\n",
              "      <td>1.10</td>\n",
              "      <td>2.700000</td>\n",
              "      <td>Perempuan</td>\n",
              "    </tr>\n",
              "    <tr>\n",
              "      <th>2010-01-01</th>\n",
              "      <td>7.600000</td>\n",
              "      <td>0.400000</td>\n",
              "      <td>6.2</td>\n",
              "      <td>1.800000</td>\n",
              "      <td>3.20</td>\n",
              "      <td>3.7</td>\n",
              "      <td>7.40</td>\n",
              "      <td>3.0</td>\n",
              "      <td>0.90</td>\n",
              "      <td>2.300000</td>\n",
              "      <td>Laki-laki</td>\n",
              "    </tr>\n",
              "    <tr>\n",
              "      <th>2010-01-01</th>\n",
              "      <td>11.300000</td>\n",
              "      <td>0.300000</td>\n",
              "      <td>8.7</td>\n",
              "      <td>2.000000</td>\n",
              "      <td>3.40</td>\n",
              "      <td>4.6</td>\n",
              "      <td>6.70</td>\n",
              "      <td>3.4</td>\n",
              "      <td>0.80</td>\n",
              "      <td>3.100000</td>\n",
              "      <td>Perempuan</td>\n",
              "    </tr>\n",
              "    <tr>\n",
              "      <th>2011-01-01</th>\n",
              "      <td>7.500000</td>\n",
              "      <td>0.300000</td>\n",
              "      <td>5.9</td>\n",
              "      <td>2.900000</td>\n",
              "      <td>2.90</td>\n",
              "      <td>3.7</td>\n",
              "      <td>6.70</td>\n",
              "      <td>2.6</td>\n",
              "      <td>0.60</td>\n",
              "      <td>1.700000</td>\n",
              "      <td>Laki-laki</td>\n",
              "    </tr>\n",
              "    <tr>\n",
              "      <th>2011-01-01</th>\n",
              "      <td>11.700000</td>\n",
              "      <td>0.100000</td>\n",
              "      <td>7.6</td>\n",
              "      <td>4.411111</td>\n",
              "      <td>3.30</td>\n",
              "      <td>4.6</td>\n",
              "      <td>6.10</td>\n",
              "      <td>3.2</td>\n",
              "      <td>0.70</td>\n",
              "      <td>2.400000</td>\n",
              "      <td>Perempuan</td>\n",
              "    </tr>\n",
              "    <tr>\n",
              "      <th>2012-01-01</th>\n",
              "      <td>12.400000</td>\n",
              "      <td>0.200000</td>\n",
              "      <td>6.8</td>\n",
              "      <td>4.388889</td>\n",
              "      <td>3.20</td>\n",
              "      <td>4.6</td>\n",
              "      <td>6.70</td>\n",
              "      <td>3.1</td>\n",
              "      <td>0.50</td>\n",
              "      <td>2.000000</td>\n",
              "      <td>Perempuan</td>\n",
              "    </tr>\n",
              "    <tr>\n",
              "      <th>2012-01-01</th>\n",
              "      <td>7.600000</td>\n",
              "      <td>0.100000</td>\n",
              "      <td>5.8</td>\n",
              "      <td>3.555556</td>\n",
              "      <td>2.90</td>\n",
              "      <td>3.7</td>\n",
              "      <td>7.00</td>\n",
              "      <td>2.7</td>\n",
              "      <td>0.60</td>\n",
              "      <td>1.600000</td>\n",
              "      <td>Laki-laki</td>\n",
              "    </tr>\n",
              "    <tr>\n",
              "      <th>2013-01-01</th>\n",
              "      <td>3.300000</td>\n",
              "      <td>0.300000</td>\n",
              "      <td>6.5</td>\n",
              "      <td>3.300000</td>\n",
              "      <td>3.40</td>\n",
              "      <td>4.6</td>\n",
              "      <td>5.90</td>\n",
              "      <td>2.9</td>\n",
              "      <td>0.80</td>\n",
              "      <td>2.000000</td>\n",
              "      <td>Perempuan</td>\n",
              "    </tr>\n",
              "    <tr>\n",
              "      <th>2013-01-01</th>\n",
              "      <td>2.800000</td>\n",
              "      <td>0.300000</td>\n",
              "      <td>6.1</td>\n",
              "      <td>2.800000</td>\n",
              "      <td>2.90</td>\n",
              "      <td>3.7</td>\n",
              "      <td>6.70</td>\n",
              "      <td>2.7</td>\n",
              "      <td>0.80</td>\n",
              "      <td>2.000000</td>\n",
              "      <td>Laki-laki</td>\n",
              "    </tr>\n",
              "    <tr>\n",
              "      <th>2014-01-01</th>\n",
              "      <td>6.200000</td>\n",
              "      <td>3.800000</td>\n",
              "      <td>5.8</td>\n",
              "      <td>3.800000</td>\n",
              "      <td>3.80</td>\n",
              "      <td>3.8</td>\n",
              "      <td>3.80</td>\n",
              "      <td>2.7</td>\n",
              "      <td>3.80</td>\n",
              "      <td>2.100000</td>\n",
              "      <td>Laki-laki</td>\n",
              "    </tr>\n",
              "    <tr>\n",
              "      <th>2014-01-01</th>\n",
              "      <td>7.800000</td>\n",
              "      <td>4.620000</td>\n",
              "      <td>6.3</td>\n",
              "      <td>4.620000</td>\n",
              "      <td>4.62</td>\n",
              "      <td>4.0</td>\n",
              "      <td>4.62</td>\n",
              "      <td>2.9</td>\n",
              "      <td>4.62</td>\n",
              "      <td>2.100000</td>\n",
              "      <td>Perempuan</td>\n",
              "    </tr>\n",
              "  </tbody>\n",
              "</table>\n",
              "</div>"
            ],
            "text/plain": [
              "            Brunei Darussalam  Cambodia  ...  Viet Nam  Jenis Kelamin\n",
              "Tahun                                    ...                         \n",
              "2004-01-01           4.200000  1.900000  ...  1.900000      Laki-laki\n",
              "2004-01-01           5.600000  2.700000  ...  2.400000      Perempuan\n",
              "2005-01-01           4.414286  4.414286  ...  4.414286      Laki-laki\n",
              "2005-01-01           5.385714  5.385714  ...  5.385714      Perempuan\n",
              "2006-01-01           7.400000  5.042857  ...  5.042857      Laki-laki\n",
              "2006-01-01           9.200000  6.042857  ...  6.042857      Perempuan\n",
              "2007-01-01           7.400000  0.700000  ...  2.300000      Laki-laki\n",
              "2007-01-01           9.600000  0.800000  ...  2.100000      Perempuan\n",
              "2008-01-01           7.500000  0.300000  ...  2.500000      Laki-laki\n",
              "2008-01-01          10.100000  0.400000  ...  1.900000      Perempuan\n",
              "2009-01-01           7.500000  0.200000  ...  2.500000      Laki-laki\n",
              "2009-01-01          10.700000  0.100000  ...  2.700000      Perempuan\n",
              "2010-01-01           7.600000  0.400000  ...  2.300000      Laki-laki\n",
              "2010-01-01          11.300000  0.300000  ...  3.100000      Perempuan\n",
              "2011-01-01           7.500000  0.300000  ...  1.700000      Laki-laki\n",
              "2011-01-01          11.700000  0.100000  ...  2.400000      Perempuan\n",
              "2012-01-01          12.400000  0.200000  ...  2.000000      Perempuan\n",
              "2012-01-01           7.600000  0.100000  ...  1.600000      Laki-laki\n",
              "2013-01-01           3.300000  0.300000  ...  2.000000      Perempuan\n",
              "2013-01-01           2.800000  0.300000  ...  2.000000      Laki-laki\n",
              "2014-01-01           6.200000  3.800000  ...  2.100000      Laki-laki\n",
              "2014-01-01           7.800000  4.620000  ...  2.100000      Perempuan\n",
              "\n",
              "[22 rows x 11 columns]"
            ]
          },
          "metadata": {
            "tags": []
          },
          "execution_count": 185
        }
      ]
    },
    {
      "cell_type": "code",
      "metadata": {
        "id": "mHNANgIg3_ml",
        "colab": {
          "base_uri": "https://localhost:8080/"
        },
        "outputId": "11340be2-0086-4cc9-b3e5-3d586c8ce305"
      },
      "source": [
        "data.dtypes"
      ],
      "execution_count": 186,
      "outputs": [
        {
          "output_type": "execute_result",
          "data": {
            "text/plain": [
              "Brunei Darussalam    float64\n",
              "Cambodia             float64\n",
              "Indonesia            float64\n",
              "Lao's PDR            float64\n",
              "Malaysia             float64\n",
              "Myanmar              float64\n",
              "Philippines          float64\n",
              "Singapore            float64\n",
              "Thailand             float64\n",
              "Viet Nam             float64\n",
              "Jenis Kelamin         object\n",
              "dtype: object"
            ]
          },
          "metadata": {
            "tags": []
          },
          "execution_count": 186
        }
      ]
    },
    {
      "cell_type": "code",
      "metadata": {
        "id": "_o5CyUGwpDow",
        "colab": {
          "base_uri": "https://localhost:8080/",
          "height": 392
        },
        "outputId": "7899f6ab-f29b-463a-c686-8a504809c317"
      },
      "source": [
        "data['Indonesia '].plot(figsize=(12,6))"
      ],
      "execution_count": 187,
      "outputs": [
        {
          "output_type": "execute_result",
          "data": {
            "text/plain": [
              "<matplotlib.axes._subplots.AxesSubplot at 0x7f9722720e50>"
            ]
          },
          "metadata": {
            "tags": []
          },
          "execution_count": 187
        },
        {
          "output_type": "display_data",
          "data": {
            "image/png": "[encoded data removed]",
            "text/plain": [
              "<Figure size 864x432 with 1 Axes>"
            ]
          },
          "metadata": {
            "tags": []
          }
        }
      ]
    },
    {
      "cell_type": "markdown",
      "metadata": {
        "id": "6JIm4MMdxv7Q"
      },
      "source": [
        "# Modelling Menggunakan ARIMA"
      ]
    },
    {
      "cell_type": "markdown",
      "metadata": {
        "id": "P5fEVM9Ax9_c"
      },
      "source": [
        "## Memprediksi tingkat pengangguran di Negara Indoenesia berdasarkan Gender (Laki-Laki) dan Perempuan"
      ]
    },
    {
      "cell_type": "markdown",
      "metadata": {
        "id": "M9qn-7QAygeP"
      },
      "source": [
        "### 1. DataFrame data_male"
      ]
    },
    {
      "cell_type": "code",
      "metadata": {
        "id": "WIns3d1QpNHs"
      },
      "source": [
        "from statsmodels.tsa.stattools import adfuller\n",
        "def ad_test(dataset):\n",
        "  dftest=adfuller(dataset, autolag = 'AIC')\n",
        "  print('1. ADF : ',dftest[0])\n",
        "  print('2. P-Value : ',dftest[1])\n",
        "  print('3. Num of lag : ',dftest[2])\n",
        "  print('4. Num of Observation Used for ADF Regression and Critical Values Calculation : ',dftest[3])\n",
        "  print('5. Critical Values : ')\n",
        "  for key, val in dftest[4].items():\n",
        "    print(\"\\t\", key, \":\", val)"
      ],
      "execution_count": 188,
      "outputs": []
    },
    {
      "cell_type": "code",
      "metadata": {
        "id": "jol8mbRDYWFQ",
        "colab": {
          "base_uri": "https://localhost:8080/",
          "height": 412
        },
        "outputId": "de3e74d6-e68b-4ebc-b721-525e1b63f6e4"
      },
      "source": [
        "data_male['Indonesia '].plot(figsize=(12,6))"
      ],
      "execution_count": 189,
      "outputs": [
        {
          "output_type": "execute_result",
          "data": {
            "text/plain": [
              "<matplotlib.axes._subplots.AxesSubplot at 0x7f9721748750>"
            ]
          },
          "metadata": {
            "tags": []
          },
          "execution_count": 189
        },
        {
          "output_type": "display_data",
          "data": {
            "image/png": "[encoded data removed]",
            "text/plain": [
              "<Figure size 864x432 with 1 Axes>"
            ]
          },
          "metadata": {
            "tags": []
          }
        }
      ]
    },
    {
      "cell_type": "code",
      "metadata": {
        "id": "pfdPxTbXvE5D",
        "colab": {
          "base_uri": "https://localhost:8080/"
        },
        "outputId": "2915d7d3-1d35-41b3-ee9b-47fd656b2058"
      },
      "source": [
        "ad_test(data_male['Indonesia '])"
      ],
      "execution_count": 190,
      "outputs": [
        {
          "output_type": "stream",
          "text": [
            "1. ADF :  -2.8182582045655398\n",
            "2. P-Value :  0.05571267222749922\n",
            "3. Num of lag :  0\n",
            "4. Num of Observation Used for ADF Regression and Critical Values Calculation :  10\n",
            "5. Critical Values : \n",
            "\t 1% : -4.331573\n",
            "\t 5% : -3.23295\n",
            "\t 10% : -2.7487\n"
          ],
          "name": "stdout"
        }
      ]
    },
    {
      "cell_type": "code",
      "metadata": {
        "id": "bb3MB-nWy0Md",
        "colab": {
          "base_uri": "https://localhost:8080/"
        },
        "outputId": "b96745f5-e0f4-4d2a-a025-a86fcf63c5fd"
      },
      "source": [
        "pip install pmdarima"
      ],
      "execution_count": 191,
      "outputs": [
        {
          "output_type": "stream",
          "text": [
            "Requirement already satisfied: pmdarima in /usr/local/lib/python3.7/dist-packages (1.8.2)\n",
            "Requirement already satisfied: setuptools!=50.0.0,>=38.6.0 in /usr/local/lib/python3.7/dist-packages (from pmdarima) (57.0.0)\n",
            "Requirement already satisfied: statsmodels!=0.12.0,>=0.11 in /usr/local/lib/python3.7/dist-packages (from pmdarima) (0.12.2)\n",
            "Requirement already satisfied: Cython!=0.29.18,>=0.29 in /usr/local/lib/python3.7/dist-packages (from pmdarima) (0.29.23)\n",
            "Requirement already satisfied: urllib3 in /usr/local/lib/python3.7/dist-packages (from pmdarima) (1.24.3)\n",
            "Requirement already satisfied: pandas>=0.19 in /usr/local/lib/python3.7/dist-packages (from pmdarima) (1.1.5)\n",
            "Requirement already satisfied: scikit-learn>=0.22 in /usr/local/lib/python3.7/dist-packages (from pmdarima) (0.22.2.post1)\n",
            "Requirement already satisfied: scipy>=1.3.2 in /usr/local/lib/python3.7/dist-packages (from pmdarima) (1.4.1)\n",
            "Requirement already satisfied: joblib>=0.11 in /usr/local/lib/python3.7/dist-packages (from pmdarima) (1.0.1)\n",
            "Requirement already satisfied: numpy~=1.19.0 in /usr/local/lib/python3.7/dist-packages (from pmdarima) (1.19.5)\n",
            "Requirement already satisfied: patsy>=0.5 in /usr/local/lib/python3.7/dist-packages (from statsmodels!=0.12.0,>=0.11->pmdarima) (0.5.1)\n",
            "Requirement already satisfied: pytz>=2017.2 in /usr/local/lib/python3.7/dist-packages (from pandas>=0.19->pmdarima) (2018.9)\n",
            "Requirement already satisfied: python-dateutil>=2.7.3 in /usr/local/lib/python3.7/dist-packages (from pandas>=0.19->pmdarima) (2.8.1)\n",
            "Requirement already satisfied: six in /usr/local/lib/python3.7/dist-packages (from patsy>=0.5->statsmodels!=0.12.0,>=0.11->pmdarima) (1.15.0)\n"
          ],
          "name": "stdout"
        }
      ]
    },
    {
      "cell_type": "code",
      "metadata": {
        "id": "qMXO9qBsvKvz"
      },
      "source": [
        "from pmdarima import auto_arima"
      ],
      "execution_count": 192,
      "outputs": []
    },
    {
      "cell_type": "code",
      "metadata": {
        "id": "MF3gfolhv_6J",
        "colab": {
          "base_uri": "https://localhost:8080/",
          "height": 557
        },
        "outputId": "b8e55382-ea89-43f5-9e24-c27bc1844ae7"
      },
      "source": [
        "stepwise_fit = auto_arima(data_male['Indonesia '], trace = True, suppress_warnings=True)\n",
        "stepwise_fit.summary()"
      ],
      "execution_count": 193,
      "outputs": [
        {
          "output_type": "stream",
          "text": [
            "Performing stepwise search to minimize aic\n",
            " ARIMA(2,1,2)(0,0,0)[0] intercept   : AIC=inf, Time=0.28 sec\n",
            " ARIMA(0,1,0)(0,0,0)[0] intercept   : AIC=17.511, Time=0.02 sec\n",
            " ARIMA(1,1,0)(0,0,0)[0] intercept   : AIC=19.381, Time=0.06 sec\n",
            " ARIMA(0,1,1)(0,0,0)[0] intercept   : AIC=19.388, Time=0.04 sec\n",
            " ARIMA(0,1,0)(0,0,0)[0]             : AIC=22.327, Time=0.01 sec\n",
            " ARIMA(1,1,1)(0,0,0)[0] intercept   : AIC=21.381, Time=0.06 sec\n",
            "\n",
            "Best model:  ARIMA(0,1,0)(0,0,0)[0] intercept\n",
            "Total fit time: 0.486 seconds\n"
          ],
          "name": "stdout"
        },
        {
          "output_type": "execute_result",
          "data": {
            "text/html": [
              "<table class=\"simpletable\">\n",
              "<caption>SARIMAX Results</caption>\n",
              "<tr>\n",
              "  <th>Dep. Variable:</th>           <td>y</td>        <th>  No. Observations:  </th>   <td>11</td>  \n",
              "</tr>\n",
              "<tr>\n",
              "  <th>Model:</th>           <td>SARIMAX(0, 1, 0)</td> <th>  Log Likelihood     </th> <td>-6.755</td>\n",
              "</tr>\n",
              "<tr>\n",
              "  <th>Date:</th>            <td>Mon, 28 Jun 2021</td> <th>  AIC                </th> <td>17.511</td>\n",
              "</tr>\n",
              "<tr>\n",
              "  <th>Time:</th>                <td>09:35:03</td>     <th>  BIC                </th> <td>18.116</td>\n",
              "</tr>\n",
              "<tr>\n",
              "  <th>Sample:</th>                  <td>0</td>        <th>  HQIC               </th> <td>16.847</td>\n",
              "</tr>\n",
              "<tr>\n",
              "  <th></th>                       <td> - 11</td>      <th>                     </th>    <td> </td>  \n",
              "</tr>\n",
              "<tr>\n",
              "  <th>Covariance Type:</th>        <td>opg</td>       <th>                     </th>    <td> </td>  \n",
              "</tr>\n",
              "</table>\n",
              "<table class=\"simpletable\">\n",
              "<tr>\n",
              "      <td></td>         <th>coef</th>     <th>std err</th>      <th>z</th>      <th>P>|z|</th>  <th>[0.025</th>    <th>0.975]</th>  \n",
              "</tr>\n",
              "<tr>\n",
              "  <th>intercept</th> <td>   -0.4700</td> <td>    0.161</td> <td>   -2.924</td> <td> 0.003</td> <td>   -0.785</td> <td>   -0.155</td>\n",
              "</tr>\n",
              "<tr>\n",
              "  <th>sigma2</th>    <td>    0.2261</td> <td>    0.136</td> <td>    1.668</td> <td> 0.095</td> <td>   -0.040</td> <td>    0.492</td>\n",
              "</tr>\n",
              "</table>\n",
              "<table class=\"simpletable\">\n",
              "<tr>\n",
              "  <th>Ljung-Box (L1) (Q):</th>     <td>0.14</td> <th>  Jarque-Bera (JB):  </th> <td>0.49</td> \n",
              "</tr>\n",
              "<tr>\n",
              "  <th>Prob(Q):</th>                <td>0.70</td> <th>  Prob(JB):          </th> <td>0.78</td> \n",
              "</tr>\n",
              "<tr>\n",
              "  <th>Heteroskedasticity (H):</th> <td>1.17</td> <th>  Skew:              </th> <td>-0.40</td>\n",
              "</tr>\n",
              "<tr>\n",
              "  <th>Prob(H) (two-sided):</th>    <td>0.90</td> <th>  Kurtosis:          </th> <td>2.27</td> \n",
              "</tr>\n",
              "</table><br/><br/>Warnings:<br/>[1] Covariance matrix calculated using the outer product of gradients (complex-step)."
            ],
            "text/plain": [
              "<class 'statsmodels.iolib.summary.Summary'>\n",
              "\"\"\"\n",
              "                               SARIMAX Results                                \n",
              "==============================================================================\n",
              "Dep. Variable:                      y   No. Observations:                   11\n",
              "Model:               SARIMAX(0, 1, 0)   Log Likelihood                  -6.755\n",
              "Date:                Mon, 28 Jun 2021   AIC                             17.511\n",
              "Time:                        09:35:03   BIC                             18.116\n",
              "Sample:                             0   HQIC                            16.847\n",
              "                                 - 11                                         \n",
              "Covariance Type:                  opg                                         \n",
              "==============================================================================\n",
              "                 coef    std err          z      P>|z|      [0.025      0.975]\n",
              "------------------------------------------------------------------------------\n",
              "intercept     -0.4700      0.161     -2.924      0.003      -0.785      -0.155\n",
              "sigma2         0.2261      0.136      1.668      0.095      -0.040       0.492\n",
              "===================================================================================\n",
              "Ljung-Box (L1) (Q):                   0.14   Jarque-Bera (JB):                 0.49\n",
              "Prob(Q):                              0.70   Prob(JB):                         0.78\n",
              "Heteroskedasticity (H):               1.17   Skew:                            -0.40\n",
              "Prob(H) (two-sided):                  0.90   Kurtosis:                         2.27\n",
              "===================================================================================\n",
              "\n",
              "Warnings:\n",
              "[1] Covariance matrix calculated using the outer product of gradients (complex-step).\n",
              "\"\"\""
            ]
          },
          "metadata": {
            "tags": []
          },
          "execution_count": 193
        }
      ]
    },
    {
      "cell_type": "code",
      "metadata": {
        "id": "wCSFxLv7wUzz"
      },
      "source": [
        "from statsmodels.tsa.arima_model import ARIMA "
      ],
      "execution_count": 194,
      "outputs": []
    },
    {
      "cell_type": "code",
      "metadata": {
        "id": "fOhvMB_q0emb",
        "colab": {
          "base_uri": "https://localhost:8080/"
        },
        "outputId": "a64e8fa8-8471-49b8-e11e-a3749c5f2339"
      },
      "source": [
        "print(data_male.shape)\n",
        "train = data_male.iloc[:8]\n",
        "test = data_male.iloc[8:]\n",
        "print(train.shape, test.shape)"
      ],
      "execution_count": 195,
      "outputs": [
        {
          "output_type": "stream",
          "text": [
            "(11, 11)\n",
            "(8, 11) (3, 11)\n"
          ],
          "name": "stdout"
        }
      ]
    },
    {
      "cell_type": "code",
      "metadata": {
        "id": "8bb3b2gK3fyo",
        "colab": {
          "base_uri": "https://localhost:8080/",
          "height": 324
        },
        "outputId": "6bcf0639-adbd-4fce-8f53-1da00e131a8d"
      },
      "source": [
        "train"
      ],
      "execution_count": 196,
      "outputs": [
        {
          "output_type": "execute_result",
          "data": {
            "text/html": [
              "<div>\n",
              "<style scoped>\n",
              "    .dataframe tbody tr th:only-of-type {\n",
              "        vertical-align: middle;\n",
              "    }\n",
              "\n",
              "    .dataframe tbody tr th {\n",
              "        vertical-align: top;\n",
              "    }\n",
              "\n",
              "    .dataframe thead th {\n",
              "        text-align: right;\n",
              "    }\n",
              "</style>\n",
              "<table border=\"1\" class=\"dataframe\">\n",
              "  <thead>\n",
              "    <tr style=\"text-align: right;\">\n",
              "      <th></th>\n",
              "      <th>Brunei Darussalam</th>\n",
              "      <th>Cambodia</th>\n",
              "      <th>Indonesia</th>\n",
              "      <th>Lao's PDR</th>\n",
              "      <th>Malaysia</th>\n",
              "      <th>Myanmar</th>\n",
              "      <th>Philippines</th>\n",
              "      <th>Singapore</th>\n",
              "      <th>Thailand</th>\n",
              "      <th>Viet Nam</th>\n",
              "      <th>Jenis Kelamin</th>\n",
              "    </tr>\n",
              "    <tr>\n",
              "      <th>Tahun</th>\n",
              "      <th></th>\n",
              "      <th></th>\n",
              "      <th></th>\n",
              "      <th></th>\n",
              "      <th></th>\n",
              "      <th></th>\n",
              "      <th></th>\n",
              "      <th></th>\n",
              "      <th></th>\n",
              "      <th></th>\n",
              "      <th></th>\n",
              "    </tr>\n",
              "  </thead>\n",
              "  <tbody>\n",
              "    <tr>\n",
              "      <th>2004-01-01</th>\n",
              "      <td>4.200000</td>\n",
              "      <td>1.900000</td>\n",
              "      <td>10.5</td>\n",
              "      <td>3.600000</td>\n",
              "      <td>3.4</td>\n",
              "      <td>3.6</td>\n",
              "      <td>10.4</td>\n",
              "      <td>5.6</td>\n",
              "      <td>2.1</td>\n",
              "      <td>1.900000</td>\n",
              "      <td>Laki-laki</td>\n",
              "    </tr>\n",
              "    <tr>\n",
              "      <th>2005-01-01</th>\n",
              "      <td>4.414286</td>\n",
              "      <td>4.414286</td>\n",
              "      <td>9.3</td>\n",
              "      <td>1.300000</td>\n",
              "      <td>3.4</td>\n",
              "      <td>3.7</td>\n",
              "      <td>7.4</td>\n",
              "      <td>3.9</td>\n",
              "      <td>1.9</td>\n",
              "      <td>4.414286</td>\n",
              "      <td>Laki-laki</td>\n",
              "    </tr>\n",
              "    <tr>\n",
              "      <th>2006-01-01</th>\n",
              "      <td>7.400000</td>\n",
              "      <td>5.042857</td>\n",
              "      <td>8.5</td>\n",
              "      <td>5.042857</td>\n",
              "      <td>3.3</td>\n",
              "      <td>3.7</td>\n",
              "      <td>7.7</td>\n",
              "      <td>3.4</td>\n",
              "      <td>1.3</td>\n",
              "      <td>5.042857</td>\n",
              "      <td>Laki-laki</td>\n",
              "    </tr>\n",
              "    <tr>\n",
              "      <th>2007-01-01</th>\n",
              "      <td>7.400000</td>\n",
              "      <td>0.700000</td>\n",
              "      <td>8.1</td>\n",
              "      <td>3.100000</td>\n",
              "      <td>3.1</td>\n",
              "      <td>3.7</td>\n",
              "      <td>6.4</td>\n",
              "      <td>2.8</td>\n",
              "      <td>1.3</td>\n",
              "      <td>2.300000</td>\n",
              "      <td>Laki-laki</td>\n",
              "    </tr>\n",
              "    <tr>\n",
              "      <th>2008-01-01</th>\n",
              "      <td>7.500000</td>\n",
              "      <td>0.300000</td>\n",
              "      <td>7.6</td>\n",
              "      <td>3.200000</td>\n",
              "      <td>3.2</td>\n",
              "      <td>3.7</td>\n",
              "      <td>7.0</td>\n",
              "      <td>3.0</td>\n",
              "      <td>1.3</td>\n",
              "      <td>2.500000</td>\n",
              "      <td>Laki-laki</td>\n",
              "    </tr>\n",
              "    <tr>\n",
              "      <th>2009-01-01</th>\n",
              "      <td>7.500000</td>\n",
              "      <td>0.200000</td>\n",
              "      <td>7.5</td>\n",
              "      <td>4.188889</td>\n",
              "      <td>3.6</td>\n",
              "      <td>3.7</td>\n",
              "      <td>7.4</td>\n",
              "      <td>4.1</td>\n",
              "      <td>1.2</td>\n",
              "      <td>2.500000</td>\n",
              "      <td>Laki-laki</td>\n",
              "    </tr>\n",
              "    <tr>\n",
              "      <th>2010-01-01</th>\n",
              "      <td>7.600000</td>\n",
              "      <td>0.400000</td>\n",
              "      <td>6.2</td>\n",
              "      <td>1.800000</td>\n",
              "      <td>3.2</td>\n",
              "      <td>3.7</td>\n",
              "      <td>7.4</td>\n",
              "      <td>3.0</td>\n",
              "      <td>0.9</td>\n",
              "      <td>2.300000</td>\n",
              "      <td>Laki-laki</td>\n",
              "    </tr>\n",
              "    <tr>\n",
              "      <th>2011-01-01</th>\n",
              "      <td>7.500000</td>\n",
              "      <td>0.300000</td>\n",
              "      <td>5.9</td>\n",
              "      <td>2.900000</td>\n",
              "      <td>2.9</td>\n",
              "      <td>3.7</td>\n",
              "      <td>6.7</td>\n",
              "      <td>2.6</td>\n",
              "      <td>0.6</td>\n",
              "      <td>1.700000</td>\n",
              "      <td>Laki-laki</td>\n",
              "    </tr>\n",
              "  </tbody>\n",
              "</table>\n",
              "</div>"
            ],
            "text/plain": [
              "            Brunei Darussalam  Cambodia  ...  Viet Nam  Jenis Kelamin\n",
              "Tahun                                    ...                         \n",
              "2004-01-01           4.200000  1.900000  ...  1.900000      Laki-laki\n",
              "2005-01-01           4.414286  4.414286  ...  4.414286      Laki-laki\n",
              "2006-01-01           7.400000  5.042857  ...  5.042857      Laki-laki\n",
              "2007-01-01           7.400000  0.700000  ...  2.300000      Laki-laki\n",
              "2008-01-01           7.500000  0.300000  ...  2.500000      Laki-laki\n",
              "2009-01-01           7.500000  0.200000  ...  2.500000      Laki-laki\n",
              "2010-01-01           7.600000  0.400000  ...  2.300000      Laki-laki\n",
              "2011-01-01           7.500000  0.300000  ...  1.700000      Laki-laki\n",
              "\n",
              "[8 rows x 11 columns]"
            ]
          },
          "metadata": {
            "tags": []
          },
          "execution_count": 196
        }
      ]
    },
    {
      "cell_type": "code",
      "metadata": {
        "id": "z950kn0930Hx",
        "colab": {
          "base_uri": "https://localhost:8080/"
        },
        "outputId": "36709ce5-751b-4a9a-843c-26bc774224f9"
      },
      "source": [
        "train.info()"
      ],
      "execution_count": 197,
      "outputs": [
        {
          "output_type": "stream",
          "text": [
            "<class 'pandas.core.frame.DataFrame'>\n",
            "DatetimeIndex: 8 entries, 2004-01-01 to 2011-01-01\n",
            "Data columns (total 11 columns):\n",
            " #   Column             Non-Null Count  Dtype   \n",
            "---  ------             --------------  -----   \n",
            " 0   Brunei Darussalam  8 non-null      float64 \n",
            " 1   Cambodia           8 non-null      float64 \n",
            " 2   Indonesia          8 non-null      float64 \n",
            " 3   Lao's PDR          8 non-null      float64 \n",
            " 4   Malaysia           8 non-null      float64 \n",
            " 5   Myanmar            8 non-null      float64 \n",
            " 6   Philippines        8 non-null      float64 \n",
            " 7   Singapore          8 non-null      float64 \n",
            " 8   Thailand           8 non-null      float64 \n",
            " 9   Viet Nam           8 non-null      float64 \n",
            " 10  Jenis Kelamin      8 non-null      category\n",
            "dtypes: category(1), float64(10)\n",
            "memory usage: 800.0 bytes\n"
          ],
          "name": "stdout"
        }
      ]
    },
    {
      "cell_type": "code",
      "metadata": {
        "id": "dz7Gjbo_1G9I",
        "colab": {
          "base_uri": "https://localhost:8080/",
          "height": 304
        },
        "outputId": "596f7032-b5a3-4b9a-a619-494f849fa50f"
      },
      "source": [
        "model = ARIMA(train['Indonesia '],order=(0,1,0))\n",
        "model = model.fit()\n",
        "model.summary()"
      ],
      "execution_count": 198,
      "outputs": [
        {
          "output_type": "stream",
          "text": [
            "/usr/local/lib/python3.7/dist-packages/statsmodels/tsa/base/tsa_model.py:527: ValueWarning: No frequency information was provided, so inferred frequency AS-JAN will be used.\n",
            "  % freq, ValueWarning)\n",
            "/usr/local/lib/python3.7/dist-packages/statsmodels/tsa/base/tsa_model.py:527: ValueWarning: No frequency information was provided, so inferred frequency AS-JAN will be used.\n",
            "  % freq, ValueWarning)\n"
          ],
          "name": "stderr"
        },
        {
          "output_type": "execute_result",
          "data": {
            "text/html": [
              "<table class=\"simpletable\">\n",
              "<caption>ARIMA Model Results</caption>\n",
              "<tr>\n",
              "  <th>Dep. Variable:</th>   <td>D.Indonesia </td>   <th>  No. Observations:  </th>    <td>7</td>  \n",
              "</tr>\n",
              "<tr>\n",
              "  <th>Model:</th>          <td>ARIMA(0, 1, 0)</td>  <th>  Log Likelihood     </th> <td>-3.923</td>\n",
              "</tr>\n",
              "<tr>\n",
              "  <th>Method:</th>               <td>css</td>       <th>  S.D. of innovations</th>  <td>0.424</td>\n",
              "</tr>\n",
              "<tr>\n",
              "  <th>Date:</th>          <td>Mon, 28 Jun 2021</td> <th>  AIC                </th> <td>11.846</td>\n",
              "</tr>\n",
              "<tr>\n",
              "  <th>Time:</th>              <td>09:35:03</td>     <th>  BIC                </th> <td>11.737</td>\n",
              "</tr>\n",
              "<tr>\n",
              "  <th>Sample:</th>           <td>01-01-2005</td>    <th>  HQIC               </th> <td>10.509</td>\n",
              "</tr>\n",
              "<tr>\n",
              "  <th></th>                 <td>- 01-01-2011</td>   <th>                     </th>    <td> </td>  \n",
              "</tr>\n",
              "</table>\n",
              "<table class=\"simpletable\">\n",
              "<tr>\n",
              "    <td></td>       <th>coef</th>     <th>std err</th>      <th>z</th>      <th>P>|z|</th>  <th>[0.025</th>    <th>0.975]</th>  \n",
              "</tr>\n",
              "<tr>\n",
              "  <th>const</th> <td>   -0.6571</td> <td>    0.160</td> <td>   -4.103</td> <td> 0.000</td> <td>   -0.971</td> <td>   -0.343</td>\n",
              "</tr>\n",
              "</table>"
            ],
            "text/plain": [
              "<class 'statsmodels.iolib.summary.Summary'>\n",
              "\"\"\"\n",
              "                             ARIMA Model Results                              \n",
              "==============================================================================\n",
              "Dep. Variable:           D.Indonesia    No. Observations:                    7\n",
              "Model:                 ARIMA(0, 1, 0)   Log Likelihood                  -3.923\n",
              "Method:                           css   S.D. of innovations              0.424\n",
              "Date:                Mon, 28 Jun 2021   AIC                             11.846\n",
              "Time:                        09:35:03   BIC                             11.737\n",
              "Sample:                    01-01-2005   HQIC                            10.509\n",
              "                         - 01-01-2011                                         \n",
              "==============================================================================\n",
              "                 coef    std err          z      P>|z|      [0.025      0.975]\n",
              "------------------------------------------------------------------------------\n",
              "const         -0.6571      0.160     -4.103      0.000      -0.971      -0.343\n",
              "==============================================================================\n",
              "\"\"\""
            ]
          },
          "metadata": {
            "tags": []
          },
          "execution_count": 198
        }
      ]
    },
    {
      "cell_type": "code",
      "metadata": {
        "id": "lbA38kQy23NM",
        "colab": {
          "base_uri": "https://localhost:8080/"
        },
        "outputId": "93dd9c87-cd7b-44ea-97d1-6089da716df0"
      },
      "source": [
        "start = len(train)\n",
        "end = len(train)+len(test)-1\n",
        "pred = model.predict(start=start, end=end, typ='levels')\n",
        "pred.index=data_male.index[start:end+1]\n",
        "print(pred)"
      ],
      "execution_count": 199,
      "outputs": [
        {
          "output_type": "stream",
          "text": [
            "Tahun\n",
            "2012-01-01    5.242857\n",
            "2013-01-01    4.585714\n",
            "2014-01-01    3.928571\n",
            "dtype: float64\n"
          ],
          "name": "stdout"
        }
      ]
    },
    {
      "cell_type": "code",
      "metadata": {
        "id": "8jYIx843BXH7",
        "colab": {
          "base_uri": "https://localhost:8080/",
          "height": 302
        },
        "outputId": "75fa5ac2-e227-40db-b672-93269a58ab64"
      },
      "source": [
        "pred.plot(legend=True)\n",
        "test['Indonesia '].plot(legend=True)"
      ],
      "execution_count": 200,
      "outputs": [
        {
          "output_type": "execute_result",
          "data": {
            "text/plain": [
              "<matplotlib.axes._subplots.AxesSubplot at 0x7f970e0e6cd0>"
            ]
          },
          "metadata": {
            "tags": []
          },
          "execution_count": 200
        },
        {
          "output_type": "display_data",
          "data": {
            "image/png": "[encoded data removed]",
            "text/plain": [
              "<Figure size 432x288 with 1 Axes>"
            ]
          },
          "metadata": {
            "tags": []
          }
        }
      ]
    },
    {
      "cell_type": "code",
      "metadata": {
        "id": "Dgl2yiqLCiC3",
        "colab": {
          "base_uri": "https://localhost:8080/"
        },
        "outputId": "3d52dadb-6b87-40bf-edd2-5bdd01cfe5e6"
      },
      "source": [
        "test['Indonesia '].mean()"
      ],
      "execution_count": 201,
      "outputs": [
        {
          "output_type": "execute_result",
          "data": {
            "text/plain": [
              "5.8999999999999995"
            ]
          },
          "metadata": {
            "tags": []
          },
          "execution_count": 201
        }
      ]
    },
    {
      "cell_type": "code",
      "metadata": {
        "id": "4tOV2QLJC_da",
        "colab": {
          "base_uri": "https://localhost:8080/"
        },
        "outputId": "1eb94517-6e11-4b6e-9bab-d578604cc6bd"
      },
      "source": [
        "from sklearn.metrics import mean_squared_error\n",
        "from math import sqrt\n",
        "rmse = sqrt(mean_squared_error(pred, test['Indonesia ']))\n",
        "print(rmse)"
      ],
      "execution_count": 202,
      "outputs": [
        {
          "output_type": "stream",
          "text": [
            "1.4266177180976853\n"
          ],
          "name": "stdout"
        }
      ]
    },
    {
      "cell_type": "code",
      "metadata": {
        "id": "Ea1zxEUDDXJN",
        "colab": {
          "base_uri": "https://localhost:8080/",
          "height": 323
        },
        "outputId": "996b8c86-99cd-4afc-bba4-b0ae19393d4b"
      },
      "source": [
        "model2 = ARIMA(data_male['Indonesia '],order=(0,1,0))\n",
        "model2=model2.fit()\n",
        "data_male.tail()"
      ],
      "execution_count": 203,
      "outputs": [
        {
          "output_type": "stream",
          "text": [
            "/usr/local/lib/python3.7/dist-packages/statsmodels/tsa/base/tsa_model.py:527: ValueWarning: No frequency information was provided, so inferred frequency AS-JAN will be used.\n",
            "  % freq, ValueWarning)\n",
            "/usr/local/lib/python3.7/dist-packages/statsmodels/tsa/base/tsa_model.py:527: ValueWarning: No frequency information was provided, so inferred frequency AS-JAN will be used.\n",
            "  % freq, ValueWarning)\n"
          ],
          "name": "stderr"
        },
        {
          "output_type": "execute_result",
          "data": {
            "text/html": [
              "<div>\n",
              "<style scoped>\n",
              "    .dataframe tbody tr th:only-of-type {\n",
              "        vertical-align: middle;\n",
              "    }\n",
              "\n",
              "    .dataframe tbody tr th {\n",
              "        vertical-align: top;\n",
              "    }\n",
              "\n",
              "    .dataframe thead th {\n",
              "        text-align: right;\n",
              "    }\n",
              "</style>\n",
              "<table border=\"1\" class=\"dataframe\">\n",
              "  <thead>\n",
              "    <tr style=\"text-align: right;\">\n",
              "      <th></th>\n",
              "      <th>Brunei Darussalam</th>\n",
              "      <th>Cambodia</th>\n",
              "      <th>Indonesia</th>\n",
              "      <th>Lao's PDR</th>\n",
              "      <th>Malaysia</th>\n",
              "      <th>Myanmar</th>\n",
              "      <th>Philippines</th>\n",
              "      <th>Singapore</th>\n",
              "      <th>Thailand</th>\n",
              "      <th>Viet Nam</th>\n",
              "      <th>Jenis Kelamin</th>\n",
              "    </tr>\n",
              "    <tr>\n",
              "      <th>Tahun</th>\n",
              "      <th></th>\n",
              "      <th></th>\n",
              "      <th></th>\n",
              "      <th></th>\n",
              "      <th></th>\n",
              "      <th></th>\n",
              "      <th></th>\n",
              "      <th></th>\n",
              "      <th></th>\n",
              "      <th></th>\n",
              "      <th></th>\n",
              "    </tr>\n",
              "  </thead>\n",
              "  <tbody>\n",
              "    <tr>\n",
              "      <th>2010-01-01</th>\n",
              "      <td>7.6</td>\n",
              "      <td>0.4</td>\n",
              "      <td>6.2</td>\n",
              "      <td>1.800000</td>\n",
              "      <td>3.2</td>\n",
              "      <td>3.7</td>\n",
              "      <td>7.4</td>\n",
              "      <td>3.0</td>\n",
              "      <td>0.9</td>\n",
              "      <td>2.3</td>\n",
              "      <td>Laki-laki</td>\n",
              "    </tr>\n",
              "    <tr>\n",
              "      <th>2011-01-01</th>\n",
              "      <td>7.5</td>\n",
              "      <td>0.3</td>\n",
              "      <td>5.9</td>\n",
              "      <td>2.900000</td>\n",
              "      <td>2.9</td>\n",
              "      <td>3.7</td>\n",
              "      <td>6.7</td>\n",
              "      <td>2.6</td>\n",
              "      <td>0.6</td>\n",
              "      <td>1.7</td>\n",
              "      <td>Laki-laki</td>\n",
              "    </tr>\n",
              "    <tr>\n",
              "      <th>2012-01-01</th>\n",
              "      <td>7.6</td>\n",
              "      <td>0.1</td>\n",
              "      <td>5.8</td>\n",
              "      <td>3.555556</td>\n",
              "      <td>2.9</td>\n",
              "      <td>3.7</td>\n",
              "      <td>7.0</td>\n",
              "      <td>2.7</td>\n",
              "      <td>0.6</td>\n",
              "      <td>1.6</td>\n",
              "      <td>Laki-laki</td>\n",
              "    </tr>\n",
              "    <tr>\n",
              "      <th>2013-01-01</th>\n",
              "      <td>2.8</td>\n",
              "      <td>0.3</td>\n",
              "      <td>6.1</td>\n",
              "      <td>2.800000</td>\n",
              "      <td>2.9</td>\n",
              "      <td>3.7</td>\n",
              "      <td>6.7</td>\n",
              "      <td>2.7</td>\n",
              "      <td>0.8</td>\n",
              "      <td>2.0</td>\n",
              "      <td>Laki-laki</td>\n",
              "    </tr>\n",
              "    <tr>\n",
              "      <th>2014-01-01</th>\n",
              "      <td>6.2</td>\n",
              "      <td>3.8</td>\n",
              "      <td>5.8</td>\n",
              "      <td>3.800000</td>\n",
              "      <td>3.8</td>\n",
              "      <td>3.8</td>\n",
              "      <td>3.8</td>\n",
              "      <td>2.7</td>\n",
              "      <td>3.8</td>\n",
              "      <td>2.1</td>\n",
              "      <td>Laki-laki</td>\n",
              "    </tr>\n",
              "  </tbody>\n",
              "</table>\n",
              "</div>"
            ],
            "text/plain": [
              "            Brunei Darussalam  Cambodia  ...  Viet Nam  Jenis Kelamin\n",
              "Tahun                                    ...                         \n",
              "2010-01-01                7.6       0.4  ...       2.3      Laki-laki\n",
              "2011-01-01                7.5       0.3  ...       1.7      Laki-laki\n",
              "2012-01-01                7.6       0.1  ...       1.6      Laki-laki\n",
              "2013-01-01                2.8       0.3  ...       2.0      Laki-laki\n",
              "2014-01-01                6.2       3.8  ...       2.1      Laki-laki\n",
              "\n",
              "[5 rows x 11 columns]"
            ]
          },
          "metadata": {
            "tags": []
          },
          "execution_count": 203
        }
      ]
    },
    {
      "cell_type": "code",
      "metadata": {
        "id": "WmStcp2jEx0u"
      },
      "source": [
        "pred=model2.predict(start=len(data_male), end=len(data_male)+30, typ='levels').rename('ARIMA Prediction')"
      ],
      "execution_count": 204,
      "outputs": []
    },
    {
      "cell_type": "code",
      "metadata": {
        "id": "0YEpHVcuFpza",
        "colab": {
          "base_uri": "https://localhost:8080/"
        },
        "outputId": "c148ebdf-0162-4c39-b54d-a4a060392556"
      },
      "source": [
        "pred"
      ],
      "execution_count": 205,
      "outputs": [
        {
          "output_type": "execute_result",
          "data": {
            "text/plain": [
              "2015-01-01    5.33\n",
              "2016-01-01    4.86\n",
              "2017-01-01    4.39\n",
              "2018-01-01    3.92\n",
              "2019-01-01    3.45\n",
              "2020-01-01    2.98\n",
              "2021-01-01    2.51\n",
              "2022-01-01    2.04\n",
              "2023-01-01    1.57\n",
              "2024-01-01    1.10\n",
              "2025-01-01    0.63\n",
              "2026-01-01    0.16\n",
              "2027-01-01   -0.31\n",
              "2028-01-01   -0.78\n",
              "2029-01-01   -1.25\n",
              "2030-01-01   -1.72\n",
              "2031-01-01   -2.19\n",
              "2032-01-01   -2.66\n",
              "2033-01-01   -3.13\n",
              "2034-01-01   -3.60\n",
              "2035-01-01   -4.07\n",
              "2036-01-01   -4.54\n",
              "2037-01-01   -5.01\n",
              "2038-01-01   -5.48\n",
              "2039-01-01   -5.95\n",
              "2040-01-01   -6.42\n",
              "2041-01-01   -6.89\n",
              "2042-01-01   -7.36\n",
              "2043-01-01   -7.83\n",
              "2044-01-01   -8.30\n",
              "2045-01-01   -8.77\n",
              "Freq: AS-JAN, Name: ARIMA Prediction, dtype: float64"
            ]
          },
          "metadata": {
            "tags": []
          },
          "execution_count": 205
        }
      ]
    },
    {
      "cell_type": "code",
      "metadata": {
        "id": "NcXY0KYuFsnu",
        "colab": {
          "base_uri": "https://localhost:8080/",
          "height": 343
        },
        "outputId": "df9fb39e-a60c-407e-f2fa-225bc6ea44c7"
      },
      "source": [
        "pred.plot(figsize=(12,5),legend=True)"
      ],
      "execution_count": 206,
      "outputs": [
        {
          "output_type": "execute_result",
          "data": {
            "text/plain": [
              "<matplotlib.axes._subplots.AxesSubplot at 0x7f970e0a38d0>"
            ]
          },
          "metadata": {
            "tags": []
          },
          "execution_count": 206
        },
        {
          "output_type": "display_data",
          "data": {
            "image/png": "[encoded data removed]",
            "text/plain": [
              "<Figure size 864x360 with 1 Axes>"
            ]
          },
          "metadata": {
            "tags": []
          }
        }
      ]
    },
    {
      "cell_type": "markdown",
      "metadata": {
        "id": "vt6yzUOh14kv"
      },
      "source": [
        "### 2. DataFrame data_female"
      ]
    },
    {
      "cell_type": "code",
      "metadata": {
        "id": "82-UxEu7zal2",
        "colab": {
          "base_uri": "https://localhost:8080/",
          "height": 412
        },
        "outputId": "42582ded-a3ed-4ab0-cedf-95e415e880b6"
      },
      "source": [
        "data_female['Indonesia '].plot(figsize=(12,6))"
      ],
      "execution_count": 207,
      "outputs": [
        {
          "output_type": "execute_result",
          "data": {
            "text/plain": [
              "<matplotlib.axes._subplots.AxesSubplot at 0x7f970dfed9d0>"
            ]
          },
          "metadata": {
            "tags": []
          },
          "execution_count": 207
        },
        {
          "output_type": "display_data",
          "data": {
            "image/png": "[encoded data removed]",
            "text/plain": [
              "<Figure size 864x432 with 1 Axes>"
            ]
          },
          "metadata": {
            "tags": []
          }
        }
      ]
    },
    {
      "cell_type": "code",
      "metadata": {
        "id": "3fFcsWvfziwJ",
        "colab": {
          "base_uri": "https://localhost:8080/"
        },
        "outputId": "130358ff-58be-46d2-db9d-f28f6efbd254"
      },
      "source": [
        "ad_test(data_female['Indonesia '])"
      ],
      "execution_count": 208,
      "outputs": [
        {
          "output_type": "stream",
          "text": [
            "1. ADF :  -2.862648785998797\n",
            "2. P-Value :  0.04986703366522796\n",
            "3. Num of lag :  3\n",
            "4. Num of Observation Used for ADF Regression and Critical Values Calculation :  7\n",
            "5. Critical Values : \n",
            "\t 1% : -4.9386902332361515\n",
            "\t 5% : -3.477582857142857\n",
            "\t 10% : -2.8438679591836733\n"
          ],
          "name": "stdout"
        }
      ]
    },
    {
      "cell_type": "code",
      "metadata": {
        "id": "OjEgIGmwzrBJ",
        "colab": {
          "base_uri": "https://localhost:8080/",
          "height": 557
        },
        "outputId": "cb956ad9-8e1c-47dc-f5e5-08d95d900709"
      },
      "source": [
        "stepwise_fit = auto_arima(data_female['Indonesia '], trace = True, suppress_warnings=True)\n",
        "stepwise_fit.summary()"
      ],
      "execution_count": 209,
      "outputs": [
        {
          "output_type": "stream",
          "text": [
            "Performing stepwise search to minimize aic\n",
            " ARIMA(2,1,2)(0,0,0)[0] intercept   : AIC=73731.180, Time=0.12 sec\n",
            " ARIMA(0,1,0)(0,0,0)[0] intercept   : AIC=28.079, Time=0.02 sec\n",
            " ARIMA(1,1,0)(0,0,0)[0] intercept   : AIC=29.579, Time=0.04 sec\n",
            " ARIMA(0,1,1)(0,0,0)[0] intercept   : AIC=29.821, Time=0.04 sec\n",
            " ARIMA(0,1,0)(0,0,0)[0]             : AIC=35.992, Time=0.01 sec\n",
            " ARIMA(1,1,1)(0,0,0)[0] intercept   : AIC=31.090, Time=0.10 sec\n",
            "\n",
            "Best model:  ARIMA(0,1,0)(0,0,0)[0] intercept\n",
            "Total fit time: 0.335 seconds\n"
          ],
          "name": "stdout"
        },
        {
          "output_type": "execute_result",
          "data": {
            "text/html": [
              "<table class=\"simpletable\">\n",
              "<caption>SARIMAX Results</caption>\n",
              "<tr>\n",
              "  <th>Dep. Variable:</th>           <td>y</td>        <th>  No. Observations:  </th>   <td>11</td>   \n",
              "</tr>\n",
              "<tr>\n",
              "  <th>Model:</th>           <td>SARIMAX(0, 1, 0)</td> <th>  Log Likelihood     </th> <td>-12.039</td>\n",
              "</tr>\n",
              "<tr>\n",
              "  <th>Date:</th>            <td>Mon, 28 Jun 2021</td> <th>  AIC                </th> <td>28.079</td> \n",
              "</tr>\n",
              "<tr>\n",
              "  <th>Time:</th>                <td>09:35:04</td>     <th>  BIC                </th> <td>28.684</td> \n",
              "</tr>\n",
              "<tr>\n",
              "  <th>Sample:</th>                  <td>0</td>        <th>  HQIC               </th> <td>27.415</td> \n",
              "</tr>\n",
              "<tr>\n",
              "  <th></th>                       <td> - 11</td>      <th>                     </th>    <td> </td>   \n",
              "</tr>\n",
              "<tr>\n",
              "  <th>Covariance Type:</th>        <td>opg</td>       <th>                     </th>    <td> </td>   \n",
              "</tr>\n",
              "</table>\n",
              "<table class=\"simpletable\">\n",
              "<tr>\n",
              "      <td></td>         <th>coef</th>     <th>std err</th>      <th>z</th>      <th>P>|z|</th>  <th>[0.025</th>    <th>0.975]</th>  \n",
              "</tr>\n",
              "<tr>\n",
              "  <th>intercept</th> <td>   -1.0500</td> <td>    0.268</td> <td>   -3.924</td> <td> 0.000</td> <td>   -1.574</td> <td>   -0.526</td>\n",
              "</tr>\n",
              "<tr>\n",
              "  <th>sigma2</th>    <td>    0.6505</td> <td>    0.361</td> <td>    1.801</td> <td> 0.072</td> <td>   -0.057</td> <td>    1.358</td>\n",
              "</tr>\n",
              "</table>\n",
              "<table class=\"simpletable\">\n",
              "<tr>\n",
              "  <th>Ljung-Box (L1) (Q):</th>     <td>0.53</td> <th>  Jarque-Bera (JB):  </th> <td>0.35</td> \n",
              "</tr>\n",
              "<tr>\n",
              "  <th>Prob(Q):</th>                <td>0.47</td> <th>  Prob(JB):          </th> <td>0.84</td> \n",
              "</tr>\n",
              "<tr>\n",
              "  <th>Heteroskedasticity (H):</th> <td>0.38</td> <th>  Skew:              </th> <td>-0.36</td>\n",
              "</tr>\n",
              "<tr>\n",
              "  <th>Prob(H) (two-sided):</th>    <td>0.45</td> <th>  Kurtosis:          </th> <td>2.43</td> \n",
              "</tr>\n",
              "</table><br/><br/>Warnings:<br/>[1] Covariance matrix calculated using the outer product of gradients (complex-step)."
            ],
            "text/plain": [
              "<class 'statsmodels.iolib.summary.Summary'>\n",
              "\"\"\"\n",
              "                               SARIMAX Results                                \n",
              "==============================================================================\n",
              "Dep. Variable:                      y   No. Observations:                   11\n",
              "Model:               SARIMAX(0, 1, 0)   Log Likelihood                 -12.039\n",
              "Date:                Mon, 28 Jun 2021   AIC                             28.079\n",
              "Time:                        09:35:04   BIC                             28.684\n",
              "Sample:                             0   HQIC                            27.415\n",
              "                                 - 11                                         \n",
              "Covariance Type:                  opg                                         \n",
              "==============================================================================\n",
              "                 coef    std err          z      P>|z|      [0.025      0.975]\n",
              "------------------------------------------------------------------------------\n",
              "intercept     -1.0500      0.268     -3.924      0.000      -1.574      -0.526\n",
              "sigma2         0.6505      0.361      1.801      0.072      -0.057       1.358\n",
              "===================================================================================\n",
              "Ljung-Box (L1) (Q):                   0.53   Jarque-Bera (JB):                 0.35\n",
              "Prob(Q):                              0.47   Prob(JB):                         0.84\n",
              "Heteroskedasticity (H):               0.38   Skew:                            -0.36\n",
              "Prob(H) (two-sided):                  0.45   Kurtosis:                         2.43\n",
              "===================================================================================\n",
              "\n",
              "Warnings:\n",
              "[1] Covariance matrix calculated using the outer product of gradients (complex-step).\n",
              "\"\"\""
            ]
          },
          "metadata": {
            "tags": []
          },
          "execution_count": 209
        }
      ]
    },
    {
      "cell_type": "code",
      "metadata": {
        "id": "ldH7oUcGzy1r",
        "colab": {
          "base_uri": "https://localhost:8080/"
        },
        "outputId": "f4f05f6f-74ee-40df-fa3b-afc8bce8ff7c"
      },
      "source": [
        "print(data_female.shape)\n",
        "train1 = data_female.iloc[:8]\n",
        "test1 = data_female.iloc[8:]\n",
        "print(train.shape, test.shape)"
      ],
      "execution_count": 210,
      "outputs": [
        {
          "output_type": "stream",
          "text": [
            "(11, 11)\n",
            "(8, 11) (3, 11)\n"
          ],
          "name": "stdout"
        }
      ]
    },
    {
      "cell_type": "code",
      "metadata": {
        "id": "vHwqv-G30MqG",
        "colab": {
          "base_uri": "https://localhost:8080/",
          "height": 324
        },
        "outputId": "ba028630-8bcb-4a73-fc9b-ccea268a8866"
      },
      "source": [
        "train"
      ],
      "execution_count": 211,
      "outputs": [
        {
          "output_type": "execute_result",
          "data": {
            "text/html": [
              "<div>\n",
              "<style scoped>\n",
              "    .dataframe tbody tr th:only-of-type {\n",
              "        vertical-align: middle;\n",
              "    }\n",
              "\n",
              "    .dataframe tbody tr th {\n",
              "        vertical-align: top;\n",
              "    }\n",
              "\n",
              "    .dataframe thead th {\n",
              "        text-align: right;\n",
              "    }\n",
              "</style>\n",
              "<table border=\"1\" class=\"dataframe\">\n",
              "  <thead>\n",
              "    <tr style=\"text-align: right;\">\n",
              "      <th></th>\n",
              "      <th>Brunei Darussalam</th>\n",
              "      <th>Cambodia</th>\n",
              "      <th>Indonesia</th>\n",
              "      <th>Lao's PDR</th>\n",
              "      <th>Malaysia</th>\n",
              "      <th>Myanmar</th>\n",
              "      <th>Philippines</th>\n",
              "      <th>Singapore</th>\n",
              "      <th>Thailand</th>\n",
              "      <th>Viet Nam</th>\n",
              "      <th>Jenis Kelamin</th>\n",
              "    </tr>\n",
              "    <tr>\n",
              "      <th>Tahun</th>\n",
              "      <th></th>\n",
              "      <th></th>\n",
              "      <th></th>\n",
              "      <th></th>\n",
              "      <th></th>\n",
              "      <th></th>\n",
              "      <th></th>\n",
              "      <th></th>\n",
              "      <th></th>\n",
              "      <th></th>\n",
              "      <th></th>\n",
              "    </tr>\n",
              "  </thead>\n",
              "  <tbody>\n",
              "    <tr>\n",
              "      <th>2004-01-01</th>\n",
              "      <td>4.200000</td>\n",
              "      <td>1.900000</td>\n",
              "      <td>10.5</td>\n",
              "      <td>3.600000</td>\n",
              "      <td>3.4</td>\n",
              "      <td>3.6</td>\n",
              "      <td>10.4</td>\n",
              "      <td>5.6</td>\n",
              "      <td>2.1</td>\n",
              "      <td>1.900000</td>\n",
              "      <td>Laki-laki</td>\n",
              "    </tr>\n",
              "    <tr>\n",
              "      <th>2005-01-01</th>\n",
              "      <td>4.414286</td>\n",
              "      <td>4.414286</td>\n",
              "      <td>9.3</td>\n",
              "      <td>1.300000</td>\n",
              "      <td>3.4</td>\n",
              "      <td>3.7</td>\n",
              "      <td>7.4</td>\n",
              "      <td>3.9</td>\n",
              "      <td>1.9</td>\n",
              "      <td>4.414286</td>\n",
              "      <td>Laki-laki</td>\n",
              "    </tr>\n",
              "    <tr>\n",
              "      <th>2006-01-01</th>\n",
              "      <td>7.400000</td>\n",
              "      <td>5.042857</td>\n",
              "      <td>8.5</td>\n",
              "      <td>5.042857</td>\n",
              "      <td>3.3</td>\n",
              "      <td>3.7</td>\n",
              "      <td>7.7</td>\n",
              "      <td>3.4</td>\n",
              "      <td>1.3</td>\n",
              "      <td>5.042857</td>\n",
              "      <td>Laki-laki</td>\n",
              "    </tr>\n",
              "    <tr>\n",
              "      <th>2007-01-01</th>\n",
              "      <td>7.400000</td>\n",
              "      <td>0.700000</td>\n",
              "      <td>8.1</td>\n",
              "      <td>3.100000</td>\n",
              "      <td>3.1</td>\n",
              "      <td>3.7</td>\n",
              "      <td>6.4</td>\n",
              "      <td>2.8</td>\n",
              "      <td>1.3</td>\n",
              "      <td>2.300000</td>\n",
              "      <td>Laki-laki</td>\n",
              "    </tr>\n",
              "    <tr>\n",
              "      <th>2008-01-01</th>\n",
              "      <td>7.500000</td>\n",
              "      <td>0.300000</td>\n",
              "      <td>7.6</td>\n",
              "      <td>3.200000</td>\n",
              "      <td>3.2</td>\n",
              "      <td>3.7</td>\n",
              "      <td>7.0</td>\n",
              "      <td>3.0</td>\n",
              "      <td>1.3</td>\n",
              "      <td>2.500000</td>\n",
              "      <td>Laki-laki</td>\n",
              "    </tr>\n",
              "    <tr>\n",
              "      <th>2009-01-01</th>\n",
              "      <td>7.500000</td>\n",
              "      <td>0.200000</td>\n",
              "      <td>7.5</td>\n",
              "      <td>4.188889</td>\n",
              "      <td>3.6</td>\n",
              "      <td>3.7</td>\n",
              "      <td>7.4</td>\n",
              "      <td>4.1</td>\n",
              "      <td>1.2</td>\n",
              "      <td>2.500000</td>\n",
              "      <td>Laki-laki</td>\n",
              "    </tr>\n",
              "    <tr>\n",
              "      <th>2010-01-01</th>\n",
              "      <td>7.600000</td>\n",
              "      <td>0.400000</td>\n",
              "      <td>6.2</td>\n",
              "      <td>1.800000</td>\n",
              "      <td>3.2</td>\n",
              "      <td>3.7</td>\n",
              "      <td>7.4</td>\n",
              "      <td>3.0</td>\n",
              "      <td>0.9</td>\n",
              "      <td>2.300000</td>\n",
              "      <td>Laki-laki</td>\n",
              "    </tr>\n",
              "    <tr>\n",
              "      <th>2011-01-01</th>\n",
              "      <td>7.500000</td>\n",
              "      <td>0.300000</td>\n",
              "      <td>5.9</td>\n",
              "      <td>2.900000</td>\n",
              "      <td>2.9</td>\n",
              "      <td>3.7</td>\n",
              "      <td>6.7</td>\n",
              "      <td>2.6</td>\n",
              "      <td>0.6</td>\n",
              "      <td>1.700000</td>\n",
              "      <td>Laki-laki</td>\n",
              "    </tr>\n",
              "  </tbody>\n",
              "</table>\n",
              "</div>"
            ],
            "text/plain": [
              "            Brunei Darussalam  Cambodia  ...  Viet Nam  Jenis Kelamin\n",
              "Tahun                                    ...                         \n",
              "2004-01-01           4.200000  1.900000  ...  1.900000      Laki-laki\n",
              "2005-01-01           4.414286  4.414286  ...  4.414286      Laki-laki\n",
              "2006-01-01           7.400000  5.042857  ...  5.042857      Laki-laki\n",
              "2007-01-01           7.400000  0.700000  ...  2.300000      Laki-laki\n",
              "2008-01-01           7.500000  0.300000  ...  2.500000      Laki-laki\n",
              "2009-01-01           7.500000  0.200000  ...  2.500000      Laki-laki\n",
              "2010-01-01           7.600000  0.400000  ...  2.300000      Laki-laki\n",
              "2011-01-01           7.500000  0.300000  ...  1.700000      Laki-laki\n",
              "\n",
              "[8 rows x 11 columns]"
            ]
          },
          "metadata": {
            "tags": []
          },
          "execution_count": 211
        }
      ]
    },
    {
      "cell_type": "code",
      "metadata": {
        "id": "iCoAUzhbz9CT",
        "colab": {
          "base_uri": "https://localhost:8080/",
          "height": 304
        },
        "outputId": "369b545a-bd84-4e72-dc54-ad460b4b797d"
      },
      "source": [
        "model3 = ARIMA(train['Indonesia '],order=(0,1,0))\n",
        "model3 = model3.fit()\n",
        "model3.summary()"
      ],
      "execution_count": 212,
      "outputs": [
        {
          "output_type": "stream",
          "text": [
            "/usr/local/lib/python3.7/dist-packages/statsmodels/tsa/base/tsa_model.py:527: ValueWarning: No frequency information was provided, so inferred frequency AS-JAN will be used.\n",
            "  % freq, ValueWarning)\n",
            "/usr/local/lib/python3.7/dist-packages/statsmodels/tsa/base/tsa_model.py:527: ValueWarning: No frequency information was provided, so inferred frequency AS-JAN will be used.\n",
            "  % freq, ValueWarning)\n"
          ],
          "name": "stderr"
        },
        {
          "output_type": "execute_result",
          "data": {
            "text/html": [
              "<table class=\"simpletable\">\n",
              "<caption>ARIMA Model Results</caption>\n",
              "<tr>\n",
              "  <th>Dep. Variable:</th>   <td>D.Indonesia </td>   <th>  No. Observations:  </th>    <td>7</td>  \n",
              "</tr>\n",
              "<tr>\n",
              "  <th>Model:</th>          <td>ARIMA(0, 1, 0)</td>  <th>  Log Likelihood     </th> <td>-3.923</td>\n",
              "</tr>\n",
              "<tr>\n",
              "  <th>Method:</th>               <td>css</td>       <th>  S.D. of innovations</th>  <td>0.424</td>\n",
              "</tr>\n",
              "<tr>\n",
              "  <th>Date:</th>          <td>Mon, 28 Jun 2021</td> <th>  AIC                </th> <td>11.846</td>\n",
              "</tr>\n",
              "<tr>\n",
              "  <th>Time:</th>              <td>09:35:05</td>     <th>  BIC                </th> <td>11.737</td>\n",
              "</tr>\n",
              "<tr>\n",
              "  <th>Sample:</th>           <td>01-01-2005</td>    <th>  HQIC               </th> <td>10.509</td>\n",
              "</tr>\n",
              "<tr>\n",
              "  <th></th>                 <td>- 01-01-2011</td>   <th>                     </th>    <td> </td>  \n",
              "</tr>\n",
              "</table>\n",
              "<table class=\"simpletable\">\n",
              "<tr>\n",
              "    <td></td>       <th>coef</th>     <th>std err</th>      <th>z</th>      <th>P>|z|</th>  <th>[0.025</th>    <th>0.975]</th>  \n",
              "</tr>\n",
              "<tr>\n",
              "  <th>const</th> <td>   -0.6571</td> <td>    0.160</td> <td>   -4.103</td> <td> 0.000</td> <td>   -0.971</td> <td>   -0.343</td>\n",
              "</tr>\n",
              "</table>"
            ],
            "text/plain": [
              "<class 'statsmodels.iolib.summary.Summary'>\n",
              "\"\"\"\n",
              "                             ARIMA Model Results                              \n",
              "==============================================================================\n",
              "Dep. Variable:           D.Indonesia    No. Observations:                    7\n",
              "Model:                 ARIMA(0, 1, 0)   Log Likelihood                  -3.923\n",
              "Method:                           css   S.D. of innovations              0.424\n",
              "Date:                Mon, 28 Jun 2021   AIC                             11.846\n",
              "Time:                        09:35:05   BIC                             11.737\n",
              "Sample:                    01-01-2005   HQIC                            10.509\n",
              "                         - 01-01-2011                                         \n",
              "==============================================================================\n",
              "                 coef    std err          z      P>|z|      [0.025      0.975]\n",
              "------------------------------------------------------------------------------\n",
              "const         -0.6571      0.160     -4.103      0.000      -0.971      -0.343\n",
              "==============================================================================\n",
              "\"\"\""
            ]
          },
          "metadata": {
            "tags": []
          },
          "execution_count": 212
        }
      ]
    },
    {
      "cell_type": "code",
      "metadata": {
        "id": "KFnnSoEG0IqN",
        "colab": {
          "base_uri": "https://localhost:8080/"
        },
        "outputId": "f0b14715-a3ab-40e2-96cc-455f652df22a"
      },
      "source": [
        "start = len(train1)\n",
        "end = len(train1)+len(test1)-1\n",
        "pred1 = model3.predict(start=start, end=end, typ='levels')\n",
        "pred1.index=data_female.index[start:end+1]\n",
        "print(pred1)"
      ],
      "execution_count": 213,
      "outputs": [
        {
          "output_type": "stream",
          "text": [
            "Tahun\n",
            "2012-01-01    5.242857\n",
            "2013-01-01    4.585714\n",
            "2014-01-01    3.928571\n",
            "dtype: float64\n"
          ],
          "name": "stdout"
        }
      ]
    },
    {
      "cell_type": "code",
      "metadata": {
        "id": "xU7qA52G0iho",
        "colab": {
          "base_uri": "https://localhost:8080/",
          "height": 302
        },
        "outputId": "2a8c44b7-fe4a-4a67-9560-f97f410f543a"
      },
      "source": [
        "pred1.plot(legend=True)\n",
        "test1['Indonesia '].plot(legend=True)"
      ],
      "execution_count": 214,
      "outputs": [
        {
          "output_type": "execute_result",
          "data": {
            "text/plain": [
              "<matplotlib.axes._subplots.AxesSubplot at 0x7f970e9055d0>"
            ]
          },
          "metadata": {
            "tags": []
          },
          "execution_count": 214
        },
        {
          "output_type": "display_data",
          "data": {
            "image/png": "[encoded data removed]",
            "text/plain": [
              "<Figure size 432x288 with 1 Axes>"
            ]
          },
          "metadata": {
            "tags": []
          }
        }
      ]
    },
    {
      "cell_type": "code",
      "metadata": {
        "id": "nrR85x0s0rRd",
        "colab": {
          "base_uri": "https://localhost:8080/"
        },
        "outputId": "18738ad8-432e-415b-f354-e7a1d9884389"
      },
      "source": [
        "test1['Indonesia '].mean()"
      ],
      "execution_count": 215,
      "outputs": [
        {
          "output_type": "execute_result",
          "data": {
            "text/plain": [
              "6.533333333333334"
            ]
          },
          "metadata": {
            "tags": []
          },
          "execution_count": 215
        }
      ]
    },
    {
      "cell_type": "code",
      "metadata": {
        "id": "e8KJEK4V0yzG",
        "colab": {
          "base_uri": "https://localhost:8080/"
        },
        "outputId": "ea21083e-14a0-4bfb-a859-1c312cda6950"
      },
      "source": [
        "rmse = sqrt(mean_squared_error(pred1, test1['Indonesia ']))\n",
        "print(rmse)"
      ],
      "execution_count": 216,
      "outputs": [
        {
          "output_type": "stream",
          "text": [
            "1.9759265520815046\n"
          ],
          "name": "stdout"
        }
      ]
    },
    {
      "cell_type": "code",
      "metadata": {
        "id": "KVKgHkUy07VH",
        "colab": {
          "base_uri": "https://localhost:8080/",
          "height": 323
        },
        "outputId": "d7d940ca-3169-4d97-e080-af26e2750978"
      },
      "source": [
        "model4 = ARIMA(data_female['Indonesia '],order=(0,1,0))\n",
        "model4=model4.fit()\n",
        "data_female.tail()"
      ],
      "execution_count": 217,
      "outputs": [
        {
          "output_type": "stream",
          "text": [
            "/usr/local/lib/python3.7/dist-packages/statsmodels/tsa/base/tsa_model.py:527: ValueWarning: No frequency information was provided, so inferred frequency AS-JAN will be used.\n",
            "  % freq, ValueWarning)\n",
            "/usr/local/lib/python3.7/dist-packages/statsmodels/tsa/base/tsa_model.py:527: ValueWarning: No frequency information was provided, so inferred frequency AS-JAN will be used.\n",
            "  % freq, ValueWarning)\n"
          ],
          "name": "stderr"
        },
        {
          "output_type": "execute_result",
          "data": {
            "text/html": [
              "<div>\n",
              "<style scoped>\n",
              "    .dataframe tbody tr th:only-of-type {\n",
              "        vertical-align: middle;\n",
              "    }\n",
              "\n",
              "    .dataframe tbody tr th {\n",
              "        vertical-align: top;\n",
              "    }\n",
              "\n",
              "    .dataframe thead th {\n",
              "        text-align: right;\n",
              "    }\n",
              "</style>\n",
              "<table border=\"1\" class=\"dataframe\">\n",
              "  <thead>\n",
              "    <tr style=\"text-align: right;\">\n",
              "      <th></th>\n",
              "      <th>Brunei Darussalam</th>\n",
              "      <th>Cambodia</th>\n",
              "      <th>Indonesia</th>\n",
              "      <th>Lao's PDR</th>\n",
              "      <th>Malaysia</th>\n",
              "      <th>Myanmar</th>\n",
              "      <th>Philippines</th>\n",
              "      <th>Singapore</th>\n",
              "      <th>Thailand</th>\n",
              "      <th>Viet Nam</th>\n",
              "      <th>Jenis Kelamin</th>\n",
              "    </tr>\n",
              "    <tr>\n",
              "      <th>Tahun</th>\n",
              "      <th></th>\n",
              "      <th></th>\n",
              "      <th></th>\n",
              "      <th></th>\n",
              "      <th></th>\n",
              "      <th></th>\n",
              "      <th></th>\n",
              "      <th></th>\n",
              "      <th></th>\n",
              "      <th></th>\n",
              "      <th></th>\n",
              "    </tr>\n",
              "  </thead>\n",
              "  <tbody>\n",
              "    <tr>\n",
              "      <th>2010-01-01</th>\n",
              "      <td>11.3</td>\n",
              "      <td>0.30</td>\n",
              "      <td>8.7</td>\n",
              "      <td>2.000000</td>\n",
              "      <td>3.40</td>\n",
              "      <td>4.6</td>\n",
              "      <td>6.70</td>\n",
              "      <td>3.4</td>\n",
              "      <td>0.80</td>\n",
              "      <td>3.1</td>\n",
              "      <td>Perempuan</td>\n",
              "    </tr>\n",
              "    <tr>\n",
              "      <th>2011-01-01</th>\n",
              "      <td>11.7</td>\n",
              "      <td>0.10</td>\n",
              "      <td>7.6</td>\n",
              "      <td>4.411111</td>\n",
              "      <td>3.30</td>\n",
              "      <td>4.6</td>\n",
              "      <td>6.10</td>\n",
              "      <td>3.2</td>\n",
              "      <td>0.70</td>\n",
              "      <td>2.4</td>\n",
              "      <td>Perempuan</td>\n",
              "    </tr>\n",
              "    <tr>\n",
              "      <th>2012-01-01</th>\n",
              "      <td>12.4</td>\n",
              "      <td>0.20</td>\n",
              "      <td>6.8</td>\n",
              "      <td>4.388889</td>\n",
              "      <td>3.20</td>\n",
              "      <td>4.6</td>\n",
              "      <td>6.70</td>\n",
              "      <td>3.1</td>\n",
              "      <td>0.50</td>\n",
              "      <td>2.0</td>\n",
              "      <td>Perempuan</td>\n",
              "    </tr>\n",
              "    <tr>\n",
              "      <th>2013-01-01</th>\n",
              "      <td>3.3</td>\n",
              "      <td>0.30</td>\n",
              "      <td>6.5</td>\n",
              "      <td>3.300000</td>\n",
              "      <td>3.40</td>\n",
              "      <td>4.6</td>\n",
              "      <td>5.90</td>\n",
              "      <td>2.9</td>\n",
              "      <td>0.80</td>\n",
              "      <td>2.0</td>\n",
              "      <td>Perempuan</td>\n",
              "    </tr>\n",
              "    <tr>\n",
              "      <th>2014-01-01</th>\n",
              "      <td>7.8</td>\n",
              "      <td>4.62</td>\n",
              "      <td>6.3</td>\n",
              "      <td>4.620000</td>\n",
              "      <td>4.62</td>\n",
              "      <td>4.0</td>\n",
              "      <td>4.62</td>\n",
              "      <td>2.9</td>\n",
              "      <td>4.62</td>\n",
              "      <td>2.1</td>\n",
              "      <td>Perempuan</td>\n",
              "    </tr>\n",
              "  </tbody>\n",
              "</table>\n",
              "</div>"
            ],
            "text/plain": [
              "            Brunei Darussalam  Cambodia  ...  Viet Nam  Jenis Kelamin\n",
              "Tahun                                    ...                         \n",
              "2010-01-01               11.3      0.30  ...       3.1      Perempuan\n",
              "2011-01-01               11.7      0.10  ...       2.4      Perempuan\n",
              "2012-01-01               12.4      0.20  ...       2.0      Perempuan\n",
              "2013-01-01                3.3      0.30  ...       2.0      Perempuan\n",
              "2014-01-01                7.8      4.62  ...       2.1      Perempuan\n",
              "\n",
              "[5 rows x 11 columns]"
            ]
          },
          "metadata": {
            "tags": []
          },
          "execution_count": 217
        }
      ]
    },
    {
      "cell_type": "code",
      "metadata": {
        "id": "1DUdoAqW1EfR"
      },
      "source": [
        "pred1=model4.predict(start=len(data_female), end=len(data_female)+30, typ='levels').rename('ARIMA Prediction')"
      ],
      "execution_count": 218,
      "outputs": []
    },
    {
      "cell_type": "code",
      "metadata": {
        "id": "gkR_FH5F1Zii",
        "colab": {
          "base_uri": "https://localhost:8080/"
        },
        "outputId": "e9761250-bb4a-4a5d-c75c-0b583625d519"
      },
      "source": [
        "pred1"
      ],
      "execution_count": 219,
      "outputs": [
        {
          "output_type": "execute_result",
          "data": {
            "text/plain": [
              "2015-01-01    5.250000e+00\n",
              "2016-01-01    4.200000e+00\n",
              "2017-01-01    3.150000e+00\n",
              "2018-01-01    2.100000e+00\n",
              "2019-01-01    1.050000e+00\n",
              "2020-01-01    4.440892e-16\n",
              "2021-01-01   -1.050000e+00\n",
              "2022-01-01   -2.100000e+00\n",
              "2023-01-01   -3.150000e+00\n",
              "2024-01-01   -4.200000e+00\n",
              "2025-01-01   -5.250000e+00\n",
              "2026-01-01   -6.300000e+00\n",
              "2027-01-01   -7.350000e+00\n",
              "2028-01-01   -8.400000e+00\n",
              "2029-01-01   -9.450000e+00\n",
              "2030-01-01   -1.050000e+01\n",
              "2031-01-01   -1.155000e+01\n",
              "2032-01-01   -1.260000e+01\n",
              "2033-01-01   -1.365000e+01\n",
              "2034-01-01   -1.470000e+01\n",
              "2035-01-01   -1.575000e+01\n",
              "2036-01-01   -1.680000e+01\n",
              "2037-01-01   -1.785000e+01\n",
              "2038-01-01   -1.890000e+01\n",
              "2039-01-01   -1.995000e+01\n",
              "2040-01-01   -2.100000e+01\n",
              "2041-01-01   -2.205000e+01\n",
              "2042-01-01   -2.310000e+01\n",
              "2043-01-01   -2.415000e+01\n",
              "2044-01-01   -2.520000e+01\n",
              "2045-01-01   -2.625000e+01\n",
              "Freq: AS-JAN, Name: ARIMA Prediction, dtype: float64"
            ]
          },
          "metadata": {
            "tags": []
          },
          "execution_count": 219
        }
      ]
    },
    {
      "cell_type": "code",
      "metadata": {
        "id": "FdNe__E31a7Z",
        "colab": {
          "base_uri": "https://localhost:8080/",
          "height": 394
        },
        "outputId": "0701f01b-aa37-429a-e14b-ab7782f72109"
      },
      "source": [
        "pred1.plot(figsize=(12,6),legend=True)"
      ],
      "execution_count": 220,
      "outputs": [
        {
          "output_type": "execute_result",
          "data": {
            "text/plain": [
              "<matplotlib.axes._subplots.AxesSubplot at 0x7f970deac1d0>"
            ]
          },
          "metadata": {
            "tags": []
          },
          "execution_count": 220
        },
        {
          "output_type": "display_data",
          "data": {
            "image/png": "[encoded data removed]",
            "text/plain": [
              "<Figure size 864x432 with 1 Axes>"
            ]
          },
          "metadata": {
            "tags": []
          }
        }
      ]
    },
    {
      "cell_type": "code",
      "metadata": {
        "id": "YPfoekKC1oTs"
      },
      "source": [
        ""
      ],
      "execution_count": 220,
      "outputs": []
    }
  ]
}