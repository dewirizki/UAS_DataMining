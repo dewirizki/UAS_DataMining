{
  "nbformat": 4,
  "nbformat_minor": 0,
  "metadata": {
    "colab": {
      "name": "Bismillah data mining.ipynb",
      "provenance": [],
      "authorship_tag": "ABX9TyOndOqIj+Io3pzLTuxUdWeQ",
      "include_colab_link": true
    },
    "kernelspec": {
      "name": "python3",
      "display_name": "Python 3"
    },
    "language_info": {
      "name": "python"
    }
  },
  "cells": [
    {
      "cell_type": "markdown",
      "metadata": {
        "id": "view-in-github",
        "colab_type": "text"
      },
      "source": [
        "<a href=\"https://colab.research.google.com/github/dewirizki/UAS_DataMining/blob/main/%20UAS%20Data%20Mining%20Genap%202021.ipynb\" target=\"_parent\"><img src=\"https://colab.research.google.com/assets/colab-badge.svg\" alt=\"Open In Colab\"/></a>"
      ]
    },
    {
      "cell_type": "markdown",
      "metadata": {
        "id": "CRKC2P0teq2g"
      },
      "source": [
        "# Data Mining dengan Tema Economic Growth (Pertumbuhan Ekonomi)\n",
        "\n"
      ]
    },
    {
      "cell_type": "code",
      "metadata": {
        "id": "EUCmZdbddNv9"
      },
      "source": [
        "#Mengimport module yang akan digunakan\n",
        "import warnings; warnings.simplefilter('ignore'); warnings.filterwarnings('ignore')\n",
        "import scipy, itertools, pandas as pd, matplotlib.pyplot as plt, seaborn as sns, numpy as np\n",
        "from scipy import linalg\n",
        "from sklearn.preprocessing import LabelEncoder\n",
        "from sklearn.model_selection import train_test_split\n",
        "from sklearn.neighbors import KNeighborsClassifier\n",
        "from sklearn.metrics import classification_report\n",
        "from sklearn.metrics import confusion_matrix\n",
        "from sklearn import preprocessing\n",
        "import matplotlib.cm as cm\n",
        "from collections import Counter\n",
        "plt.style.use('bmh'); sns.set()"
      ],
      "execution_count": null,
      "outputs": []
    },
    {
      "cell_type": "markdown",
      "metadata": {
        "id": "kVuMU8ce3QB-"
      },
      "source": [
        "## Data Pekerja berdasarkan Pekerjaan"
      ]
    },
    {
      "cell_type": "markdown",
      "metadata": {
        "id": "4hlps7Vv264_"
      },
      "source": [
        "### Exploratory Data Analysis Dataset Employment by Occupation"
      ]
    },
    {
      "cell_type": "code",
      "metadata": {
        "id": "z1oBHRpq3AwY"
      },
      "source": [
        "data_job = pd.read_csv('/content/Data/employment by occupation.csv')"
      ],
      "execution_count": null,
      "outputs": []
    },
    {
      "cell_type": "code",
      "metadata": {
        "colab": {
          "base_uri": "https://localhost:8080/",
          "height": 572
        },
        "id": "Q0y_OA2g8bV9",
        "outputId": "d02f7e37-127b-4aa5-d1b1-a2e23d22a6a1"
      },
      "source": [
        "data_job"
      ],
      "execution_count": null,
      "outputs": [
        {
          "output_type": "execute_result",
          "data": {
            "text/html": [
              "<div>\n",
              "<style scoped>\n",
              "    .dataframe tbody tr th:only-of-type {\n",
              "        vertical-align: middle;\n",
              "    }\n",
              "\n",
              "    .dataframe tbody tr th {\n",
              "        vertical-align: top;\n",
              "    }\n",
              "\n",
              "    .dataframe thead th {\n",
              "        text-align: right;\n",
              "    }\n",
              "</style>\n",
              "<table border=\"1\" class=\"dataframe\">\n",
              "  <thead>\n",
              "    <tr style=\"text-align: right;\">\n",
              "      <th></th>\n",
              "      <th>Countries</th>\n",
              "      <th>Year(s)</th>\n",
              "      <th>Professionals, technical and related workers</th>\n",
              "      <th>Administrative, executive and managerial workers</th>\n",
              "      <th>Clerical and related workers</th>\n",
              "      <th>Sales workers and services workers</th>\n",
              "      <th>Agricultural, animal husbandry and forestry workers; fishermen and hunters</th>\n",
              "      <th>Production and related workers, transport equipment operators and labourers</th>\n",
              "      <th>Others</th>\n",
              "      <th>Source</th>\n",
              "    </tr>\n",
              "  </thead>\n",
              "  <tbody>\n",
              "    <tr>\n",
              "      <th>0</th>\n",
              "      <td>Brunei Darussalam</td>\n",
              "      <td>2014.0</td>\n",
              "      <td>33.2</td>\n",
              "      <td>7.6</td>\n",
              "      <td>11.4</td>\n",
              "      <td>19.5</td>\n",
              "      <td>1.4</td>\n",
              "      <td>13.0</td>\n",
              "      <td>13.9</td>\n",
              "      <td>ASEAN Secretariat</td>\n",
              "    </tr>\n",
              "    <tr>\n",
              "      <th>1</th>\n",
              "      <td>Cambodia</td>\n",
              "      <td>2014.0</td>\n",
              "      <td>3.7</td>\n",
              "      <td>0.8</td>\n",
              "      <td>3.9</td>\n",
              "      <td>15.3</td>\n",
              "      <td>58.1</td>\n",
              "      <td>17.3</td>\n",
              "      <td>0.9</td>\n",
              "      <td>ASEAN Secretariat</td>\n",
              "    </tr>\n",
              "    <tr>\n",
              "      <th>2</th>\n",
              "      <td>Indonesia</td>\n",
              "      <td>1999.0</td>\n",
              "      <td>3.9</td>\n",
              "      <td>0.3</td>\n",
              "      <td>4.9</td>\n",
              "      <td>23.6</td>\n",
              "      <td>43.0</td>\n",
              "      <td>24.0</td>\n",
              "      <td>0.3</td>\n",
              "      <td>ASEAN Secretariat</td>\n",
              "    </tr>\n",
              "    <tr>\n",
              "      <th>3</th>\n",
              "      <td>Lao's PDR</td>\n",
              "      <td>NaN</td>\n",
              "      <td>NaN</td>\n",
              "      <td>NaN</td>\n",
              "      <td>NaN</td>\n",
              "      <td>NaN</td>\n",
              "      <td>NaN</td>\n",
              "      <td>NaN</td>\n",
              "      <td>NaN</td>\n",
              "      <td>ASEAN Secretariat</td>\n",
              "    </tr>\n",
              "    <tr>\n",
              "      <th>4</th>\n",
              "      <td>Malaysia</td>\n",
              "      <td>2014.0</td>\n",
              "      <td>20.3</td>\n",
              "      <td>4.9</td>\n",
              "      <td>9.1</td>\n",
              "      <td>23.0</td>\n",
              "      <td>7.2</td>\n",
              "      <td>22.8</td>\n",
              "      <td>12.7</td>\n",
              "      <td>ASEAN Secretariat</td>\n",
              "    </tr>\n",
              "    <tr>\n",
              "      <th>5</th>\n",
              "      <td>Myanmar</td>\n",
              "      <td>NaN</td>\n",
              "      <td>NaN</td>\n",
              "      <td>NaN</td>\n",
              "      <td>NaN</td>\n",
              "      <td>NaN</td>\n",
              "      <td>NaN</td>\n",
              "      <td>NaN</td>\n",
              "      <td>NaN</td>\n",
              "      <td>ASEAN Secretariat</td>\n",
              "    </tr>\n",
              "    <tr>\n",
              "      <th>6</th>\n",
              "      <td>Philippines</td>\n",
              "      <td>2014.0</td>\n",
              "      <td>7.5</td>\n",
              "      <td>15.8</td>\n",
              "      <td>6.2</td>\n",
              "      <td>19.3</td>\n",
              "      <td>13.6</td>\n",
              "      <td>37.1</td>\n",
              "      <td>0.5</td>\n",
              "      <td>ASEAN Secretariat</td>\n",
              "    </tr>\n",
              "    <tr>\n",
              "      <th>7</th>\n",
              "      <td>Singapore</td>\n",
              "      <td>2014.0</td>\n",
              "      <td>36.8</td>\n",
              "      <td>16.3</td>\n",
              "      <td>12.6</td>\n",
              "      <td>12.2</td>\n",
              "      <td>NaN</td>\n",
              "      <td>10.9</td>\n",
              "      <td>11.3</td>\n",
              "      <td>ASEAN Secretariat</td>\n",
              "    </tr>\n",
              "    <tr>\n",
              "      <th>8</th>\n",
              "      <td>Thailand</td>\n",
              "      <td>2014.0</td>\n",
              "      <td>10.3</td>\n",
              "      <td>3.7</td>\n",
              "      <td>3.9</td>\n",
              "      <td>18.9</td>\n",
              "      <td>31.7</td>\n",
              "      <td>21.2</td>\n",
              "      <td>10.2</td>\n",
              "      <td>ASEAN Secretariat</td>\n",
              "    </tr>\n",
              "    <tr>\n",
              "      <th>9</th>\n",
              "      <td>Viet Nam</td>\n",
              "      <td>2014.0</td>\n",
              "      <td>9.2</td>\n",
              "      <td>1.1</td>\n",
              "      <td>1.7</td>\n",
              "      <td>16.1</td>\n",
              "      <td>12.2</td>\n",
              "      <td>19.3</td>\n",
              "      <td>40.3</td>\n",
              "      <td>ASEAN Secretariat</td>\n",
              "    </tr>\n",
              "  </tbody>\n",
              "</table>\n",
              "</div>"
            ],
            "text/plain": [
              "           Countries  Year(s)  ...  Others             Source\n",
              "0  Brunei Darussalam   2014.0  ...    13.9  ASEAN Secretariat\n",
              "1           Cambodia   2014.0  ...     0.9  ASEAN Secretariat\n",
              "2         Indonesia    1999.0  ...     0.3  ASEAN Secretariat\n",
              "3          Lao's PDR      NaN  ...     NaN  ASEAN Secretariat\n",
              "4          Malaysia    2014.0  ...    12.7  ASEAN Secretariat\n",
              "5            Myanmar      NaN  ...     NaN  ASEAN Secretariat\n",
              "6        Philippines   2014.0  ...     0.5  ASEAN Secretariat\n",
              "7          Singapore   2014.0  ...    11.3  ASEAN Secretariat\n",
              "8           Thailand   2014.0  ...    10.2  ASEAN Secretariat\n",
              "9           Viet Nam   2014.0  ...    40.3  ASEAN Secretariat\n",
              "\n",
              "[10 rows x 10 columns]"
            ]
          },
          "metadata": {
            "tags": []
          },
          "execution_count": 3
        }
      ]
    },
    {
      "cell_type": "code",
      "metadata": {
        "colab": {
          "base_uri": "https://localhost:8080/"
        },
        "id": "_jvmKv8I9Pg5",
        "outputId": "c79d30a1-3254-437f-c10f-41d91f018bfa"
      },
      "source": [
        "data_job.columns"
      ],
      "execution_count": null,
      "outputs": [
        {
          "output_type": "execute_result",
          "data": {
            "text/plain": [
              "Index(['Countries', 'Year(s)', 'Professionals, technical and related workers',\n",
              "       'Administrative, executive and managerial workers',\n",
              "       'Clerical and related workers', 'Sales workers and services workers',\n",
              "       'Agricultural, animal husbandry and forestry workers; fishermen and hunters ',\n",
              "       'Production and related workers, transport equipment operators and labourers',\n",
              "       'Others', 'Source'],\n",
              "      dtype='object')"
            ]
          },
          "metadata": {
            "tags": []
          },
          "execution_count": 4
        }
      ]
    },
    {
      "cell_type": "code",
      "metadata": {
        "id": "jopfjwY2A40l"
      },
      "source": [
        "data_job.drop('Source', axis=1, inplace=True)\n",
        "data_job.drop('Year(s)', axis=1, inplace=True)"
      ],
      "execution_count": null,
      "outputs": []
    },
    {
      "cell_type": "code",
      "metadata": {
        "colab": {
          "base_uri": "https://localhost:8080/",
          "height": 405
        },
        "id": "_owL4FsUQion",
        "outputId": "284648a7-0af1-46a0-f830-8c53f6d78938"
      },
      "source": [
        "data_job"
      ],
      "execution_count": null,
      "outputs": [
        {
          "output_type": "execute_result",
          "data": {
            "text/html": [
              "<div>\n",
              "<style scoped>\n",
              "    .dataframe tbody tr th:only-of-type {\n",
              "        vertical-align: middle;\n",
              "    }\n",
              "\n",
              "    .dataframe tbody tr th {\n",
              "        vertical-align: top;\n",
              "    }\n",
              "\n",
              "    .dataframe thead th {\n",
              "        text-align: right;\n",
              "    }\n",
              "</style>\n",
              "<table border=\"1\" class=\"dataframe\">\n",
              "  <thead>\n",
              "    <tr style=\"text-align: right;\">\n",
              "      <th></th>\n",
              "      <th>Countries</th>\n",
              "      <th>Professionals, technical and related workers</th>\n",
              "      <th>Administrative, executive and managerial workers</th>\n",
              "      <th>Clerical and related workers</th>\n",
              "      <th>Sales workers and services workers</th>\n",
              "      <th>Agricultural, animal husbandry and forestry workers; fishermen and hunters</th>\n",
              "      <th>Production and related workers, transport equipment operators and labourers</th>\n",
              "      <th>Others</th>\n",
              "    </tr>\n",
              "  </thead>\n",
              "  <tbody>\n",
              "    <tr>\n",
              "      <th>0</th>\n",
              "      <td>Brunei Darussalam</td>\n",
              "      <td>33.2</td>\n",
              "      <td>7.6</td>\n",
              "      <td>11.4</td>\n",
              "      <td>19.5</td>\n",
              "      <td>1.4</td>\n",
              "      <td>13.0</td>\n",
              "      <td>13.9</td>\n",
              "    </tr>\n",
              "    <tr>\n",
              "      <th>1</th>\n",
              "      <td>Cambodia</td>\n",
              "      <td>3.7</td>\n",
              "      <td>0.8</td>\n",
              "      <td>3.9</td>\n",
              "      <td>15.3</td>\n",
              "      <td>58.1</td>\n",
              "      <td>17.3</td>\n",
              "      <td>0.9</td>\n",
              "    </tr>\n",
              "    <tr>\n",
              "      <th>2</th>\n",
              "      <td>Indonesia</td>\n",
              "      <td>3.9</td>\n",
              "      <td>0.3</td>\n",
              "      <td>4.9</td>\n",
              "      <td>23.6</td>\n",
              "      <td>43.0</td>\n",
              "      <td>24.0</td>\n",
              "      <td>0.3</td>\n",
              "    </tr>\n",
              "    <tr>\n",
              "      <th>3</th>\n",
              "      <td>Lao's PDR</td>\n",
              "      <td>NaN</td>\n",
              "      <td>NaN</td>\n",
              "      <td>NaN</td>\n",
              "      <td>NaN</td>\n",
              "      <td>NaN</td>\n",
              "      <td>NaN</td>\n",
              "      <td>NaN</td>\n",
              "    </tr>\n",
              "    <tr>\n",
              "      <th>4</th>\n",
              "      <td>Malaysia</td>\n",
              "      <td>20.3</td>\n",
              "      <td>4.9</td>\n",
              "      <td>9.1</td>\n",
              "      <td>23.0</td>\n",
              "      <td>7.2</td>\n",
              "      <td>22.8</td>\n",
              "      <td>12.7</td>\n",
              "    </tr>\n",
              "    <tr>\n",
              "      <th>5</th>\n",
              "      <td>Myanmar</td>\n",
              "      <td>NaN</td>\n",
              "      <td>NaN</td>\n",
              "      <td>NaN</td>\n",
              "      <td>NaN</td>\n",
              "      <td>NaN</td>\n",
              "      <td>NaN</td>\n",
              "      <td>NaN</td>\n",
              "    </tr>\n",
              "    <tr>\n",
              "      <th>6</th>\n",
              "      <td>Philippines</td>\n",
              "      <td>7.5</td>\n",
              "      <td>15.8</td>\n",
              "      <td>6.2</td>\n",
              "      <td>19.3</td>\n",
              "      <td>13.6</td>\n",
              "      <td>37.1</td>\n",
              "      <td>0.5</td>\n",
              "    </tr>\n",
              "    <tr>\n",
              "      <th>7</th>\n",
              "      <td>Singapore</td>\n",
              "      <td>36.8</td>\n",
              "      <td>16.3</td>\n",
              "      <td>12.6</td>\n",
              "      <td>12.2</td>\n",
              "      <td>NaN</td>\n",
              "      <td>10.9</td>\n",
              "      <td>11.3</td>\n",
              "    </tr>\n",
              "    <tr>\n",
              "      <th>8</th>\n",
              "      <td>Thailand</td>\n",
              "      <td>10.3</td>\n",
              "      <td>3.7</td>\n",
              "      <td>3.9</td>\n",
              "      <td>18.9</td>\n",
              "      <td>31.7</td>\n",
              "      <td>21.2</td>\n",
              "      <td>10.2</td>\n",
              "    </tr>\n",
              "    <tr>\n",
              "      <th>9</th>\n",
              "      <td>Viet Nam</td>\n",
              "      <td>9.2</td>\n",
              "      <td>1.1</td>\n",
              "      <td>1.7</td>\n",
              "      <td>16.1</td>\n",
              "      <td>12.2</td>\n",
              "      <td>19.3</td>\n",
              "      <td>40.3</td>\n",
              "    </tr>\n",
              "  </tbody>\n",
              "</table>\n",
              "</div>"
            ],
            "text/plain": [
              "           Countries  ...  Others\n",
              "0  Brunei Darussalam  ...    13.9\n",
              "1           Cambodia  ...     0.9\n",
              "2         Indonesia   ...     0.3\n",
              "3          Lao's PDR  ...     NaN\n",
              "4          Malaysia   ...    12.7\n",
              "5            Myanmar  ...     NaN\n",
              "6        Philippines  ...     0.5\n",
              "7          Singapore  ...    11.3\n",
              "8           Thailand  ...    10.2\n",
              "9           Viet Nam  ...    40.3\n",
              "\n",
              "[10 rows x 8 columns]"
            ]
          },
          "metadata": {
            "tags": []
          },
          "execution_count": 6
        }
      ]
    },
    {
      "cell_type": "code",
      "metadata": {
        "colab": {
          "base_uri": "https://localhost:8080/"
        },
        "id": "YoTuH6rKRaO7",
        "outputId": "62134ef2-178b-4ba7-d4f2-8bae637b83ca"
      },
      "source": [
        "#Melihat tipe data dari masing masing-masing variabel\n",
        "data_job.dtypes"
      ],
      "execution_count": null,
      "outputs": [
        {
          "output_type": "execute_result",
          "data": {
            "text/plain": [
              "Countries                                                                       object\n",
              "Professionals, technical and related workers                                   float64\n",
              "Administrative, executive and managerial workers                               float64\n",
              "Clerical and related workers                                                   float64\n",
              "Sales workers and services workers                                             float64\n",
              "Agricultural, animal husbandry and forestry workers; fishermen and hunters     float64\n",
              "Production and related workers, transport equipment operators and labourers    float64\n",
              "Others                                                                         float64\n",
              "dtype: object"
            ]
          },
          "metadata": {
            "tags": []
          },
          "execution_count": 7
        }
      ]
    },
    {
      "cell_type": "code",
      "metadata": {
        "colab": {
          "base_uri": "https://localhost:8080/"
        },
        "id": "bbumIHSuRvGf",
        "outputId": "b9f4a7c7-f5a7-410f-f111-589e6b12fb14"
      },
      "source": [
        "#Untuk mengetahui berapa banyak Missing Values di masing-masing variabel\n",
        "print(data_job.isnull().sum())"
      ],
      "execution_count": null,
      "outputs": [
        {
          "output_type": "stream",
          "text": [
            "Countries                                                                      0\n",
            "Professionals, technical and related workers                                   2\n",
            "Administrative, executive and managerial workers                               2\n",
            "Clerical and related workers                                                   2\n",
            "Sales workers and services workers                                             2\n",
            "Agricultural, animal husbandry and forestry workers; fishermen and hunters     3\n",
            "Production and related workers, transport equipment operators and labourers    2\n",
            "Others                                                                         2\n",
            "dtype: int64\n"
          ],
          "name": "stdout"
        }
      ]
    },
    {
      "cell_type": "markdown",
      "metadata": {
        "id": "GUsqhopjSh3q"
      },
      "source": [
        "### Mengimputasi missing value dengan median dan mean"
      ]
    },
    {
      "cell_type": "code",
      "metadata": {
        "id": "TijRu9tgSLIO"
      },
      "source": [
        "data_job['Professionals, technical and related workers'].fillna(data_job['Professionals, technical and related workers'].mean(),inplace=True)\n",
        "data_job['Administrative, executive and managerial workers'].fillna(data_job['Administrative, executive and managerial workers'].mean(),inplace=True)\n",
        "data_job['Clerical and related workers'].fillna(data_job['Clerical and related workers'].mean(),inplace=True)\n",
        "data_job['Sales workers and services workers'].fillna(data_job['Sales workers and services workers'].mean(),inplace=True)\n",
        "data_job['Agricultural, animal husbandry and forestry workers; fishermen and hunters '].fillna(data_job['Agricultural, animal husbandry and forestry workers; fishermen and hunters '].mean(),inplace=True)\n",
        "data_job['Production and related workers, transport equipment operators and labourers'].fillna(data_job['Production and related workers, transport equipment operators and labourers'].mean(),inplace=True)\n",
        "data_job['Others'].fillna(data_job['Others'].median(),inplace=True)"
      ],
      "execution_count": null,
      "outputs": []
    },
    {
      "cell_type": "markdown",
      "metadata": {
        "id": "ThHD8ylKUG8i"
      },
      "source": [
        "Mengimputasi missing value dapat dilakukan dengan berbagai cara, salah satunya dengan ***univariate imputation*** dengan menggunakan median, mean maupun modus. Data missing value yang diimputasi dengan menggunakan median maupun meann dikarenakan data numerik. Data yang berdistribusi skewed ke kiri maupun kanan diimputasi dengan menggunakan median, sedangkan sisanya diimputasi menggunakan mean."
      ]
    },
    {
      "cell_type": "code",
      "metadata": {
        "colab": {
          "base_uri": "https://localhost:8080/",
          "height": 284
        },
        "id": "Oqmc5NZtRjjl",
        "outputId": "3f1721e8-9483-4a97-d4e7-400279e849cd"
      },
      "source": [
        "p = sns.distplot(data_job['Others'], kde=True, rug=True)"
      ],
      "execution_count": null,
      "outputs": [
        {
          "output_type": "display_data",
          "data": {
            "image/png": "[encoded data removed]",
            "text/plain": [
              "<Figure size 432x288 with 1 Axes>"
            ]
          },
          "metadata": {
            "tags": [],
            "needs_background": "light"
          }
        }
      ]
    },
    {
      "cell_type": "code",
      "metadata": {
        "colab": {
          "base_uri": "https://localhost:8080/",
          "height": 405
        },
        "id": "dz67iv5nV0z8",
        "outputId": "dd397d3d-99ea-4974-d6b0-69122400fb70"
      },
      "source": [
        "data_job"
      ],
      "execution_count": null,
      "outputs": [
        {
          "output_type": "execute_result",
          "data": {
            "text/html": [
              "<div>\n",
              "<style scoped>\n",
              "    .dataframe tbody tr th:only-of-type {\n",
              "        vertical-align: middle;\n",
              "    }\n",
              "\n",
              "    .dataframe tbody tr th {\n",
              "        vertical-align: top;\n",
              "    }\n",
              "\n",
              "    .dataframe thead th {\n",
              "        text-align: right;\n",
              "    }\n",
              "</style>\n",
              "<table border=\"1\" class=\"dataframe\">\n",
              "  <thead>\n",
              "    <tr style=\"text-align: right;\">\n",
              "      <th></th>\n",
              "      <th>Countries</th>\n",
              "      <th>Professionals, technical and related workers</th>\n",
              "      <th>Administrative, executive and managerial workers</th>\n",
              "      <th>Clerical and related workers</th>\n",
              "      <th>Sales workers and services workers</th>\n",
              "      <th>Agricultural, animal husbandry and forestry workers; fishermen and hunters</th>\n",
              "      <th>Production and related workers, transport equipment operators and labourers</th>\n",
              "      <th>Others</th>\n",
              "    </tr>\n",
              "  </thead>\n",
              "  <tbody>\n",
              "    <tr>\n",
              "      <th>0</th>\n",
              "      <td>Brunei Darussalam</td>\n",
              "      <td>33.2000</td>\n",
              "      <td>7.6000</td>\n",
              "      <td>11.4000</td>\n",
              "      <td>19.5000</td>\n",
              "      <td>1.400000</td>\n",
              "      <td>13.0</td>\n",
              "      <td>13.90</td>\n",
              "    </tr>\n",
              "    <tr>\n",
              "      <th>1</th>\n",
              "      <td>Cambodia</td>\n",
              "      <td>3.7000</td>\n",
              "      <td>0.8000</td>\n",
              "      <td>3.9000</td>\n",
              "      <td>15.3000</td>\n",
              "      <td>58.100000</td>\n",
              "      <td>17.3</td>\n",
              "      <td>0.90</td>\n",
              "    </tr>\n",
              "    <tr>\n",
              "      <th>2</th>\n",
              "      <td>Indonesia</td>\n",
              "      <td>3.9000</td>\n",
              "      <td>0.3000</td>\n",
              "      <td>4.9000</td>\n",
              "      <td>23.6000</td>\n",
              "      <td>43.000000</td>\n",
              "      <td>24.0</td>\n",
              "      <td>0.30</td>\n",
              "    </tr>\n",
              "    <tr>\n",
              "      <th>3</th>\n",
              "      <td>Lao's PDR</td>\n",
              "      <td>15.6125</td>\n",
              "      <td>6.3125</td>\n",
              "      <td>6.7125</td>\n",
              "      <td>18.4875</td>\n",
              "      <td>23.885714</td>\n",
              "      <td>20.7</td>\n",
              "      <td>10.75</td>\n",
              "    </tr>\n",
              "    <tr>\n",
              "      <th>4</th>\n",
              "      <td>Malaysia</td>\n",
              "      <td>20.3000</td>\n",
              "      <td>4.9000</td>\n",
              "      <td>9.1000</td>\n",
              "      <td>23.0000</td>\n",
              "      <td>7.200000</td>\n",
              "      <td>22.8</td>\n",
              "      <td>12.70</td>\n",
              "    </tr>\n",
              "    <tr>\n",
              "      <th>5</th>\n",
              "      <td>Myanmar</td>\n",
              "      <td>15.6125</td>\n",
              "      <td>6.3125</td>\n",
              "      <td>6.7125</td>\n",
              "      <td>18.4875</td>\n",
              "      <td>23.885714</td>\n",
              "      <td>20.7</td>\n",
              "      <td>10.75</td>\n",
              "    </tr>\n",
              "    <tr>\n",
              "      <th>6</th>\n",
              "      <td>Philippines</td>\n",
              "      <td>7.5000</td>\n",
              "      <td>15.8000</td>\n",
              "      <td>6.2000</td>\n",
              "      <td>19.3000</td>\n",
              "      <td>13.600000</td>\n",
              "      <td>37.1</td>\n",
              "      <td>0.50</td>\n",
              "    </tr>\n",
              "    <tr>\n",
              "      <th>7</th>\n",
              "      <td>Singapore</td>\n",
              "      <td>36.8000</td>\n",
              "      <td>16.3000</td>\n",
              "      <td>12.6000</td>\n",
              "      <td>12.2000</td>\n",
              "      <td>23.885714</td>\n",
              "      <td>10.9</td>\n",
              "      <td>11.30</td>\n",
              "    </tr>\n",
              "    <tr>\n",
              "      <th>8</th>\n",
              "      <td>Thailand</td>\n",
              "      <td>10.3000</td>\n",
              "      <td>3.7000</td>\n",
              "      <td>3.9000</td>\n",
              "      <td>18.9000</td>\n",
              "      <td>31.700000</td>\n",
              "      <td>21.2</td>\n",
              "      <td>10.20</td>\n",
              "    </tr>\n",
              "    <tr>\n",
              "      <th>9</th>\n",
              "      <td>Viet Nam</td>\n",
              "      <td>9.2000</td>\n",
              "      <td>1.1000</td>\n",
              "      <td>1.7000</td>\n",
              "      <td>16.1000</td>\n",
              "      <td>12.200000</td>\n",
              "      <td>19.3</td>\n",
              "      <td>40.30</td>\n",
              "    </tr>\n",
              "  </tbody>\n",
              "</table>\n",
              "</div>"
            ],
            "text/plain": [
              "           Countries  ...  Others\n",
              "0  Brunei Darussalam  ...   13.90\n",
              "1           Cambodia  ...    0.90\n",
              "2         Indonesia   ...    0.30\n",
              "3          Lao's PDR  ...   10.75\n",
              "4          Malaysia   ...   12.70\n",
              "5            Myanmar  ...   10.75\n",
              "6        Philippines  ...    0.50\n",
              "7          Singapore  ...   11.30\n",
              "8           Thailand  ...   10.20\n",
              "9           Viet Nam  ...   40.30\n",
              "\n",
              "[10 rows x 8 columns]"
            ]
          },
          "metadata": {
            "tags": []
          },
          "execution_count": 11
        }
      ]
    },
    {
      "cell_type": "code",
      "metadata": {
        "id": "UJHHuMV1WRFH"
      },
      "source": [
        "#Menambahkan Variabel Tahun\n",
        "data_job['Tahun']='2014','2014','1999','2014','2014','2014','2014','2014','2014','2014'"
      ],
      "execution_count": null,
      "outputs": []
    },
    {
      "cell_type": "code",
      "metadata": {
        "id": "2VMpdoxjYBZm"
      },
      "source": [
        "#Mengubah letak kolom \n",
        "cols = data_job.columns.tolist()"
      ],
      "execution_count": null,
      "outputs": []
    },
    {
      "cell_type": "code",
      "metadata": {
        "id": "HvlIZZKwbWSc"
      },
      "source": [
        "cols = cols[-1:] + cols[:-1]"
      ],
      "execution_count": null,
      "outputs": []
    },
    {
      "cell_type": "code",
      "metadata": {
        "colab": {
          "base_uri": "https://localhost:8080/"
        },
        "id": "TOWvDn_WbYbo",
        "outputId": "7eae7c0c-048b-41ce-ddaf-3e7702e49412"
      },
      "source": [
        "cols"
      ],
      "execution_count": null,
      "outputs": [
        {
          "output_type": "execute_result",
          "data": {
            "text/plain": [
              "['Tahun',\n",
              " 'Countries',\n",
              " 'Professionals, technical and related workers',\n",
              " 'Administrative, executive and managerial workers',\n",
              " 'Clerical and related workers',\n",
              " 'Sales workers and services workers',\n",
              " 'Agricultural, animal husbandry and forestry workers; fishermen and hunters ',\n",
              " 'Production and related workers, transport equipment operators and labourers',\n",
              " 'Others']"
            ]
          },
          "metadata": {
            "tags": []
          },
          "execution_count": 15
        }
      ]
    },
    {
      "cell_type": "code",
      "metadata": {
        "id": "J_sj6oA1YphP"
      },
      "source": [
        "#Dimasukan kedalam variabel data_job\n",
        "data_job = data_job[cols]"
      ],
      "execution_count": null,
      "outputs": []
    },
    {
      "cell_type": "code",
      "metadata": {
        "colab": {
          "base_uri": "https://localhost:8080/",
          "height": 422
        },
        "id": "A5YAHpaJbLpW",
        "outputId": "485c270b-a8f1-40dc-f939-94ffb7e3e6db"
      },
      "source": [
        "data_job"
      ],
      "execution_count": null,
      "outputs": [
        {
          "output_type": "execute_result",
          "data": {
            "text/html": [
              "<div>\n",
              "<style scoped>\n",
              "    .dataframe tbody tr th:only-of-type {\n",
              "        vertical-align: middle;\n",
              "    }\n",
              "\n",
              "    .dataframe tbody tr th {\n",
              "        vertical-align: top;\n",
              "    }\n",
              "\n",
              "    .dataframe thead th {\n",
              "        text-align: right;\n",
              "    }\n",
              "</style>\n",
              "<table border=\"1\" class=\"dataframe\">\n",
              "  <thead>\n",
              "    <tr style=\"text-align: right;\">\n",
              "      <th></th>\n",
              "      <th>Tahun</th>\n",
              "      <th>Countries</th>\n",
              "      <th>Professionals, technical and related workers</th>\n",
              "      <th>Administrative, executive and managerial workers</th>\n",
              "      <th>Clerical and related workers</th>\n",
              "      <th>Sales workers and services workers</th>\n",
              "      <th>Agricultural, animal husbandry and forestry workers; fishermen and hunters</th>\n",
              "      <th>Production and related workers, transport equipment operators and labourers</th>\n",
              "      <th>Others</th>\n",
              "    </tr>\n",
              "  </thead>\n",
              "  <tbody>\n",
              "    <tr>\n",
              "      <th>0</th>\n",
              "      <td>2014</td>\n",
              "      <td>Brunei Darussalam</td>\n",
              "      <td>33.2000</td>\n",
              "      <td>7.6000</td>\n",
              "      <td>11.4000</td>\n",
              "      <td>19.5000</td>\n",
              "      <td>1.400000</td>\n",
              "      <td>13.0</td>\n",
              "      <td>13.90</td>\n",
              "    </tr>\n",
              "    <tr>\n",
              "      <th>1</th>\n",
              "      <td>2014</td>\n",
              "      <td>Cambodia</td>\n",
              "      <td>3.7000</td>\n",
              "      <td>0.8000</td>\n",
              "      <td>3.9000</td>\n",
              "      <td>15.3000</td>\n",
              "      <td>58.100000</td>\n",
              "      <td>17.3</td>\n",
              "      <td>0.90</td>\n",
              "    </tr>\n",
              "    <tr>\n",
              "      <th>2</th>\n",
              "      <td>1999</td>\n",
              "      <td>Indonesia</td>\n",
              "      <td>3.9000</td>\n",
              "      <td>0.3000</td>\n",
              "      <td>4.9000</td>\n",
              "      <td>23.6000</td>\n",
              "      <td>43.000000</td>\n",
              "      <td>24.0</td>\n",
              "      <td>0.30</td>\n",
              "    </tr>\n",
              "    <tr>\n",
              "      <th>3</th>\n",
              "      <td>2014</td>\n",
              "      <td>Lao's PDR</td>\n",
              "      <td>15.6125</td>\n",
              "      <td>6.3125</td>\n",
              "      <td>6.7125</td>\n",
              "      <td>18.4875</td>\n",
              "      <td>23.885714</td>\n",
              "      <td>20.7</td>\n",
              "      <td>10.75</td>\n",
              "    </tr>\n",
              "    <tr>\n",
              "      <th>4</th>\n",
              "      <td>2014</td>\n",
              "      <td>Malaysia</td>\n",
              "      <td>20.3000</td>\n",
              "      <td>4.9000</td>\n",
              "      <td>9.1000</td>\n",
              "      <td>23.0000</td>\n",
              "      <td>7.200000</td>\n",
              "      <td>22.8</td>\n",
              "      <td>12.70</td>\n",
              "    </tr>\n",
              "    <tr>\n",
              "      <th>5</th>\n",
              "      <td>2014</td>\n",
              "      <td>Myanmar</td>\n",
              "      <td>15.6125</td>\n",
              "      <td>6.3125</td>\n",
              "      <td>6.7125</td>\n",
              "      <td>18.4875</td>\n",
              "      <td>23.885714</td>\n",
              "      <td>20.7</td>\n",
              "      <td>10.75</td>\n",
              "    </tr>\n",
              "    <tr>\n",
              "      <th>6</th>\n",
              "      <td>2014</td>\n",
              "      <td>Philippines</td>\n",
              "      <td>7.5000</td>\n",
              "      <td>15.8000</td>\n",
              "      <td>6.2000</td>\n",
              "      <td>19.3000</td>\n",
              "      <td>13.600000</td>\n",
              "      <td>37.1</td>\n",
              "      <td>0.50</td>\n",
              "    </tr>\n",
              "    <tr>\n",
              "      <th>7</th>\n",
              "      <td>2014</td>\n",
              "      <td>Singapore</td>\n",
              "      <td>36.8000</td>\n",
              "      <td>16.3000</td>\n",
              "      <td>12.6000</td>\n",
              "      <td>12.2000</td>\n",
              "      <td>23.885714</td>\n",
              "      <td>10.9</td>\n",
              "      <td>11.30</td>\n",
              "    </tr>\n",
              "    <tr>\n",
              "      <th>8</th>\n",
              "      <td>2014</td>\n",
              "      <td>Thailand</td>\n",
              "      <td>10.3000</td>\n",
              "      <td>3.7000</td>\n",
              "      <td>3.9000</td>\n",
              "      <td>18.9000</td>\n",
              "      <td>31.700000</td>\n",
              "      <td>21.2</td>\n",
              "      <td>10.20</td>\n",
              "    </tr>\n",
              "    <tr>\n",
              "      <th>9</th>\n",
              "      <td>2014</td>\n",
              "      <td>Viet Nam</td>\n",
              "      <td>9.2000</td>\n",
              "      <td>1.1000</td>\n",
              "      <td>1.7000</td>\n",
              "      <td>16.1000</td>\n",
              "      <td>12.200000</td>\n",
              "      <td>19.3</td>\n",
              "      <td>40.30</td>\n",
              "    </tr>\n",
              "  </tbody>\n",
              "</table>\n",
              "</div>"
            ],
            "text/plain": [
              "  Tahun  ... Others\n",
              "0  2014  ...  13.90\n",
              "1  2014  ...   0.90\n",
              "2  1999  ...   0.30\n",
              "3  2014  ...  10.75\n",
              "4  2014  ...  12.70\n",
              "5  2014  ...  10.75\n",
              "6  2014  ...   0.50\n",
              "7  2014  ...  11.30\n",
              "8  2014  ...  10.20\n",
              "9  2014  ...  40.30\n",
              "\n",
              "[10 rows x 9 columns]"
            ]
          },
          "metadata": {
            "tags": []
          },
          "execution_count": 17
        }
      ]
    },
    {
      "cell_type": "code",
      "metadata": {
        "id": "NrDX5aNCZJWq"
      },
      "source": [
        "#Mengubah tipe data variabel Tahun\n",
        "data_job['Tahun']=data_job['Tahun'].astype('datetime64')"
      ],
      "execution_count": null,
      "outputs": []
    },
    {
      "cell_type": "code",
      "metadata": {
        "id": "XPsjB9AsfSEo"
      },
      "source": [
        "#Menjadikan variabel 'Tahun' menjadi index pada dataset ini\n",
        "data_job= data_job.set_index(['Tahun'])"
      ],
      "execution_count": null,
      "outputs": []
    },
    {
      "cell_type": "code",
      "metadata": {
        "id": "5YH-vQx6c5EB"
      },
      "source": [
        "data_job=data_job.sort_values(by='Tahun')"
      ],
      "execution_count": null,
      "outputs": []
    },
    {
      "cell_type": "code",
      "metadata": {
        "colab": {
          "base_uri": "https://localhost:8080/",
          "height": 602
        },
        "id": "umvTHqC0e4uF",
        "outputId": "c4567e93-5ab4-4c86-943c-a1de2b1071d8"
      },
      "source": [
        "data_job"
      ],
      "execution_count": null,
      "outputs": [
        {
          "output_type": "execute_result",
          "data": {
            "text/html": [
              "<div>\n",
              "<style scoped>\n",
              "    .dataframe tbody tr th:only-of-type {\n",
              "        vertical-align: middle;\n",
              "    }\n",
              "\n",
              "    .dataframe tbody tr th {\n",
              "        vertical-align: top;\n",
              "    }\n",
              "\n",
              "    .dataframe thead th {\n",
              "        text-align: right;\n",
              "    }\n",
              "</style>\n",
              "<table border=\"1\" class=\"dataframe\">\n",
              "  <thead>\n",
              "    <tr style=\"text-align: right;\">\n",
              "      <th></th>\n",
              "      <th>Countries</th>\n",
              "      <th>Professionals, technical and related workers</th>\n",
              "      <th>Administrative, executive and managerial workers</th>\n",
              "      <th>Clerical and related workers</th>\n",
              "      <th>Sales workers and services workers</th>\n",
              "      <th>Agricultural, animal husbandry and forestry workers; fishermen and hunters</th>\n",
              "      <th>Production and related workers, transport equipment operators and labourers</th>\n",
              "      <th>Others</th>\n",
              "    </tr>\n",
              "    <tr>\n",
              "      <th>Tahun</th>\n",
              "      <th></th>\n",
              "      <th></th>\n",
              "      <th></th>\n",
              "      <th></th>\n",
              "      <th></th>\n",
              "      <th></th>\n",
              "      <th></th>\n",
              "      <th></th>\n",
              "    </tr>\n",
              "  </thead>\n",
              "  <tbody>\n",
              "    <tr>\n",
              "      <th>1999-01-01</th>\n",
              "      <td>Indonesia</td>\n",
              "      <td>3.9000</td>\n",
              "      <td>0.3000</td>\n",
              "      <td>4.9000</td>\n",
              "      <td>23.6000</td>\n",
              "      <td>43.000000</td>\n",
              "      <td>24.0</td>\n",
              "      <td>0.30</td>\n",
              "    </tr>\n",
              "    <tr>\n",
              "      <th>2014-01-01</th>\n",
              "      <td>Brunei Darussalam</td>\n",
              "      <td>33.2000</td>\n",
              "      <td>7.6000</td>\n",
              "      <td>11.4000</td>\n",
              "      <td>19.5000</td>\n",
              "      <td>1.400000</td>\n",
              "      <td>13.0</td>\n",
              "      <td>13.90</td>\n",
              "    </tr>\n",
              "    <tr>\n",
              "      <th>2014-01-01</th>\n",
              "      <td>Cambodia</td>\n",
              "      <td>3.7000</td>\n",
              "      <td>0.8000</td>\n",
              "      <td>3.9000</td>\n",
              "      <td>15.3000</td>\n",
              "      <td>58.100000</td>\n",
              "      <td>17.3</td>\n",
              "      <td>0.90</td>\n",
              "    </tr>\n",
              "    <tr>\n",
              "      <th>2014-01-01</th>\n",
              "      <td>Lao's PDR</td>\n",
              "      <td>15.6125</td>\n",
              "      <td>6.3125</td>\n",
              "      <td>6.7125</td>\n",
              "      <td>18.4875</td>\n",
              "      <td>23.885714</td>\n",
              "      <td>20.7</td>\n",
              "      <td>10.75</td>\n",
              "    </tr>\n",
              "    <tr>\n",
              "      <th>2014-01-01</th>\n",
              "      <td>Malaysia</td>\n",
              "      <td>20.3000</td>\n",
              "      <td>4.9000</td>\n",
              "      <td>9.1000</td>\n",
              "      <td>23.0000</td>\n",
              "      <td>7.200000</td>\n",
              "      <td>22.8</td>\n",
              "      <td>12.70</td>\n",
              "    </tr>\n",
              "    <tr>\n",
              "      <th>2014-01-01</th>\n",
              "      <td>Myanmar</td>\n",
              "      <td>15.6125</td>\n",
              "      <td>6.3125</td>\n",
              "      <td>6.7125</td>\n",
              "      <td>18.4875</td>\n",
              "      <td>23.885714</td>\n",
              "      <td>20.7</td>\n",
              "      <td>10.75</td>\n",
              "    </tr>\n",
              "    <tr>\n",
              "      <th>2014-01-01</th>\n",
              "      <td>Philippines</td>\n",
              "      <td>7.5000</td>\n",
              "      <td>15.8000</td>\n",
              "      <td>6.2000</td>\n",
              "      <td>19.3000</td>\n",
              "      <td>13.600000</td>\n",
              "      <td>37.1</td>\n",
              "      <td>0.50</td>\n",
              "    </tr>\n",
              "    <tr>\n",
              "      <th>2014-01-01</th>\n",
              "      <td>Singapore</td>\n",
              "      <td>36.8000</td>\n",
              "      <td>16.3000</td>\n",
              "      <td>12.6000</td>\n",
              "      <td>12.2000</td>\n",
              "      <td>23.885714</td>\n",
              "      <td>10.9</td>\n",
              "      <td>11.30</td>\n",
              "    </tr>\n",
              "    <tr>\n",
              "      <th>2014-01-01</th>\n",
              "      <td>Thailand</td>\n",
              "      <td>10.3000</td>\n",
              "      <td>3.7000</td>\n",
              "      <td>3.9000</td>\n",
              "      <td>18.9000</td>\n",
              "      <td>31.700000</td>\n",
              "      <td>21.2</td>\n",
              "      <td>10.20</td>\n",
              "    </tr>\n",
              "    <tr>\n",
              "      <th>2014-01-01</th>\n",
              "      <td>Viet Nam</td>\n",
              "      <td>9.2000</td>\n",
              "      <td>1.1000</td>\n",
              "      <td>1.7000</td>\n",
              "      <td>16.1000</td>\n",
              "      <td>12.200000</td>\n",
              "      <td>19.3</td>\n",
              "      <td>40.30</td>\n",
              "    </tr>\n",
              "  </tbody>\n",
              "</table>\n",
              "</div>"
            ],
            "text/plain": [
              "                    Countries  ...  Others\n",
              "Tahun                          ...        \n",
              "1999-01-01         Indonesia   ...    0.30\n",
              "2014-01-01  Brunei Darussalam  ...   13.90\n",
              "2014-01-01           Cambodia  ...    0.90\n",
              "2014-01-01          Lao's PDR  ...   10.75\n",
              "2014-01-01          Malaysia   ...   12.70\n",
              "2014-01-01            Myanmar  ...   10.75\n",
              "2014-01-01        Philippines  ...    0.50\n",
              "2014-01-01          Singapore  ...   11.30\n",
              "2014-01-01           Thailand  ...   10.20\n",
              "2014-01-01           Viet Nam  ...   40.30\n",
              "\n",
              "[10 rows x 8 columns]"
            ]
          },
          "metadata": {
            "tags": []
          },
          "execution_count": 21
        }
      ]
    },
    {
      "cell_type": "code",
      "metadata": {
        "colab": {
          "base_uri": "https://localhost:8080/"
        },
        "id": "2yEsLlfOcRJN",
        "outputId": "99700102-97cf-4ec8-b45c-a29b55650c77"
      },
      "source": [
        "data_job.dtypes"
      ],
      "execution_count": null,
      "outputs": [
        {
          "output_type": "execute_result",
          "data": {
            "text/plain": [
              "Countries                                                                       object\n",
              "Professionals, technical and related workers                                   float64\n",
              "Administrative, executive and managerial workers                               float64\n",
              "Clerical and related workers                                                   float64\n",
              "Sales workers and services workers                                             float64\n",
              "Agricultural, animal husbandry and forestry workers; fishermen and hunters     float64\n",
              "Production and related workers, transport equipment operators and labourers    float64\n",
              "Others                                                                         float64\n",
              "dtype: object"
            ]
          },
          "metadata": {
            "tags": []
          },
          "execution_count": 22
        }
      ]
    },
    {
      "cell_type": "code",
      "metadata": {
        "colab": {
          "base_uri": "https://localhost:8080/",
          "height": 308
        },
        "id": "2ydzRU2Pi9y5",
        "outputId": "1e060b55-0da3-4596-872b-3b49ade95e97"
      },
      "source": [
        "plt.figure( figsize=(20,4))\n",
        "plot = sns.lineplot(x=\"Countries\", y=\"Professionals, technical and related workers\", data=data_job, hue='Tahun')"
      ],
      "execution_count": null,
      "outputs": [
        {
          "output_type": "display_data",
          "data": {
            "image/png": "[encoded data removed]",
            "text/plain": [
              "<Figure size 1440x288 with 1 Axes>"
            ]
          },
          "metadata": {
            "tags": [],
            "needs_background": "light"
          }
        }
      ]
    },
    {
      "cell_type": "code",
      "metadata": {
        "colab": {
          "base_uri": "https://localhost:8080/",
          "height": 334
        },
        "id": "lOL_19xahVnM",
        "outputId": "9fb18a67-f888-4e44-8366-a11aa8089780"
      },
      "source": [
        "plt.figure( figsize=(20,4))\n",
        "plot = sns.lineplot(x=\"Countries\", y=\"Administrative, executive and managerial workers\", data=data_job, hue='Tahun')"
      ],
      "execution_count": null,
      "outputs": [
        {
          "output_type": "display_data",
          "data": {
            "image/png": "[encoded data removed]",
            "text/plain": [
              "<Figure size 1440x288 with 1 Axes>"
            ]
          },
          "metadata": {
            "tags": [],
            "needs_background": "light"
          }
        }
      ]
    },
    {
      "cell_type": "code",
      "metadata": {
        "colab": {
          "base_uri": "https://localhost:8080/",
          "height": 284
        },
        "id": "xHuNjjwsj6mH",
        "outputId": "56606375-4d73-4ba5-b6aa-a19814dbf12e"
      },
      "source": [
        "plt.figure( figsize=(20,4))\n",
        "plot = sns.lineplot(x=\"Countries\", y=\"Clerical and related workers\", data=data_job, hue='Tahun')"
      ],
      "execution_count": null,
      "outputs": [
        {
          "output_type": "display_data",
          "data": {
            "image/png": "[encoded data removed]",
            "text/plain": [
              "<Figure size 1440x288 with 1 Axes>"
            ]
          },
          "metadata": {
            "tags": [],
            "needs_background": "light"
          }
        }
      ]
    },
    {
      "cell_type": "code",
      "metadata": {
        "colab": {
          "base_uri": "https://localhost:8080/",
          "height": 285
        },
        "id": "t60-RZJYkQ1x",
        "outputId": "3dd5909f-387a-421b-ae9a-260ff3f7e7bb"
      },
      "source": [
        "plt.figure( figsize=(20,4))\n",
        "plot = sns.lineplot(x=\"Countries\", y=\"Sales workers and services workers\", data=data_job, hue='Tahun')"
      ],
      "execution_count": null,
      "outputs": [
        {
          "output_type": "display_data",
          "data": {
            "image/png": "[encoded data removed]",
            "text/plain": [
              "<Figure size 1440x288 with 1 Axes>"
            ]
          },
          "metadata": {
            "tags": [],
            "needs_background": "light"
          }
        }
      ]
    },
    {
      "cell_type": "code",
      "metadata": {
        "colab": {
          "base_uri": "https://localhost:8080/",
          "height": 495
        },
        "id": "UPqZwfD-kx-u",
        "outputId": "71251ded-5d3e-4a25-e980-80063f82ecd9"
      },
      "source": [
        "plt.figure( figsize=(20,4))\n",
        "plot = sns.lineplot(x=\"Countries\", y=\"Agricultural, animal husbandry and forestry workers; fishermen and hunters \", data=data_job, hue='Tahun')"
      ],
      "execution_count": null,
      "outputs": [
        {
          "output_type": "display_data",
          "data": {
            "image/png": "[encoded data removed]",
            "text/plain": [
              "<Figure size 1440x288 with 1 Axes>"
            ]
          },
          "metadata": {
            "tags": [],
            "needs_background": "light"
          }
        }
      ]
    },
    {
      "cell_type": "code",
      "metadata": {
        "colab": {
          "base_uri": "https://localhost:8080/",
          "height": 501
        },
        "id": "JsJOUvWdlFAc",
        "outputId": "61b259a1-0ee5-41df-f499-012a9443cccc"
      },
      "source": [
        "plt.figure( figsize=(20,4))\n",
        "plot = sns.lineplot(x=\"Countries\", y=\"Production and related workers, transport equipment operators and labourers\", data=data_job, hue='Tahun')"
      ],
      "execution_count": null,
      "outputs": [
        {
          "output_type": "display_data",
          "data": {
            "image/png": "[encoded data removed]",
            "text/plain": [
              "<Figure size 1440x288 with 1 Axes>"
            ]
          },
          "metadata": {
            "tags": [],
            "needs_background": "light"
          }
        }
      ]
    },
    {
      "cell_type": "code",
      "metadata": {
        "colab": {
          "base_uri": "https://localhost:8080/",
          "height": 284
        },
        "id": "NzDnUxTAlPYa",
        "outputId": "65246bdd-5379-40ef-b078-555affa71488"
      },
      "source": [
        "plt.figure( figsize=(20,4))\n",
        "plot = sns.lineplot(x=\"Countries\", y=\"Others\", data=data_job, hue='Tahun')"
      ],
      "execution_count": null,
      "outputs": [
        {
          "output_type": "display_data",
          "data": {
            "image/png": "[encoded data removed]",
            "text/plain": [
              "<Figure size 1440x288 with 1 Axes>"
            ]
          },
          "metadata": {
            "tags": [],
            "needs_background": "light"
          }
        }
      ]
    },
    {
      "cell_type": "markdown",
      "metadata": {
        "id": "jppPjY5eq4c2"
      },
      "source": [
        "# Data Penganggurang Orang Dewasa (Adult Unemployment)"
      ]
    },
    {
      "cell_type": "code",
      "metadata": {
        "id": "BQIGvaNogLy_"
      },
      "source": [
        "#Mengimport data pengangguuran dewasa di ASEAN\n",
        "data_adultune = pd.read_csv('/content/Data/adult unemployment.csv')"
      ],
      "execution_count": null,
      "outputs": []
    },
    {
      "cell_type": "code",
      "metadata": {
        "id": "WaTqzgtAgc6l"
      },
      "source": [
        "data_adultune.head()"
      ],
      "execution_count": null,
      "outputs": []
    },
    {
      "cell_type": "code",
      "metadata": {
        "id": "noiwGmQbjGXS"
      },
      "source": [
        "data_adultune.columns"
      ],
      "execution_count": null,
      "outputs": []
    },
    {
      "cell_type": "code",
      "metadata": {
        "id": "6yv1MfYskGzo"
      },
      "source": [
        "data_adultune.drop('Source ', axis=1, inplace=True)"
      ],
      "execution_count": null,
      "outputs": []
    },
    {
      "cell_type": "markdown",
      "metadata": {
        "id": "QO86f7Hcnl6a"
      },
      "source": [
        "## Memisahkan antar data pengangguran laki-laki dan perempuan"
      ]
    },
    {
      "cell_type": "markdown",
      "metadata": {
        "id": "5MUFv-vtnei6"
      },
      "source": [
        "### Data Pengangguran Laki-Laki"
      ]
    },
    {
      "cell_type": "code",
      "metadata": {
        "id": "RowkbkY72bCk"
      },
      "source": [
        "data_adultune_male=data_adultune[['Countries','2004M','2005M','2006M','2007M','2008M','2009M','2010M','2011M','2012M','2013M','2014M']]"
      ],
      "execution_count": null,
      "outputs": []
    },
    {
      "cell_type": "code",
      "metadata": {
        "id": "5N8R8taD4RJq"
      },
      "source": [
        "data_adultune_male=data_adultune_male.rename(columns={'2004M':'2004','2005M':'2005','2006M':'2006','2007M':'2007','2008M':'2008','2009M':'2009',\\\n",
        "                                   '2010M':'2010','2011M':'2011','2012M':'2012','2013M':'2013','2014M':'2014'})"
      ],
      "execution_count": null,
      "outputs": []
    },
    {
      "cell_type": "code",
      "metadata": {
        "id": "ci66lhyvnzaB"
      },
      "source": [
        "#Untuk mengetahu tipe data pada dataset data_adultune_male\n",
        "data_adultune_male.dtypes"
      ],
      "execution_count": null,
      "outputs": []
    },
    {
      "cell_type": "code",
      "metadata": {
        "id": "WAKYopRGqxup"
      },
      "source": [
        "#Untuk mengetahui missing value\n",
        "print(data_adultune_male.isnull().sum())"
      ],
      "execution_count": null,
      "outputs": []
    },
    {
      "cell_type": "code",
      "metadata": {
        "id": "_K0Acp2lxLUI"
      },
      "source": [
        "#Mengimputasi missing value dengan menggunakan mean atau median\n",
        "data_adultune_male['2004'].fillna(data_adultune_male['2004'].median(),inplace=True)\n",
        "data_adultune_male['2005'].fillna(data_adultune_male['2005'].mean(),inplace=True)\n",
        "data_adultune_male['2006'].fillna(data_adultune_male['2006'].mean(),inplace=True)\n",
        "data_adultune_male['2006'].fillna(data_adultune_male['2006'].mean(),inplace=True)\n",
        "data_adultune_male['2007'].fillna(data_adultune_male['2007'].median(),inplace=True)\n",
        "data_adultune_male['2008'].fillna(data_adultune_male['2008'].median(),inplace=True)\n",
        "data_adultune_male['2009'].fillna(data_adultune_male['2009'].mean(),inplace=True)\n",
        "data_adultune_male['2011'].fillna(data_adultune_male['2011'].median(),inplace=True)\n",
        "data_adultune_male['2012'].fillna(data_adultune_male['2012'].mean(),inplace=True)\n",
        "data_adultune_male['2013'].fillna(data_adultune_male['2013'].median(),inplace=True)\n",
        "data_adultune_male['2014'].fillna(data_adultune_male['2014'].median(),inplace=True)"
      ],
      "execution_count": null,
      "outputs": []
    },
    {
      "cell_type": "markdown",
      "metadata": {
        "id": "QzEf76U3oZwa"
      },
      "source": [
        "Mengimputasi missing value dapat dilakukan dengan berbagai cara, salah satunya dengan ***univariate imputation*** dengan menggunakan median, mean maupun modus. Data missing value yang diimputasi dengan menggunakan median maupun meann dikarenakan data numerik. Data yang berdistribusi skewed ke kiri maupun kanan diimputasi dengan menggunakan median, sedangkan sisanya diimputasi menggunakan mean."
      ]
    },
    {
      "cell_type": "code",
      "metadata": {
        "id": "JeuhEcwf4lYJ"
      },
      "source": [
        "print(data_adultune_male.isnull().sum())"
      ],
      "execution_count": null,
      "outputs": []
    },
    {
      "cell_type": "code",
      "metadata": {
        "id": "Gi9jNpnv6OKX"
      },
      "source": [
        "data_adultune_male"
      ],
      "execution_count": null,
      "outputs": []
    },
    {
      "cell_type": "code",
      "metadata": {
        "id": "o6HnpQZM4-sR"
      },
      "source": [
        "data_adultune_male.rename(index=lambda x: data_adultune_male.at[x,'Countries'], inplace=True)\n",
        "data_adultune_male= data_adultune_male.transpose()"
      ],
      "execution_count": null,
      "outputs": []
    },
    {
      "cell_type": "code",
      "metadata": {
        "id": "EMK7wMwEAlkK"
      },
      "source": [
        "data_adultune_male = data_adultune_male.drop(['Countries'])\n",
        "df1 = data_adultune_male.loc[(data_adultune_male != 0).any(1)]\n",
        "df1.index = pd.to_datetime(df1.index)"
      ],
      "execution_count": null,
      "outputs": []
    },
    {
      "cell_type": "code",
      "metadata": {
        "id": "v9Fv1r99DeVm"
      },
      "source": [
        "df1"
      ],
      "execution_count": null,
      "outputs": []
    },
    {
      "cell_type": "code",
      "metadata": {
        "id": "vIpCpjgH7Tn3"
      },
      "source": [
        "p = df1.plot(subplots=True, figsize=(20,15))"
      ],
      "execution_count": null,
      "outputs": []
    },
    {
      "cell_type": "code",
      "metadata": {
        "id": "K8QApXTQopJ2"
      },
      "source": [
        "#Menambahkan Kolom jenis kelamin\n",
        "df1['Jenis Kelamin']='Laki-laki'"
      ],
      "execution_count": null,
      "outputs": []
    },
    {
      "cell_type": "code",
      "metadata": {
        "id": "lJry_3zSo5q-"
      },
      "source": [
        "df1.head()"
      ],
      "execution_count": null,
      "outputs": []
    },
    {
      "cell_type": "code",
      "metadata": {
        "id": "X9n5MeB6sV7y"
      },
      "source": [
        "data_male = df1"
      ],
      "execution_count": null,
      "outputs": []
    },
    {
      "cell_type": "code",
      "metadata": {
        "id": "H3wmv-55saCW"
      },
      "source": [
        "data_male['Tahun'] = ['2004','2005','2006','2007','2008','2009','2010','2011','2012','2013','2014']"
      ],
      "execution_count": null,
      "outputs": []
    },
    {
      "cell_type": "code",
      "metadata": {
        "id": "u-5BfXIJwbxv"
      },
      "source": [
        "data_male['Brunei Darussalam']=data_male['Brunei Darussalam'].astype('float64')\n",
        "data_male['Cambodia']=data_male['Cambodia'].astype('float64')\n",
        "data_male['Indonesia ']=data_male['Indonesia '].astype('float64')\n",
        "data_male[\"Lao's PDR\"]=data_male[\"Lao's PDR\"].astype('float64')\n",
        "data_male[\"Malaysia \"]=data_male[\"Malaysia \"].astype('float64')\n",
        "data_male[\"Myanmar\"]=data_male[\"Myanmar\"].astype('float64')\n",
        "data_male[\"Philippines\"]=data_male[\"Philippines\"].astype('float64')\n",
        "data_male[\"Singapore\"]=data_male[\"Singapore\"].astype('float64')\n",
        "data_male[\"Thailand\"]=data_male[\"Thailand\"].astype('float64')\n",
        "data_male[\"Viet Nam\"]=data_male[\"Viet Nam\"].astype('float64')\n",
        "data_male[\"Jenis Kelamin\"]=data_male[\"Jenis Kelamin\"].astype('category')\n",
        "data_male['Tahun']=data_male['Tahun'].astype('datetime64')"
      ],
      "execution_count": null,
      "outputs": []
    },
    {
      "cell_type": "code",
      "metadata": {
        "id": "p1BETOGAsiZu"
      },
      "source": [
        "col1 = data_male.columns.tolist()"
      ],
      "execution_count": null,
      "outputs": []
    },
    {
      "cell_type": "code",
      "metadata": {
        "id": "yi33fSpXslId"
      },
      "source": [
        "col1 = col1[-1:] + col1[:-1]"
      ],
      "execution_count": null,
      "outputs": []
    },
    {
      "cell_type": "code",
      "metadata": {
        "id": "T7MTnopvsm1Q"
      },
      "source": [
        "data_male=data_male[col1]"
      ],
      "execution_count": null,
      "outputs": []
    },
    {
      "cell_type": "code",
      "metadata": {
        "id": "AM-L66_Fs45x"
      },
      "source": [
        "data_male= data_male.set_index(['Tahun'])"
      ],
      "execution_count": null,
      "outputs": []
    },
    {
      "cell_type": "code",
      "metadata": {
        "id": "QkddiZNJsn4C"
      },
      "source": [
        "data_male.head()"
      ],
      "execution_count": null,
      "outputs": []
    },
    {
      "cell_type": "markdown",
      "metadata": {
        "id": "ewo8xPfEbvIb"
      },
      "source": [
        "### Data Female Adult Unemployment"
      ]
    },
    {
      "cell_type": "code",
      "metadata": {
        "id": "OnDrlB3v2aCZ"
      },
      "source": [
        "data_adultune_female = data_adultune[['Countries','2004F','2005F','2006F','2007F','2008F','2009F','2010F','2011F','2012F','2013F','2014F']]"
      ],
      "execution_count": null,
      "outputs": []
    },
    {
      "cell_type": "code",
      "metadata": {
        "id": "citBokFg1gGS"
      },
      "source": [
        "data_adultune_female = data_adultune_female.rename(columns={'2004F':'2004','2005F':'2005','2006F':'2006','2007F':'2007','2008F':'2008','2009F':'2009',\\\n",
        "                                   '2010F':'2010','2011F':'2011','2012F':'2012','2013F':'2013','2014F':'2014'}) "
      ],
      "execution_count": null,
      "outputs": []
    },
    {
      "cell_type": "code",
      "metadata": {
        "id": "d_QaOdR1b9QG"
      },
      "source": [
        "data_adultune_female"
      ],
      "execution_count": null,
      "outputs": []
    },
    {
      "cell_type": "code",
      "metadata": {
        "id": "DJJvVIgStFZg"
      },
      "source": [
        "data_adultune_female.dtypes"
      ],
      "execution_count": null,
      "outputs": []
    },
    {
      "cell_type": "code",
      "metadata": {
        "id": "rH4jPFhdcGr6"
      },
      "source": [
        "#Untuk Mengetahui mising value\n",
        "print(data_adultune_female.isnull().sum())"
      ],
      "execution_count": null,
      "outputs": []
    },
    {
      "cell_type": "code",
      "metadata": {
        "id": "Ui-BQoO3x4rF"
      },
      "source": [
        "#Mengimputasi missing value dengan median atau mean\n",
        "data_adultune_female['2004'].fillna(data_adultune_female['2004'].median(),inplace=True)\n",
        "data_adultune_female['2005'].fillna(data_adultune_female['2005'].mean(),inplace=True)\n",
        "data_adultune_female['2006'].fillna(data_adultune_female['2006'].mean(),inplace=True)\n",
        "data_adultune_female['2007'].fillna(data_adultune_female['2007'].mean(),inplace=True)\n",
        "data_adultune_female['2008'].fillna(data_adultune_female['2008'].mean(),inplace=True)\n",
        "data_adultune_female['2009'].fillna(data_adultune_female['2009'].mean(),inplace=True)\n",
        "data_adultune_female['2011'].fillna(data_adultune_female['2011'].mean(),inplace=True)\n",
        "data_adultune_female['2012'].fillna(data_adultune_female['2012'].mean(),inplace=True)\n",
        "data_adultune_female['2013'].fillna(data_adultune_female['2013'].mean(),inplace=True)\n",
        "data_adultune_female['2014'].fillna(data_adultune_female['2014'].mean(),inplace=True)"
      ],
      "execution_count": null,
      "outputs": []
    },
    {
      "cell_type": "markdown",
      "metadata": {
        "id": "P4opP7GktaGW"
      },
      "source": [
        "Mengimputasi missing value dapat dilakukan dengan berbagai cara, salah satunya dengan ***univariate imputation*** dengan menggunakan median, mean maupun modus. Data missing value yang diimputasi dengan menggunakan median maupun meann dikarenakan data numerik. Data yang berdistribusi skewed ke kiri maupun kanan diimputasi dengan menggunakan median, sedangkan sisanya diimputasi menggunakan mean."
      ]
    },
    {
      "cell_type": "code",
      "metadata": {
        "id": "H8uyZYQBlkWl"
      },
      "source": [
        "p = sns.distplot(data_adultune_female['2014'], kde=True, rug=True)"
      ],
      "execution_count": null,
      "outputs": []
    },
    {
      "cell_type": "code",
      "metadata": {
        "id": "lQ05Aq9RxiuJ"
      },
      "source": [
        "print(data_adultune_female.isnull().sum())"
      ],
      "execution_count": null,
      "outputs": []
    },
    {
      "cell_type": "code",
      "metadata": {
        "id": "qzXyp0kW10an"
      },
      "source": [
        "data_adultune_female.rename(index=lambda x: data_adultune_female.at[x,'Countries'], inplace=True)\n",
        "data_adultune_female= data_adultune_female.transpose()"
      ],
      "execution_count": null,
      "outputs": []
    },
    {
      "cell_type": "code",
      "metadata": {
        "id": "RUptB_y32HEH"
      },
      "source": [
        "data_adultune_female = data_adultune_female.drop(['Countries'])\n",
        "df2 = data_adultune_female.loc[(data_adultune_female != 0).any(1)]\n",
        "df2.index = pd.to_datetime(df2.index)"
      ],
      "execution_count": null,
      "outputs": []
    },
    {
      "cell_type": "code",
      "metadata": {
        "id": "yd-TU2z42XGa"
      },
      "source": [
        "df2"
      ],
      "execution_count": null,
      "outputs": []
    },
    {
      "cell_type": "code",
      "metadata": {
        "id": "QYul1ax32dsV"
      },
      "source": [
        "p = df2.plot(subplots=True, figsize=(20,15))"
      ],
      "execution_count": null,
      "outputs": []
    },
    {
      "cell_type": "code",
      "metadata": {
        "id": "fOhaijbo4IO8"
      },
      "source": [
        "#Menambahkan kolom jenis kelamin\n",
        "df2['Jenis Kelamin']='Perempuan'"
      ],
      "execution_count": null,
      "outputs": []
    },
    {
      "cell_type": "code",
      "metadata": {
        "id": "qsYGfON34nnN"
      },
      "source": [
        "df2.head()"
      ],
      "execution_count": null,
      "outputs": []
    },
    {
      "cell_type": "code",
      "metadata": {
        "id": "E7fSCRp44800"
      },
      "source": [
        "data_female = df2"
      ],
      "execution_count": null,
      "outputs": []
    },
    {
      "cell_type": "code",
      "metadata": {
        "id": "pVIKpsNF5Uo1"
      },
      "source": [
        "data_female['Tahun'] = ['2004','2005','2006','2007','2008','2009','2010','2011','2012','2013','2014']"
      ],
      "execution_count": null,
      "outputs": []
    },
    {
      "cell_type": "code",
      "metadata": {
        "id": "LoJhHm-8yfGq"
      },
      "source": [
        "data_female.dtypes"
      ],
      "execution_count": null,
      "outputs": []
    },
    {
      "cell_type": "code",
      "metadata": {
        "id": "qQ3Fi2CYyosp"
      },
      "source": [
        "data_female['Brunei Darussalam']=data_female['Brunei Darussalam'].astype('float64')\n",
        "data_female['Cambodia']=data_female['Cambodia'].astype('float64')\n",
        "data_female['Indonesia ']=data_female['Indonesia '].astype('float64')\n",
        "data_female[\"Lao's PDR\"]=data_female[\"Lao's PDR\"].astype('float64')\n",
        "data_female[\"Malaysia \"]=data_female[\"Malaysia \"].astype('float64')\n",
        "data_female[\"Myanmar\"]=data_female[\"Myanmar\"].astype('float64')\n",
        "data_female[\"Philippines\"]=data_female[\"Philippines\"].astype('float64')\n",
        "data_female[\"Singapore\"]=data_female[\"Singapore\"].astype('float64')\n",
        "data_female[\"Thailand\"]=data_female[\"Thailand\"].astype('float64')\n",
        "data_female[\"Viet Nam\"]=data_female[\"Viet Nam\"].astype('float64')\n",
        "data_female[\"Jenis Kelamin\"]=data_female[\"Jenis Kelamin\"].astype('category')\n",
        "data_female['Tahun']=data_female['Tahun'].astype('datetime64')"
      ],
      "execution_count": null,
      "outputs": []
    },
    {
      "cell_type": "code",
      "metadata": {
        "id": "ht_diF6zk7mA"
      },
      "source": [
        "col2 = data_female.columns.tolist()"
      ],
      "execution_count": null,
      "outputs": []
    },
    {
      "cell_type": "code",
      "metadata": {
        "id": "rPEpIIDjlI7R"
      },
      "source": [
        "col2 = col2[-1:] + col2[:-1]"
      ],
      "execution_count": null,
      "outputs": []
    },
    {
      "cell_type": "code",
      "metadata": {
        "id": "W6uBaIpelPHO"
      },
      "source": [
        "col2"
      ],
      "execution_count": null,
      "outputs": []
    },
    {
      "cell_type": "code",
      "metadata": {
        "id": "ng1wFR8klR_V"
      },
      "source": [
        "data_female = data_female[col2]"
      ],
      "execution_count": null,
      "outputs": []
    },
    {
      "cell_type": "code",
      "metadata": {
        "id": "8nmnzMX0lrju"
      },
      "source": [
        "data_female= data_female.set_index(['Tahun'])"
      ],
      "execution_count": null,
      "outputs": []
    },
    {
      "cell_type": "code",
      "metadata": {
        "id": "QS0zcxnXuZg2"
      },
      "source": [
        "data_female.head()"
      ],
      "execution_count": null,
      "outputs": []
    },
    {
      "cell_type": "markdown",
      "metadata": {
        "id": "s-47AvxWv1i9"
      },
      "source": [
        "## Menggabungkan dataFrame data_male dan data_female"
      ]
    },
    {
      "cell_type": "code",
      "metadata": {
        "id": "bMKi8kBM5daO"
      },
      "source": [
        "data = pd.concat([data_male,data_female])"
      ],
      "execution_count": null,
      "outputs": []
    },
    {
      "cell_type": "code",
      "metadata": {
        "id": "tXs2V_mtnakt"
      },
      "source": [
        "data"
      ],
      "execution_count": null,
      "outputs": []
    },
    {
      "cell_type": "code",
      "metadata": {
        "id": "bIYpMaEro2wJ"
      },
      "source": [
        "data.sort_values(by='Tahun')"
      ],
      "execution_count": null,
      "outputs": []
    },
    {
      "cell_type": "code",
      "metadata": {
        "id": "mHNANgIg3_ml"
      },
      "source": [
        "data.dtypes"
      ],
      "execution_count": null,
      "outputs": []
    },
    {
      "cell_type": "code",
      "metadata": {
        "id": "_o5CyUGwpDow"
      },
      "source": [
        "data['Indonesia '].plot(figsize=(12,6))"
      ],
      "execution_count": null,
      "outputs": []
    },
    {
      "cell_type": "markdown",
      "metadata": {
        "id": "6JIm4MMdxv7Q"
      },
      "source": [
        "# Modelling Menggunakan ARIMA"
      ]
    },
    {
      "cell_type": "markdown",
      "metadata": {
        "id": "P5fEVM9Ax9_c"
      },
      "source": [
        "## Memprediksi tingkat pengangguran di Negara Indoenesia berdasarkan Gender (Laki-Laki) dan Perempuan"
      ]
    },
    {
      "cell_type": "markdown",
      "metadata": {
        "id": "M9qn-7QAygeP"
      },
      "source": [
        "### 1. DataFrame data_male"
      ]
    },
    {
      "cell_type": "code",
      "metadata": {
        "id": "WIns3d1QpNHs"
      },
      "source": [
        "from statsmodels.tsa.stattools import adfuller\n",
        "def ad_test(dataset):\n",
        "  dftest=adfuller(dataset, autolag = 'AIC')\n",
        "  print('1. ADF : ',dftest[0])\n",
        "  print('2. P-Value : ',dftest[1])\n",
        "  print('3. Num of lag : ',dftest[2])\n",
        "  print('4. Num of Observation Used for ADF Regression and Critical Values Calculation : ',dftest[3])\n",
        "  print('5. Critical Values : ')\n",
        "  for key, val in dftest[4].items():\n",
        "    print(\"\\t\", key, \":\", val)"
      ],
      "execution_count": null,
      "outputs": []
    },
    {
      "cell_type": "code",
      "metadata": {
        "id": "jol8mbRDYWFQ"
      },
      "source": [
        "data_male['Indonesia '].plot(figsize=(12,6))"
      ],
      "execution_count": null,
      "outputs": []
    },
    {
      "cell_type": "code",
      "metadata": {
        "id": "pfdPxTbXvE5D"
      },
      "source": [
        "ad_test(data_male['Indonesia '])"
      ],
      "execution_count": null,
      "outputs": []
    },
    {
      "cell_type": "code",
      "metadata": {
        "id": "bb3MB-nWy0Md"
      },
      "source": [
        "pip install pmdarima"
      ],
      "execution_count": null,
      "outputs": []
    },
    {
      "cell_type": "code",
      "metadata": {
        "id": "qMXO9qBsvKvz"
      },
      "source": [
        "from pmdarima import auto_arima"
      ],
      "execution_count": null,
      "outputs": []
    },
    {
      "cell_type": "code",
      "metadata": {
        "id": "MF3gfolhv_6J"
      },
      "source": [
        "stepwise_fit = auto_arima(data_male['Indonesia '], trace = True, suppress_warnings=True)\n",
        "stepwise_fit.summary()"
      ],
      "execution_count": null,
      "outputs": []
    },
    {
      "cell_type": "code",
      "metadata": {
        "id": "wCSFxLv7wUzz"
      },
      "source": [
        "from statsmodels.tsa.arima_model import ARIMA "
      ],
      "execution_count": null,
      "outputs": []
    },
    {
      "cell_type": "code",
      "metadata": {
        "id": "fOhvMB_q0emb"
      },
      "source": [
        "print(data_male.shape)\n",
        "train = data_male.iloc[:8]\n",
        "test = data_male.iloc[8:]\n",
        "print(train.shape, test.shape)"
      ],
      "execution_count": null,
      "outputs": []
    },
    {
      "cell_type": "code",
      "metadata": {
        "id": "8bb3b2gK3fyo"
      },
      "source": [
        "train"
      ],
      "execution_count": null,
      "outputs": []
    },
    {
      "cell_type": "code",
      "metadata": {
        "id": "z950kn0930Hx"
      },
      "source": [
        "train.info()"
      ],
      "execution_count": null,
      "outputs": []
    },
    {
      "cell_type": "code",
      "metadata": {
        "id": "dz7Gjbo_1G9I"
      },
      "source": [
        "model = ARIMA(train['Indonesia '],order=(0,1,0))\n",
        "model = model.fit()\n",
        "model.summary()"
      ],
      "execution_count": null,
      "outputs": []
    },
    {
      "cell_type": "code",
      "metadata": {
        "id": "lbA38kQy23NM"
      },
      "source": [
        "start = len(train)\n",
        "end = len(train)+len(test)-1\n",
        "pred = model.predict(start=start, end=end, typ='levels')\n",
        "pred.index=data_male.index[start:end+1]\n",
        "print(pred)"
      ],
      "execution_count": null,
      "outputs": []
    },
    {
      "cell_type": "code",
      "metadata": {
        "id": "8jYIx843BXH7"
      },
      "source": [
        "pred.plot(legend=True)\n",
        "test['Indonesia '].plot(legend=True)"
      ],
      "execution_count": null,
      "outputs": []
    },
    {
      "cell_type": "code",
      "metadata": {
        "id": "Dgl2yiqLCiC3"
      },
      "source": [
        "test['Indonesia '].mean()"
      ],
      "execution_count": null,
      "outputs": []
    },
    {
      "cell_type": "code",
      "metadata": {
        "id": "4tOV2QLJC_da"
      },
      "source": [
        "from sklearn.metrics import mean_squared_error\n",
        "from math import sqrt\n",
        "rmse = sqrt(mean_squared_error(pred, test['Indonesia ']))\n",
        "print(rmse)"
      ],
      "execution_count": null,
      "outputs": []
    },
    {
      "cell_type": "code",
      "metadata": {
        "id": "Ea1zxEUDDXJN"
      },
      "source": [
        "model2 = ARIMA(data_male['Indonesia '],order=(0,1,0))\n",
        "model2=model2.fit()\n",
        "data_male.tail()"
      ],
      "execution_count": null,
      "outputs": []
    },
    {
      "cell_type": "code",
      "metadata": {
        "id": "WmStcp2jEx0u"
      },
      "source": [
        "pred=model2.predict(start=len(data_male), end=len(data_male)+30, typ='levels').rename('ARIMA Prediction')"
      ],
      "execution_count": null,
      "outputs": []
    },
    {
      "cell_type": "code",
      "metadata": {
        "id": "0YEpHVcuFpza"
      },
      "source": [
        "pred"
      ],
      "execution_count": null,
      "outputs": []
    },
    {
      "cell_type": "code",
      "metadata": {
        "id": "NcXY0KYuFsnu"
      },
      "source": [
        "pred.plot(figsize=(12,5),legend=True)"
      ],
      "execution_count": null,
      "outputs": []
    },
    {
      "cell_type": "markdown",
      "metadata": {
        "id": "vt6yzUOh14kv"
      },
      "source": [
        "### 2. DataFrame data_female"
      ]
    },
    {
      "cell_type": "code",
      "metadata": {
        "id": "82-UxEu7zal2"
      },
      "source": [
        "data_female['Indonesia '].plot(figsize=(12,6))"
      ],
      "execution_count": null,
      "outputs": []
    },
    {
      "cell_type": "code",
      "metadata": {
        "id": "3fFcsWvfziwJ"
      },
      "source": [
        "ad_test(data_female['Indonesia '])"
      ],
      "execution_count": null,
      "outputs": []
    },
    {
      "cell_type": "code",
      "metadata": {
        "id": "OjEgIGmwzrBJ"
      },
      "source": [
        "stepwise_fit = auto_arima(data_female['Indonesia '], trace = True, suppress_warnings=True)\n",
        "stepwise_fit.summary()"
      ],
      "execution_count": null,
      "outputs": []
    },
    {
      "cell_type": "code",
      "metadata": {
        "id": "ldH7oUcGzy1r"
      },
      "source": [
        "print(data_female.shape)\n",
        "train1 = data_female.iloc[:8]\n",
        "test1 = data_female.iloc[8:]\n",
        "print(train.shape, test.shape)"
      ],
      "execution_count": null,
      "outputs": []
    },
    {
      "cell_type": "code",
      "metadata": {
        "id": "vHwqv-G30MqG"
      },
      "source": [
        "train"
      ],
      "execution_count": null,
      "outputs": []
    },
    {
      "cell_type": "code",
      "metadata": {
        "id": "iCoAUzhbz9CT"
      },
      "source": [
        "model3 = ARIMA(train['Indonesia '],order=(0,1,0))\n",
        "model3 = model3.fit()\n",
        "model3.summary()"
      ],
      "execution_count": null,
      "outputs": []
    },
    {
      "cell_type": "code",
      "metadata": {
        "id": "KFnnSoEG0IqN"
      },
      "source": [
        "start = len(train1)\n",
        "end = len(train1)+len(test1)-1\n",
        "pred1 = model3.predict(start=start, end=end, typ='levels')\n",
        "pred1.index=data_female.index[start:end+1]\n",
        "print(pred1)"
      ],
      "execution_count": null,
      "outputs": []
    },
    {
      "cell_type": "code",
      "metadata": {
        "id": "xU7qA52G0iho"
      },
      "source": [
        "pred1.plot(legend=True)\n",
        "test1['Indonesia '].plot(legend=True)"
      ],
      "execution_count": null,
      "outputs": []
    },
    {
      "cell_type": "code",
      "metadata": {
        "id": "nrR85x0s0rRd"
      },
      "source": [
        "test1['Indonesia '].mean()"
      ],
      "execution_count": null,
      "outputs": []
    },
    {
      "cell_type": "code",
      "metadata": {
        "id": "e8KJEK4V0yzG"
      },
      "source": [
        "rmse = sqrt(mean_squared_error(pred1, test1['Indonesia ']))\n",
        "print(rmse)"
      ],
      "execution_count": null,
      "outputs": []
    },
    {
      "cell_type": "code",
      "metadata": {
        "id": "KVKgHkUy07VH"
      },
      "source": [
        "model4 = ARIMA(data_female['Indonesia '],order=(0,1,0))\n",
        "model4=model4.fit()\n",
        "data_female.tail()"
      ],
      "execution_count": null,
      "outputs": []
    },
    {
      "cell_type": "code",
      "metadata": {
        "id": "1DUdoAqW1EfR"
      },
      "source": [
        "pred1=model4.predict(start=len(data_female), end=len(data_female)+30, typ='levels').rename('ARIMA Prediction')"
      ],
      "execution_count": null,
      "outputs": []
    },
    {
      "cell_type": "code",
      "metadata": {
        "id": "gkR_FH5F1Zii"
      },
      "source": [
        "pred1"
      ],
      "execution_count": null,
      "outputs": []
    },
    {
      "cell_type": "code",
      "metadata": {
        "id": "FdNe__E31a7Z"
      },
      "source": [
        "pred1.plot(figsize=(12,6),legend=True)"
      ],
      "execution_count": null,
      "outputs": []
    },
    {
      "cell_type": "code",
      "metadata": {
        "id": "YPfoekKC1oTs"
      },
      "source": [
        ""
      ],
      "execution_count": null,
      "outputs": []
    }
  ]
}